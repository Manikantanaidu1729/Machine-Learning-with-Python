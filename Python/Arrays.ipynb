{
 "cells": [
  {
   "cell_type": "code",
   "execution_count": 2,
   "id": "2101474f",
   "metadata": {},
   "outputs": [],
   "source": [
    "from array import *"
   ]
  },
  {
   "cell_type": "code",
   "execution_count": 3,
   "id": "a33d60e5",
   "metadata": {},
   "outputs": [],
   "source": [
    "array1=array(\"I\",[2,4,4,33,3,253])   # this big \"I\" belongs to unsigned int"
   ]
  },
  {
   "cell_type": "code",
   "execution_count": 4,
   "id": "107af8ac",
   "metadata": {},
   "outputs": [
    {
     "data": {
      "text/plain": [
       "array('I', [2, 4, 4, 33, 3, 253])"
      ]
     },
     "execution_count": 4,
     "metadata": {},
     "output_type": "execute_result"
    }
   ],
   "source": [
    "array1"
   ]
  },
  {
   "cell_type": "code",
   "execution_count": 5,
   "id": "c81fdf16",
   "metadata": {},
   "outputs": [],
   "source": [
    "array2=array(\"i\",[2,-4,4,33,3,253])  # this small \"i\" belongs to signed int"
   ]
  },
  {
   "cell_type": "code",
   "execution_count": 6,
   "id": "e9fa4625",
   "metadata": {},
   "outputs": [
    {
     "data": {
      "text/plain": [
       "array('i', [2, -4, 4, 33, 3, 253])"
      ]
     },
     "execution_count": 6,
     "metadata": {},
     "output_type": "execute_result"
    }
   ],
   "source": [
    "array2"
   ]
  },
  {
   "cell_type": "code",
   "execution_count": 7,
   "id": "a732e348",
   "metadata": {},
   "outputs": [
    {
     "data": {
      "text/plain": [
       "(2962214798800, 6)"
      ]
     },
     "execution_count": 7,
     "metadata": {},
     "output_type": "execute_result"
    }
   ],
   "source": [
    "array2.buffer_info()  # in output the first parameter is address and second parameter is size of the element"
   ]
  },
  {
   "cell_type": "code",
   "execution_count": 8,
   "id": "611365e2",
   "metadata": {},
   "outputs": [
    {
     "data": {
      "text/plain": [
       "'i'"
      ]
     },
     "execution_count": 8,
     "metadata": {},
     "output_type": "execute_result"
    }
   ],
   "source": [
    "array2.typecode"
   ]
  },
  {
   "cell_type": "code",
   "execution_count": 9,
   "id": "241d1684",
   "metadata": {},
   "outputs": [],
   "source": [
    "array2.reverse()"
   ]
  },
  {
   "cell_type": "code",
   "execution_count": 10,
   "id": "5053a497",
   "metadata": {},
   "outputs": [
    {
     "data": {
      "text/plain": [
       "array('i', [253, 3, 33, 4, -4, 2])"
      ]
     },
     "execution_count": 10,
     "metadata": {},
     "output_type": "execute_result"
    }
   ],
   "source": [
    "array2"
   ]
  },
  {
   "cell_type": "code",
   "execution_count": 11,
   "id": "4d9254eb",
   "metadata": {},
   "outputs": [
    {
     "data": {
      "text/plain": [
       "33"
      ]
     },
     "execution_count": 11,
     "metadata": {},
     "output_type": "execute_result"
    }
   ],
   "source": [
    "array2[2]"
   ]
  },
  {
   "cell_type": "code",
   "execution_count": 12,
   "id": "f982d7c9",
   "metadata": {},
   "outputs": [
    {
     "name": "stdout",
     "output_type": "stream",
     "text": [
      "253  3  33  4  -4  2  "
     ]
    }
   ],
   "source": [
    "for i in range(len(array2)):\n",
    "    print(array2[i],end=\"  \")"
   ]
  },
  {
   "cell_type": "code",
   "execution_count": 13,
   "id": "727e93a2",
   "metadata": {},
   "outputs": [
    {
     "name": "stdout",
     "output_type": "stream",
     "text": [
      "253  3  33  4  -4  2  "
     ]
    }
   ],
   "source": [
    "for i in array2:\n",
    "    print(i, end=\"  \")"
   ]
  },
  {
   "cell_type": "code",
   "execution_count": 14,
   "id": "71390c5d",
   "metadata": {},
   "outputs": [
    {
     "data": {
      "text/plain": [
       "array('u', 'amu')"
      ]
     },
     "execution_count": 14,
     "metadata": {},
     "output_type": "execute_result"
    }
   ],
   "source": [
    "array3=array(\"u\",[\"a\",\"m\",\"u\"])\n",
    "array3"
   ]
  },
  {
   "cell_type": "markdown",
   "id": "6ece2395",
   "metadata": {},
   "source": [
    "# copying the array"
   ]
  },
  {
   "cell_type": "code",
   "execution_count": 31,
   "id": "8f0b5c9b",
   "metadata": {},
   "outputs": [
    {
     "name": "stdout",
     "output_type": "stream",
     "text": [
      "253  3  33  4  -4  2  "
     ]
    }
   ],
   "source": [
    "newArr=array(array2.typecode,[a for a in array2])\n",
    "for m in newArr:\n",
    "    print(m,end=\"  \")"
   ]
  },
  {
   "cell_type": "code",
   "execution_count": 32,
   "id": "2ceec9f8",
   "metadata": {},
   "outputs": [
    {
     "data": {
      "text/plain": [
       "array('i', [253, 3, 33, 4, -4, 2])"
      ]
     },
     "execution_count": 32,
     "metadata": {},
     "output_type": "execute_result"
    }
   ],
   "source": [
    "array2"
   ]
  },
  {
   "cell_type": "code",
   "execution_count": 33,
   "id": "14cb17c5",
   "metadata": {},
   "outputs": [
    {
     "data": {
      "text/plain": [
       "array('i', [253, 3, 33, 4, -4, 2])"
      ]
     },
     "execution_count": 33,
     "metadata": {},
     "output_type": "execute_result"
    }
   ],
   "source": [
    "newArr"
   ]
  },
  {
   "cell_type": "markdown",
   "id": "4862d1c4",
   "metadata": {},
   "source": [
    "# Array values from user"
   ]
  },
  {
   "cell_type": "code",
   "execution_count": 27,
   "id": "1797886e",
   "metadata": {},
   "outputs": [],
   "source": [
    "arr = array(\"i\",[])"
   ]
  },
  {
   "cell_type": "code",
   "execution_count": 28,
   "id": "1cb126c3",
   "metadata": {},
   "outputs": [
    {
     "name": "stdout",
     "output_type": "stream",
     "text": [
      "Enter the length of the array: 2\n",
      "Enter the next element: 1\n",
      "Enter the next element: 2\n",
      "1\n",
      "2\n"
     ]
    },
    {
     "data": {
      "text/plain": [
       "array('i', [1, 2])"
      ]
     },
     "execution_count": 28,
     "metadata": {},
     "output_type": "execute_result"
    }
   ],
   "source": [
    "n = int(input(\"Enter the length of the array: \"))\n",
    "for i in range(n):\n",
    "    x=int(input(\"Enter the next element: \"))\n",
    "    arr.append(x)\n",
    "for i in arr:\n",
    "    print(i)\n",
    "arr"
   ]
  },
  {
   "cell_type": "code",
   "execution_count": 30,
   "id": "ae98c15e",
   "metadata": {},
   "outputs": [
    {
     "name": "stdout",
     "output_type": "stream",
     "text": [
      "0\n"
     ]
    }
   ],
   "source": [
    "print(arr.index(1))"
   ]
  },
  {
   "cell_type": "code",
   "execution_count": 35,
   "id": "318f0254",
   "metadata": {},
   "outputs": [],
   "source": [
    "# array library doesn't support multi dimensional array\n",
    "# so we use numpy library"
   ]
  },
  {
   "cell_type": "code",
   "execution_count": 36,
   "id": "badd458d",
   "metadata": {},
   "outputs": [
    {
     "ename": "TypeError",
     "evalue": "an integer is required (got type list)",
     "output_type": "error",
     "traceback": [
      "\u001b[1;31m---------------------------------------------------------------------------\u001b[0m",
      "\u001b[1;31mTypeError\u001b[0m                                 Traceback (most recent call last)",
      "\u001b[1;32m<ipython-input-36-a581b4698432>\u001b[0m in \u001b[0;36m<module>\u001b[1;34m\u001b[0m\n\u001b[1;32m----> 1\u001b[1;33m \u001b[0marr1\u001b[0m\u001b[1;33m=\u001b[0m\u001b[0marray\u001b[0m\u001b[1;33m(\u001b[0m\u001b[1;34m\"i\"\u001b[0m\u001b[1;33m,\u001b[0m\u001b[1;33m[\u001b[0m\u001b[1;33m[\u001b[0m\u001b[1;36m1\u001b[0m\u001b[1;33m,\u001b[0m\u001b[1;36m2\u001b[0m\u001b[1;33m,\u001b[0m\u001b[1;36m3\u001b[0m\u001b[1;33m]\u001b[0m\u001b[1;33m,\u001b[0m\u001b[1;33m[\u001b[0m\u001b[1;36m4\u001b[0m\u001b[1;33m,\u001b[0m\u001b[1;36m556\u001b[0m\u001b[1;33m]\u001b[0m\u001b[1;33m]\u001b[0m\u001b[1;33m)\u001b[0m\u001b[1;33m\u001b[0m\u001b[1;33m\u001b[0m\u001b[0m\n\u001b[0m",
      "\u001b[1;31mTypeError\u001b[0m: an integer is required (got type list)"
     ]
    }
   ],
   "source": [
    "arr1=array(\"i\",[[1,2,3],[4,556]])"
   ]
  },
  {
   "cell_type": "code",
   "execution_count": 40,
   "id": "fe9ab139",
   "metadata": {},
   "outputs": [
    {
     "data": {
      "text/plain": [
       "array([1, 2, 3, 3])"
      ]
     },
     "execution_count": 40,
     "metadata": {},
     "output_type": "execute_result"
    }
   ],
   "source": [
    "from numpy import *\n",
    "arr2=array([1,2,3,3])\n",
    "arr2"
   ]
  }
 ],
 "metadata": {
  "kernelspec": {
   "display_name": "Python 3",
   "language": "python",
   "name": "python3"
  },
  "language_info": {
   "codemirror_mode": {
    "name": "ipython",
    "version": 3
   },
   "file_extension": ".py",
   "mimetype": "text/x-python",
   "name": "python",
   "nbconvert_exporter": "python",
   "pygments_lexer": "ipython3",
   "version": "3.8.8"
  }
 },
 "nbformat": 4,
 "nbformat_minor": 5
}
