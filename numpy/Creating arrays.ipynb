{
 "cells": [
  {
   "cell_type": "code",
   "execution_count": 54,
   "id": "15fa9e73",
   "metadata": {},
   "outputs": [],
   "source": [
    "from numpy import *"
   ]
  },
  {
   "cell_type": "markdown",
   "id": "6e14f49a",
   "metadata": {},
   "source": [
    "# array method"
   ]
  },
  {
   "cell_type": "code",
   "execution_count": 55,
   "id": "fe96a846",
   "metadata": {},
   "outputs": [
    {
     "data": {
      "text/plain": [
       "array([1, 2, 3, 4])"
      ]
     },
     "execution_count": 55,
     "metadata": {},
     "output_type": "execute_result"
    }
   ],
   "source": [
    "arr1=array([1,2,3,4])\n",
    "arr1"
   ]
  },
  {
   "cell_type": "code",
   "execution_count": 56,
   "id": "1bdced4b",
   "metadata": {},
   "outputs": [
    {
     "data": {
      "text/plain": [
       "array([1., 2., 3., 4.])"
      ]
     },
     "execution_count": 56,
     "metadata": {},
     "output_type": "execute_result"
    }
   ],
   "source": [
    "arr2=array([1,2,3,4],dtype=float)\n",
    "arr2"
   ]
  },
  {
   "cell_type": "markdown",
   "id": "a420f02f",
   "metadata": {},
   "source": [
    "# linspace"
   ]
  },
  {
   "cell_type": "code",
   "execution_count": 57,
   "id": "02c097cc",
   "metadata": {},
   "outputs": [
    {
     "data": {
      "text/plain": [
       "array([0.        , 0.47368421, 0.94736842, 1.42105263, 1.89473684,\n",
       "       2.36842105, 2.84210526, 3.31578947, 3.78947368, 4.26315789,\n",
       "       4.73684211, 5.21052632, 5.68421053, 6.15789474, 6.63157895,\n",
       "       7.10526316, 7.57894737, 8.05263158, 8.52631579, 9.        ])"
      ]
     },
     "execution_count": 57,
     "metadata": {},
     "output_type": "execute_result"
    }
   ],
   "source": [
    "arr3=linspace(0,9,20) # divides the 0 to 9 into 20 divisions\n",
    "arr3"
   ]
  },
  {
   "cell_type": "markdown",
   "id": "0a995b7b",
   "metadata": {},
   "source": [
    "# arange"
   ]
  },
  {
   "cell_type": "code",
   "execution_count": 58,
   "id": "07013f82",
   "metadata": {},
   "outputs": [
    {
     "data": {
      "text/plain": [
       "array([0., 1., 2., 3., 4.])"
      ]
     },
     "execution_count": 58,
     "metadata": {},
     "output_type": "execute_result"
    }
   ],
   "source": [
    "arange(0,4.2)"
   ]
  },
  {
   "cell_type": "code",
   "execution_count": 59,
   "id": "e145b1dd",
   "metadata": {},
   "outputs": [
    {
     "data": {
      "text/plain": [
       "array([0, 1, 2, 3], dtype=int32)"
      ]
     },
     "execution_count": 59,
     "metadata": {},
     "output_type": "execute_result"
    }
   ],
   "source": [
    "arange(0,4,dtype=\"i\")"
   ]
  },
  {
   "cell_type": "code",
   "execution_count": 60,
   "id": "5d600777",
   "metadata": {},
   "outputs": [
    {
     "data": {
      "text/plain": [
       "array([ 1,  3,  5,  7,  9, 11, 13])"
      ]
     },
     "execution_count": 60,
     "metadata": {},
     "output_type": "execute_result"
    }
   ],
   "source": [
    "arr4=arange(1,15,2) # a range function works like normal range funtion\n",
    "arr4"
   ]
  },
  {
   "cell_type": "markdown",
   "id": "9afe732d",
   "metadata": {},
   "source": [
    "# zeros"
   ]
  },
  {
   "cell_type": "code",
   "execution_count": 61,
   "id": "0a752bdc",
   "metadata": {},
   "outputs": [
    {
     "data": {
      "text/plain": [
       "array([0., 0., 0.])"
      ]
     },
     "execution_count": 61,
     "metadata": {},
     "output_type": "execute_result"
    }
   ],
   "source": [
    "arr5=zeros(3)\n",
    "arr5"
   ]
  },
  {
   "cell_type": "code",
   "execution_count": 62,
   "id": "60d58d15",
   "metadata": {},
   "outputs": [
    {
     "data": {
      "text/plain": [
       "array([[0, 0, 0],\n",
       "       [0, 0, 0],\n",
       "       [0, 0, 0]])"
      ]
     },
     "execution_count": 62,
     "metadata": {},
     "output_type": "execute_result"
    }
   ],
   "source": [
    "arr6=zeros((3,3),dtype=int)\n",
    "arr6"
   ]
  },
  {
   "cell_type": "markdown",
   "id": "83343907",
   "metadata": {},
   "source": [
    "# ones"
   ]
  },
  {
   "cell_type": "code",
   "execution_count": 63,
   "id": "c445be62",
   "metadata": {},
   "outputs": [
    {
     "data": {
      "text/plain": [
       "array([[1, 1, 1],\n",
       "       [1, 1, 1],\n",
       "       [1, 1, 1]], dtype=int32)"
      ]
     },
     "execution_count": 63,
     "metadata": {},
     "output_type": "execute_result"
    }
   ],
   "source": [
    "ones((3,3),dtype=\"i\")"
   ]
  },
  {
   "cell_type": "code",
   "execution_count": 134,
   "id": "cf21f305",
   "metadata": {
    "scrolled": true
   },
   "outputs": [
    {
     "data": {
      "text/plain": [
       "array([[1., 1., 1.],\n",
       "       [1., 1., 1.],\n",
       "       [1., 1., 1.]])"
      ]
     },
     "execution_count": 134,
     "metadata": {},
     "output_type": "execute_result"
    }
   ],
   "source": [
    "arr7=ones((3,3))\n",
    "arr7"
   ]
  },
  {
   "cell_type": "markdown",
   "id": "81453ac4",
   "metadata": {},
   "source": [
    "# eye"
   ]
  },
  {
   "cell_type": "code",
   "execution_count": 65,
   "id": "52728b9c",
   "metadata": {},
   "outputs": [
    {
     "data": {
      "text/plain": [
       "array([[1., 0., 0.],\n",
       "       [0., 1., 0.],\n",
       "       [0., 0., 1.]])"
      ]
     },
     "execution_count": 65,
     "metadata": {},
     "output_type": "execute_result"
    }
   ],
   "source": [
    "eye(3)"
   ]
  },
  {
   "cell_type": "code",
   "execution_count": 108,
   "id": "7f6628f6",
   "metadata": {},
   "outputs": [
    {
     "data": {
      "text/plain": [
       "array([[1, 0, 0, 0],\n",
       "       [0, 1, 0, 0],\n",
       "       [0, 0, 1, 0],\n",
       "       [0, 0, 0, 1],\n",
       "       [0, 0, 0, 0]], dtype=int32)"
      ]
     },
     "execution_count": 108,
     "metadata": {},
     "output_type": "execute_result"
    }
   ],
   "source": [
    "eye(5,4,dtype=\"i\")"
   ]
  },
  {
   "cell_type": "markdown",
   "id": "b6c2d506",
   "metadata": {},
   "source": [
    "# empty"
   ]
  },
  {
   "cell_type": "code",
   "execution_count": 110,
   "id": "47f1263e",
   "metadata": {
    "scrolled": true
   },
   "outputs": [
    {
     "data": {
      "text/plain": [
       "array([[8.24936305e-312, 2.47032823e-322, 1.61590357e+184],\n",
       "       [5.64283485e-091, 1.33621713e+165, 2.34085574e-057],\n",
       "       [6.82015948e-038, 3.99910963e+252, 5.82471487e+257]])"
      ]
     },
     "execution_count": 110,
     "metadata": {},
     "output_type": "execute_result"
    }
   ],
   "source": [
    "x=empty((3,3))\n",
    "x"
   ]
  },
  {
   "cell_type": "code",
   "execution_count": 121,
   "id": "3c4ae3fc",
   "metadata": {},
   "outputs": [
    {
     "data": {
      "text/plain": [
       "(3, 3)"
      ]
     },
     "execution_count": 121,
     "metadata": {},
     "output_type": "execute_result"
    }
   ],
   "source": [
    "x.shape[0:]"
   ]
  },
  {
   "cell_type": "code",
   "execution_count": 123,
   "id": "a200a055",
   "metadata": {},
   "outputs": [
    {
     "data": {
      "text/plain": [
       "3"
      ]
     },
     "execution_count": 123,
     "metadata": {},
     "output_type": "execute_result"
    }
   ],
   "source": [
    "x.shape[0]"
   ]
  },
  {
   "cell_type": "code",
   "execution_count": 135,
   "id": "745e3234",
   "metadata": {},
   "outputs": [
    {
     "data": {
      "text/plain": [
       "3"
      ]
     },
     "execution_count": 135,
     "metadata": {},
     "output_type": "execute_result"
    }
   ],
   "source": [
    "x.shape[1]"
   ]
  },
  {
   "cell_type": "code",
   "execution_count": 138,
   "id": "bff56fd5",
   "metadata": {},
   "outputs": [
    {
     "data": {
      "text/plain": [
       "array([[1., 1.],\n",
       "       [1., 1.]])"
      ]
     },
     "execution_count": 138,
     "metadata": {},
     "output_type": "execute_result"
    }
   ],
   "source": [
    "empty((2,2))"
   ]
  },
  {
   "cell_type": "markdown",
   "id": "b3697c9e",
   "metadata": {},
   "source": [
    "# numerical operations"
   ]
  },
  {
   "cell_type": "code",
   "execution_count": 69,
   "id": "e1529f70",
   "metadata": {},
   "outputs": [
    {
     "data": {
      "text/plain": [
       "array([1, 2, 3, 4])"
      ]
     },
     "execution_count": 69,
     "metadata": {},
     "output_type": "execute_result"
    }
   ],
   "source": [
    "arr1"
   ]
  },
  {
   "cell_type": "code",
   "execution_count": 70,
   "id": "d0f427f1",
   "metadata": {},
   "outputs": [
    {
     "data": {
      "text/plain": [
       "array([1., 2., 3., 4.])"
      ]
     },
     "execution_count": 70,
     "metadata": {},
     "output_type": "execute_result"
    }
   ],
   "source": [
    "arr2"
   ]
  },
  {
   "cell_type": "code",
   "execution_count": 71,
   "id": "78bc8381",
   "metadata": {},
   "outputs": [
    {
     "data": {
      "text/plain": [
       "array([2., 4., 6., 8.])"
      ]
     },
     "execution_count": 71,
     "metadata": {},
     "output_type": "execute_result"
    }
   ],
   "source": [
    "arr1+arr2"
   ]
  },
  {
   "cell_type": "code",
   "execution_count": 72,
   "id": "ee2495e2",
   "metadata": {},
   "outputs": [
    {
     "data": {
      "text/plain": [
       "array([ 1.,  4.,  9., 16.])"
      ]
     },
     "execution_count": 72,
     "metadata": {},
     "output_type": "execute_result"
    }
   ],
   "source": [
    "arr1*arr2"
   ]
  },
  {
   "cell_type": "code",
   "execution_count": 73,
   "id": "244db34b",
   "metadata": {},
   "outputs": [
    {
     "data": {
      "text/plain": [
       "array([ 0.84147098,  0.90929743,  0.14112001, -0.7568025 ])"
      ]
     },
     "execution_count": 73,
     "metadata": {},
     "output_type": "execute_result"
    }
   ],
   "source": [
    "sin(arr1)"
   ]
  },
  {
   "cell_type": "code",
   "execution_count": 74,
   "id": "cb32006e",
   "metadata": {},
   "outputs": [
    {
     "data": {
      "text/plain": [
       "array([ 0.54030231, -0.41614684, -0.9899925 , -0.65364362])"
      ]
     },
     "execution_count": 74,
     "metadata": {},
     "output_type": "execute_result"
    }
   ],
   "source": [
    "cos(arr1)"
   ]
  },
  {
   "cell_type": "code",
   "execution_count": 75,
   "id": "3ec91397",
   "metadata": {},
   "outputs": [
    {
     "data": {
      "text/plain": [
       "array([0.        , 0.69314718, 1.09861229, 1.38629436])"
      ]
     },
     "execution_count": 75,
     "metadata": {},
     "output_type": "execute_result"
    }
   ],
   "source": [
    "log(arr1)"
   ]
  },
  {
   "cell_type": "code",
   "execution_count": 76,
   "id": "1cd3dcbf",
   "metadata": {},
   "outputs": [
    {
     "data": {
      "text/plain": [
       "array([1.        , 1.41421356, 1.73205081, 2.        ])"
      ]
     },
     "execution_count": 76,
     "metadata": {},
     "output_type": "execute_result"
    }
   ],
   "source": [
    "sqrt(arr1)"
   ]
  },
  {
   "cell_type": "code",
   "execution_count": 77,
   "id": "04ae99d3",
   "metadata": {},
   "outputs": [
    {
     "data": {
      "text/plain": [
       "10"
      ]
     },
     "execution_count": 77,
     "metadata": {},
     "output_type": "execute_result"
    }
   ],
   "source": [
    "sum(arr1)"
   ]
  },
  {
   "cell_type": "code",
   "execution_count": 78,
   "id": "ed56d1dd",
   "metadata": {},
   "outputs": [
    {
     "data": {
      "text/plain": [
       "1"
      ]
     },
     "execution_count": 78,
     "metadata": {},
     "output_type": "execute_result"
    }
   ],
   "source": [
    "min(arr1)"
   ]
  },
  {
   "cell_type": "code",
   "execution_count": 79,
   "id": "7351538a",
   "metadata": {},
   "outputs": [
    {
     "data": {
      "text/plain": [
       "4"
      ]
     },
     "execution_count": 79,
     "metadata": {},
     "output_type": "execute_result"
    }
   ],
   "source": [
    "size(arr1)"
   ]
  },
  {
   "cell_type": "code",
   "execution_count": 80,
   "id": "06802b9d",
   "metadata": {},
   "outputs": [
    {
     "data": {
      "text/plain": [
       "4"
      ]
     },
     "execution_count": 80,
     "metadata": {},
     "output_type": "execute_result"
    }
   ],
   "source": [
    "len(arr1)"
   ]
  },
  {
   "cell_type": "code",
   "execution_count": 81,
   "id": "86e88d2b",
   "metadata": {},
   "outputs": [],
   "source": [
    "array=array([1,2,3,4])"
   ]
  },
  {
   "cell_type": "code",
   "execution_count": 82,
   "id": "1f202e96",
   "metadata": {},
   "outputs": [
    {
     "data": {
      "text/plain": [
       "array([1, 2, 3, 4, 1, 2, 3, 4])"
      ]
     },
     "execution_count": 82,
     "metadata": {},
     "output_type": "execute_result"
    }
   ],
   "source": [
    "concatenate([arr1,array]) # this function only apply on arrays having same dimension and same length"
   ]
  },
  {
   "cell_type": "markdown",
   "id": "75594e48",
   "metadata": {},
   "source": [
    "# copy the numpy array"
   ]
  },
  {
   "cell_type": "code",
   "execution_count": 83,
   "id": "bcb015df",
   "metadata": {},
   "outputs": [
    {
     "data": {
      "text/plain": [
       "array([1, 2, 3, 4])"
      ]
     },
     "execution_count": 83,
     "metadata": {},
     "output_type": "execute_result"
    }
   ],
   "source": [
    "arr1"
   ]
  },
  {
   "cell_type": "code",
   "execution_count": 84,
   "id": "5ea08916",
   "metadata": {},
   "outputs": [],
   "source": [
    "same_array_address=arr1"
   ]
  },
  {
   "cell_type": "code",
   "execution_count": 85,
   "id": "4ee33413",
   "metadata": {},
   "outputs": [
    {
     "data": {
      "text/plain": [
       "array([1, 2, 3, 4])"
      ]
     },
     "execution_count": 85,
     "metadata": {},
     "output_type": "execute_result"
    }
   ],
   "source": [
    "same_array_address"
   ]
  },
  {
   "cell_type": "code",
   "execution_count": 86,
   "id": "bcf3a7f4",
   "metadata": {},
   "outputs": [
    {
     "data": {
      "text/plain": [
       "1669704799504"
      ]
     },
     "execution_count": 86,
     "metadata": {},
     "output_type": "execute_result"
    }
   ],
   "source": [
    "id(arr1)"
   ]
  },
  {
   "cell_type": "code",
   "execution_count": 87,
   "id": "f41128e4",
   "metadata": {},
   "outputs": [
    {
     "data": {
      "text/plain": [
       "1669704799504"
      ]
     },
     "execution_count": 87,
     "metadata": {},
     "output_type": "execute_result"
    }
   ],
   "source": [
    "id(same_array_address)"
   ]
  },
  {
   "cell_type": "code",
   "execution_count": 88,
   "id": "879275cf",
   "metadata": {},
   "outputs": [
    {
     "name": "stdout",
     "output_type": "stream",
     "text": [
      "[1 2 3 4]\n",
      "[1 2 3 4]\n"
     ]
    }
   ],
   "source": [
    "different_array_address=arr1.view() \n",
    "print(arr1)\n",
    "print(different_array_address)"
   ]
  },
  {
   "cell_type": "code",
   "execution_count": 89,
   "id": "4b65123b",
   "metadata": {},
   "outputs": [
    {
     "data": {
      "text/plain": [
       "1669704799504"
      ]
     },
     "execution_count": 89,
     "metadata": {},
     "output_type": "execute_result"
    }
   ],
   "source": [
    "id(arr1)"
   ]
  },
  {
   "cell_type": "code",
   "execution_count": 90,
   "id": "36346e01",
   "metadata": {},
   "outputs": [
    {
     "data": {
      "text/plain": [
       "1669703780272"
      ]
     },
     "execution_count": 90,
     "metadata": {},
     "output_type": "execute_result"
    }
   ],
   "source": [
    "id(different_array_address)"
   ]
  },
  {
   "cell_type": "code",
   "execution_count": 91,
   "id": "a4688429",
   "metadata": {},
   "outputs": [
    {
     "name": "stdout",
     "output_type": "stream",
     "text": [
      "[1 8 3 4]\n",
      "[1 8 3 4]\n"
     ]
    }
   ],
   "source": [
    "different_array_address=arr1.view() # this is shallow copying. i.e. chnages effect both arrays\n",
    "arr1[1]=8\n",
    "print(arr1)\n",
    "print(different_array_address)"
   ]
  },
  {
   "cell_type": "code",
   "execution_count": 92,
   "id": "a8354af3",
   "metadata": {
    "scrolled": true
   },
   "outputs": [
    {
     "name": "stdout",
     "output_type": "stream",
     "text": [
      "[ 1 15  3  4]\n",
      "[1 8 3 4]\n",
      "1669704799504\n",
      "1669704799792\n"
     ]
    }
   ],
   "source": [
    "deep_array=arr1.copy() # this is deep copy i.e. changes not effect the copied array\n",
    "arr1[1]=15\n",
    "print(arr1)\n",
    "print(deep_array)\n",
    "print(id(arr1))\n",
    "print(id(deep_array))"
   ]
  },
  {
   "cell_type": "code",
   "execution_count": 93,
   "id": "de5d4883",
   "metadata": {},
   "outputs": [
    {
     "data": {
      "text/plain": [
       "(4,)"
      ]
     },
     "execution_count": 93,
     "metadata": {},
     "output_type": "execute_result"
    }
   ],
   "source": [
    "arr1.shape"
   ]
  },
  {
   "cell_type": "code",
   "execution_count": 94,
   "id": "27210da9",
   "metadata": {},
   "outputs": [
    {
     "data": {
      "text/plain": [
       "(4,)"
      ]
     },
     "execution_count": 94,
     "metadata": {},
     "output_type": "execute_result"
    }
   ],
   "source": [
    "deep_array.shape"
   ]
  },
  {
   "cell_type": "code",
   "execution_count": 95,
   "id": "765fe2aa",
   "metadata": {},
   "outputs": [
    {
     "name": "stdout",
     "output_type": "stream",
     "text": [
      "[ 1 15  3  4]\n",
      "None\n"
     ]
    }
   ],
   "source": [
    "# knowning the arr is copy or not and also view or not\n",
    "# none for copy arr and prints arr for original array means view array\n",
    "print(different_array_address.base)\n",
    "print(deep_array.base)"
   ]
  }
 ],
 "metadata": {
  "kernelspec": {
   "display_name": "Python 3",
   "language": "python",
   "name": "python3"
  },
  "language_info": {
   "codemirror_mode": {
    "name": "ipython",
    "version": 3
   },
   "file_extension": ".py",
   "mimetype": "text/x-python",
   "name": "python",
   "nbconvert_exporter": "python",
   "pygments_lexer": "ipython3",
   "version": "3.8.8"
  }
 },
 "nbformat": 4,
 "nbformat_minor": 5
}
