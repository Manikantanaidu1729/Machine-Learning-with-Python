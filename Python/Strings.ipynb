{
 "cells": [
  {
   "cell_type": "code",
   "execution_count": 6,
   "id": "a2ce8c4d",
   "metadata": {},
   "outputs": [
    {
     "name": "stdout",
     "output_type": "stream",
     "text": [
      "18\n",
      "P\n",
      "g\n",
      "Pyt\n",
      "Python programming\n",
      "Python programmin\n"
     ]
    }
   ],
   "source": [
    "course=\"Python programming\"\n",
    "print(len(course))\n",
    "print(course[0])\n",
    "print(course[-1])\n",
    "print(course[0:3])\n",
    "print(course[0:])\n",
    "print(course[0:-1])"
   ]
  },
  {
   "cell_type": "markdown",
   "id": "d0c22129",
   "metadata": {},
   "source": [
    "# escape characters"
   ]
  },
  {
   "cell_type": "code",
   "execution_count": 9,
   "id": "dd19a4cd",
   "metadata": {
    "scrolled": true
   },
   "outputs": [
    {
     "name": "stdout",
     "output_type": "stream",
     "text": [
      "python \"programming\n"
     ]
    }
   ],
   "source": [
    "# \\\"\n",
    "# \\'\n",
    "# \\\\\n",
    "# \\n\n",
    "course=\"python \\\"programming\"\n",
    "print(course)"
   ]
  },
  {
   "cell_type": "markdown",
   "id": "532f2790",
   "metadata": {},
   "source": [
    "# String methods"
   ]
  },
  {
   "cell_type": "code",
   "execution_count": 29,
   "id": "3eaaf014",
   "metadata": {},
   "outputs": [
    {
     "name": "stdout",
     "output_type": "stream",
     "text": [
      "   ...PYTHON PROGRAMMING...   \n",
      "   ...python programming...   \n",
      "   ...Python Programming...   \n",
      "...python Programming...\n",
      "...python Programming...   \n",
      "   ...python Programming...\n",
      "['', '', '', '...python', 'Programming...', '', '', '']\n",
      "13\n",
      "   ...jython Programming...   \n",
      "True\n",
      "True\n",
      "True\n",
      "True\n"
     ]
    }
   ],
   "source": [
    "course=\"   ...python Programming...   \"\n",
    "print(course.upper())\n",
    "print(course.lower())\n",
    "print(course.title())\n",
    "print(course.strip())\n",
    "print(course.lstrip())\n",
    "print(course.rstrip())\n",
    "print(course.split(\" \"))\n",
    "print(course.find(\"Pro\"))\n",
    "print(course.replace(\"p\",\"j\"))\n",
    "print(\"Pro\" in course)\n",
    "print(\"java\" not in course)\n",
    "print(course.startswith(\"  \"))\n",
    "print(course.endswith(\"...   \"))"
   ]
  },
  {
   "cell_type": "code",
   "execution_count": null,
   "id": "d0a4bd9b",
   "metadata": {},
   "outputs": [],
   "source": []
  }
 ],
 "metadata": {
  "kernelspec": {
   "display_name": "Python 3",
   "language": "python",
   "name": "python3"
  },
  "language_info": {
   "codemirror_mode": {
    "name": "ipython",
    "version": 3
   },
   "file_extension": ".py",
   "mimetype": "text/x-python",
   "name": "python",
   "nbconvert_exporter": "python",
   "pygments_lexer": "ipython3",
   "version": "3.8.8"
  }
 },
 "nbformat": 4,
 "nbformat_minor": 5
}
