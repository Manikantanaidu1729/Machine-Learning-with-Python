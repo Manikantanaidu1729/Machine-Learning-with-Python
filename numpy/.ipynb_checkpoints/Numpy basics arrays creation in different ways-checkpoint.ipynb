{
 "cells": [
  {
   "cell_type": "code",
   "execution_count": 9,
   "id": "a012d6eb",
   "metadata": {},
   "outputs": [
    {
     "name": "stdout",
     "output_type": "stream",
     "text": [
      "[[0. 0. 0.]\n",
      " [0. 0. 0.]]\n",
      "[[2 2 2 2 2]\n",
      " [2 2 2 2 2]\n",
      " [2 2 2 2 2]\n",
      " [2 2 2 2 2]]\n",
      "[[1. 1. 1. 1. 1.]\n",
      " [1. 1. 1. 1. 1.]]\n",
      "[[1. 0.]\n",
      " [0. 1.]]\n",
      "[[6.23042070e-307 4.67296746e-307 1.69121096e-306 1.33511018e-306]\n",
      " [1.33511018e-306 7.56587584e-307 1.37961302e-306 1.05699242e-307]\n",
      " [8.01097889e-307 1.78020169e-306 7.56601165e-307 1.02359984e-306]\n",
      " [1.33510679e-306 2.22522597e-306 8.01097889e-307 1.42417629e-306]\n",
      " [8.45593934e-307 6.89805151e-307 9.34611148e-307 1.37961709e-306]\n",
      " [1.42418172e-306 1.37961641e-306 1.33508760e-307 8.45610231e-307]]\n"
     ]
    }
   ],
   "source": [
    "# different ways of array creating\n",
    "# they are \"empty,ones,zeros,full,eye\" \n",
    "# the default data type of these methods after creating the array is float\n",
    "import numpy as np\n",
    "zero=np.zeros((2,3))# return a new array of given shape and type,filled with zeros\n",
    "print(zero)\n",
    "full=np.full((4,5),2)# return a new array of given shape and type,filled with fill_value\n",
    "print(full)\n",
    "one=np.ones((2,5))# return a new array of given shape and type, filled with ones\n",
    "print(one)\n",
    "eye=np.eye(2)# return a 2 dimensional array with ones on the diagonal and zeros elsewhere.it is also called as diagonal matrix\n",
    "print(eye)\n",
    "empty=np.empty((6,4))# return a new array of given shape and type,without initializing entries\n",
    "print(empty)"
   ]
  },
  {
   "cell_type": "code",
   "execution_count": 15,
   "id": "fb2c1a1d",
   "metadata": {},
   "outputs": [
    {
     "name": "stdout",
     "output_type": "stream",
     "text": [
      "[ 5 15 25 35 45]\n",
      "\n",
      "[9.76562500e+06 1.63076014e+14 2.72320373e+21 4.54747351e+28]\n",
      "\n",
      "(array([2. , 3.5, 5. ], dtype=float32), 1.5)\n",
      "\n",
      "[2.        2.0612245 2.122449  2.1836734 2.2448978 2.3061225 2.367347\n",
      " 2.4285715 2.489796  2.5510204 2.6122448 2.6734693 2.7346938 2.7959185\n",
      " 2.857143  2.9183674 2.9795918 3.0408163 3.1020408 3.1632652 3.2244897\n",
      " 3.2857144 3.3469388 3.4081633 3.4693878 3.5306122 3.5918367 3.6530612\n",
      " 3.7142856 3.7755103 3.8367348 3.8979592 3.9591837 4.020408  4.0816326\n",
      " 4.142857  4.2040815 4.265306  4.3265305 4.387755  4.4489794 4.5102043\n",
      " 4.571429  4.632653  4.6938777 4.755102  4.8163266 4.877551  4.9387755\n",
      " 5.       ]\n"
     ]
    }
   ],
   "source": [
    "# array creation using numerical range\n",
    "# thay are \"arange,logspace.linspace\"\n",
    "# first one is \"arange\"\n",
    "arrange=np.arange(5,50,10,dtype=\"i\")\n",
    "# syntax is np.arange(start,stop,step,dtype=\"some_datatype\")\n",
    "print(arrange)\n",
    "print()\n",
    "# second one is \"logspace\"\n",
    "logspace=np.logspace(10,41,4,base=5)# default base value is 10\n",
    "# syntax is np.logspace(start,stop,no_of_divisions,base=some_value)\n",
    "print(logspace)\n",
    "print()\n",
    "# third one is \"linspace\"\n",
    "linspace=np.linspace(2,5,3,dtype=\"f\",retstep=True)\n",
    "linspace1=np.linspace(2,5,dtype=\"f\",retstep=False)# default divisions are 50 divisions\n",
    "# syntax is np.linspace(start,stop,no_of_divisions,dtype=\"some_datatype\",retstep=boolean_value)\n",
    "# retstep returns difference between two numbers in the array  if it is \"True\" i.e step size  \n",
    "print(linspace)\n",
    "print()\n",
    "print(linspace1)"
   ]
  },
  {
   "cell_type": "code",
   "execution_count": 16,
   "id": "715ac0ff",
   "metadata": {},
   "outputs": [
    {
     "name": "stdout",
     "output_type": "stream",
     "text": [
      "[12.  3.  5.  6.]\n",
      "[[1. 2. 4.]\n",
      " [1. 5. 7.]]\n",
      "[1 2 3 4]\n"
     ]
    }
   ],
   "source": [
    "# array creation using existing data\n",
    "# they are \"asarray,copy\n",
    "# first one is \"asarray\" syntax np.asarray(sequence,dtype,order=none)  \n",
    "# it converts the input to an array.it is useful for converting python sequence into ndarray\n",
    "lst=[12,3,5,6]\n",
    "tup=((1,2,4),(1,5,7))\n",
    "asarray=np.asarray(lst,dtype=float,order=\"C\")\n",
    "print(asarray)\n",
    "asarray1=np.asarray(tup,dtype=float,order=\"C\")\n",
    "print(asarray1)\n",
    "# second one is \"copy\" syntax np.copy(arrayname) # returns copy of the given array\n",
    "arr=np.array((1,2,3,4))\n",
    "copyarr=np.copy(arr) # the modifications in copy array doesn't effect the old array\n",
    "print(copyarr)"
   ]
  },
  {
   "cell_type": "code",
   "execution_count": null,
   "id": "c262ed05",
   "metadata": {},
   "outputs": [],
   "source": []
  }
 ],
 "metadata": {
  "kernelspec": {
   "display_name": "Python 3",
   "language": "python",
   "name": "python3"
  },
  "language_info": {
   "codemirror_mode": {
    "name": "ipython",
    "version": 3
   },
   "file_extension": ".py",
   "mimetype": "text/x-python",
   "name": "python",
   "nbconvert_exporter": "python",
   "pygments_lexer": "ipython3",
   "version": "3.8.8"
  }
 },
 "nbformat": 4,
 "nbformat_minor": 5
}
