{
 "cells": [
  {
   "cell_type": "markdown",
   "id": "664e1201",
   "metadata": {},
   "source": [
    "# LISTS"
   ]
  },
  {
   "cell_type": "code",
   "execution_count": 197,
   "id": "c79dde59",
   "metadata": {},
   "outputs": [
    {
     "data": {
      "text/plain": [
       "[23847, 45, 536, 356, 3, 'bfdhb', 'bfh']"
      ]
     },
     "execution_count": 197,
     "metadata": {},
     "output_type": "execute_result"
    }
   ],
   "source": [
    "list1=[23847,45,536,356,3,\"bfdhb\",\"bfh\"]\n",
    "list1"
   ]
  },
  {
   "cell_type": "code",
   "execution_count": 98,
   "id": "48c070a8",
   "metadata": {},
   "outputs": [
    {
     "data": {
      "text/plain": [
       "[11, 22, 25, 88, 5556]"
      ]
     },
     "execution_count": 98,
     "metadata": {},
     "output_type": "execute_result"
    }
   ],
   "source": [
    "list2=[22,25,88,5556,11]\n",
    "list2.sort()\n",
    "list2"
   ]
  },
  {
   "cell_type": "code",
   "execution_count": 99,
   "id": "bc81ec0a",
   "metadata": {},
   "outputs": [
    {
     "data": {
      "text/plain": [
       "['sdgs', 'sdgdsg']"
      ]
     },
     "execution_count": 99,
     "metadata": {},
     "output_type": "execute_result"
    }
   ],
   "source": [
    "list3=list([\"sdgs\",\"sdgdsg\"])\n",
    "list3"
   ]
  },
  {
   "cell_type": "code",
   "execution_count": 100,
   "id": "517fc3f0",
   "metadata": {},
   "outputs": [
    {
     "data": {
      "text/plain": [
       "[45, 536, 356, 3, 'bfdhb', 'bfh']"
      ]
     },
     "execution_count": 100,
     "metadata": {},
     "output_type": "execute_result"
    }
   ],
   "source": [
    "list1[1:]"
   ]
  },
  {
   "cell_type": "code",
   "execution_count": 101,
   "id": "f2dad07d",
   "metadata": {},
   "outputs": [
    {
     "data": {
      "text/plain": [
       "['bfh', 'bfdhb', 3, 356, 536, 45]"
      ]
     },
     "execution_count": 101,
     "metadata": {},
     "output_type": "execute_result"
    }
   ],
   "source": [
    "list1[-1:-7:-1]"
   ]
  },
  {
   "cell_type": "code",
   "execution_count": 102,
   "id": "cdc79143",
   "metadata": {},
   "outputs": [
    {
     "data": {
      "text/plain": [
       "['bfh', 'bfdhb', 3, 356, 536, 45]"
      ]
     },
     "execution_count": 102,
     "metadata": {},
     "output_type": "execute_result"
    }
   ],
   "source": [
    "list1[-1:0:-1]"
   ]
  },
  {
   "cell_type": "code",
   "execution_count": 103,
   "id": "8a33a2d7",
   "metadata": {},
   "outputs": [],
   "source": [
    "names=[\"navin\",\"john\",\"kiran\"]"
   ]
  },
  {
   "cell_type": "code",
   "execution_count": 104,
   "id": "78dee8d8",
   "metadata": {},
   "outputs": [],
   "source": [
    "names[2]=\"fkjghfg\""
   ]
  },
  {
   "cell_type": "markdown",
   "id": "a8ab6101",
   "metadata": {},
   "source": [
    "# MIXED LISTS"
   ]
  },
  {
   "cell_type": "code",
   "execution_count": 105,
   "id": "994ce025",
   "metadata": {},
   "outputs": [],
   "source": [
    "mil = [list1,list2]"
   ]
  },
  {
   "cell_type": "code",
   "execution_count": 106,
   "id": "9c0f0810",
   "metadata": {},
   "outputs": [
    {
     "data": {
      "text/plain": [
       "[[23847, 45, 536, 356, 3, 'bfdhb', 'bfh'], [11, 22, 25, 88, 5556]]"
      ]
     },
     "execution_count": 106,
     "metadata": {},
     "output_type": "execute_result"
    }
   ],
   "source": [
    "mil"
   ]
  },
  {
   "cell_type": "markdown",
   "id": "1f2d75e7",
   "metadata": {},
   "source": [
    "# methods in list"
   ]
  },
  {
   "cell_type": "code",
   "execution_count": 107,
   "id": "6b982499",
   "metadata": {},
   "outputs": [],
   "source": [
    "list1.append(567)"
   ]
  },
  {
   "cell_type": "code",
   "execution_count": 108,
   "id": "9bc747d4",
   "metadata": {},
   "outputs": [
    {
     "data": {
      "text/plain": [
       "[23847, 45, 536, 356, 3, 'bfdhb', 'bfh', 567]"
      ]
     },
     "execution_count": 108,
     "metadata": {},
     "output_type": "execute_result"
    }
   ],
   "source": [
    "list1"
   ]
  },
  {
   "cell_type": "code",
   "execution_count": 109,
   "id": "ea00f985",
   "metadata": {},
   "outputs": [],
   "source": [
    "list1.insert(4,\"manikantanaidu\")"
   ]
  },
  {
   "cell_type": "code",
   "execution_count": 110,
   "id": "cb907a9a",
   "metadata": {},
   "outputs": [
    {
     "data": {
      "text/plain": [
       "[23847, 45, 536, 356, 'manikantanaidu', 3, 'bfdhb', 'bfh', 567]"
      ]
     },
     "execution_count": 110,
     "metadata": {},
     "output_type": "execute_result"
    }
   ],
   "source": [
    "list1"
   ]
  },
  {
   "cell_type": "code",
   "execution_count": 111,
   "id": "712b53ad",
   "metadata": {},
   "outputs": [],
   "source": [
    "list1.remove(567)  # it takes element as argument"
   ]
  },
  {
   "cell_type": "code",
   "execution_count": 112,
   "id": "939820ef",
   "metadata": {},
   "outputs": [
    {
     "data": {
      "text/plain": [
       "[23847, 45, 536, 356, 'manikantanaidu', 3, 'bfdhb', 'bfh']"
      ]
     },
     "execution_count": 112,
     "metadata": {},
     "output_type": "execute_result"
    }
   ],
   "source": [
    "list1"
   ]
  },
  {
   "cell_type": "code",
   "execution_count": 113,
   "id": "cb172892",
   "metadata": {},
   "outputs": [
    {
     "data": {
      "text/plain": [
       "'fkjghfg'"
      ]
     },
     "execution_count": 113,
     "metadata": {},
     "output_type": "execute_result"
    }
   ],
   "source": [
    "names.pop(2)  # it takes index as argument"
   ]
  },
  {
   "cell_type": "code",
   "execution_count": 114,
   "id": "73ef41c4",
   "metadata": {},
   "outputs": [
    {
     "data": {
      "text/plain": [
       "['navin', 'john']"
      ]
     },
     "execution_count": 114,
     "metadata": {},
     "output_type": "execute_result"
    }
   ],
   "source": [
    "names"
   ]
  },
  {
   "cell_type": "code",
   "execution_count": 115,
   "id": "47a549d3",
   "metadata": {},
   "outputs": [],
   "source": [
    "del names[0:]  # delete multiple elements in the list"
   ]
  },
  {
   "cell_type": "code",
   "execution_count": 116,
   "id": "ee70ba1e",
   "metadata": {},
   "outputs": [
    {
     "data": {
      "text/plain": [
       "[]"
      ]
     },
     "execution_count": 116,
     "metadata": {},
     "output_type": "execute_result"
    }
   ],
   "source": [
    "names"
   ]
  },
  {
   "cell_type": "code",
   "execution_count": 117,
   "id": "dcd94cfe",
   "metadata": {},
   "outputs": [],
   "source": [
    "list2.extend([7878,57547])  # add multiple values"
   ]
  },
  {
   "cell_type": "code",
   "execution_count": 118,
   "id": "566e24ab",
   "metadata": {},
   "outputs": [
    {
     "data": {
      "text/plain": [
       "[11, 22, 25, 88, 5556, 7878, 57547]"
      ]
     },
     "execution_count": 118,
     "metadata": {},
     "output_type": "execute_result"
    }
   ],
   "source": [
    "list2"
   ]
  },
  {
   "cell_type": "code",
   "execution_count": 119,
   "id": "09dcc9d3",
   "metadata": {},
   "outputs": [
    {
     "data": {
      "text/plain": [
       "11"
      ]
     },
     "execution_count": 119,
     "metadata": {},
     "output_type": "execute_result"
    }
   ],
   "source": [
    "min(list2)"
   ]
  },
  {
   "cell_type": "code",
   "execution_count": 120,
   "id": "25e0c009",
   "metadata": {},
   "outputs": [
    {
     "data": {
      "text/plain": [
       "57547"
      ]
     },
     "execution_count": 120,
     "metadata": {},
     "output_type": "execute_result"
    }
   ],
   "source": [
    "max(list2)"
   ]
  },
  {
   "cell_type": "code",
   "execution_count": 121,
   "id": "bbcc3897",
   "metadata": {},
   "outputs": [
    {
     "data": {
      "text/plain": [
       "71127"
      ]
     },
     "execution_count": 121,
     "metadata": {},
     "output_type": "execute_result"
    }
   ],
   "source": [
    "sum(list2)"
   ]
  },
  {
   "cell_type": "code",
   "execution_count": 122,
   "id": "ece31045",
   "metadata": {},
   "outputs": [
    {
     "data": {
      "text/plain": [
       "[]"
      ]
     },
     "execution_count": 122,
     "metadata": {},
     "output_type": "execute_result"
    }
   ],
   "source": [
    "names"
   ]
  },
  {
   "cell_type": "code",
   "execution_count": 123,
   "id": "114b4f92",
   "metadata": {},
   "outputs": [],
   "source": [
    "del names # delete whole list"
   ]
  },
  {
   "cell_type": "code",
   "execution_count": 124,
   "id": "c587011c",
   "metadata": {},
   "outputs": [
    {
     "ename": "NameError",
     "evalue": "name 'names' is not defined",
     "output_type": "error",
     "traceback": [
      "\u001b[1;31m---------------------------------------------------------------------------\u001b[0m",
      "\u001b[1;31mNameError\u001b[0m                                 Traceback (most recent call last)",
      "\u001b[1;32m<ipython-input-124-c8beb69a2cd4>\u001b[0m in \u001b[0;36m<module>\u001b[1;34m\u001b[0m\n\u001b[1;32m----> 1\u001b[1;33m \u001b[0mnames\u001b[0m\u001b[1;33m\u001b[0m\u001b[1;33m\u001b[0m\u001b[0m\n\u001b[0m",
      "\u001b[1;31mNameError\u001b[0m: name 'names' is not defined"
     ]
    }
   ],
   "source": [
    "names"
   ]
  },
  {
   "cell_type": "markdown",
   "id": "f4cf5801",
   "metadata": {},
   "source": [
    "# Tuple"
   ]
  },
  {
   "cell_type": "code",
   "execution_count": 139,
   "id": "7596440f",
   "metadata": {},
   "outputs": [],
   "source": [
    "tuple1=(23,67,7989)"
   ]
  },
  {
   "cell_type": "code",
   "execution_count": 140,
   "id": "f79fe48f",
   "metadata": {},
   "outputs": [
    {
     "data": {
      "text/plain": [
       "(23, 67, 7989)"
      ]
     },
     "execution_count": 140,
     "metadata": {},
     "output_type": "execute_result"
    }
   ],
   "source": [
    "tuple1"
   ]
  },
  {
   "cell_type": "code",
   "execution_count": 127,
   "id": "5f96387a",
   "metadata": {},
   "outputs": [
    {
     "data": {
      "text/plain": [
       "tuple"
      ]
     },
     "execution_count": 127,
     "metadata": {},
     "output_type": "execute_result"
    }
   ],
   "source": [
    "type(tuple1)"
   ]
  },
  {
   "cell_type": "code",
   "execution_count": 128,
   "id": "7fd39cf5",
   "metadata": {},
   "outputs": [],
   "source": [
    "tuple2=(\"bfdb\",\"FHFD\",24)"
   ]
  },
  {
   "cell_type": "code",
   "execution_count": 129,
   "id": "b7b1f399",
   "metadata": {},
   "outputs": [
    {
     "data": {
      "text/plain": [
       "('bfdb', 'FHFD', 24)"
      ]
     },
     "execution_count": 129,
     "metadata": {},
     "output_type": "execute_result"
    }
   ],
   "source": [
    "tuple2"
   ]
  },
  {
   "cell_type": "code",
   "execution_count": 131,
   "id": "a04b4df9",
   "metadata": {},
   "outputs": [
    {
     "ename": "TypeError",
     "evalue": "'tuple' object does not support item assignment",
     "output_type": "error",
     "traceback": [
      "\u001b[1;31m---------------------------------------------------------------------------\u001b[0m",
      "\u001b[1;31mTypeError\u001b[0m                                 Traceback (most recent call last)",
      "\u001b[1;32m<ipython-input-131-eeacd426015b>\u001b[0m in \u001b[0;36m<module>\u001b[1;34m\u001b[0m\n\u001b[1;32m----> 1\u001b[1;33m \u001b[0mtuple2\u001b[0m\u001b[1;33m[\u001b[0m\u001b[1;36m2\u001b[0m\u001b[1;33m]\u001b[0m\u001b[1;33m=\u001b[0m\u001b[1;34m\"jhbvfh\"\u001b[0m\u001b[1;33m\u001b[0m\u001b[1;33m\u001b[0m\u001b[0m\n\u001b[0m",
      "\u001b[1;31mTypeError\u001b[0m: 'tuple' object does not support item assignment"
     ]
    }
   ],
   "source": [
    "tuple2[2]=\"jhbvfh\""
   ]
  },
  {
   "cell_type": "code",
   "execution_count": 135,
   "id": "d86a4484",
   "metadata": {},
   "outputs": [
    {
     "ename": "AttributeError",
     "evalue": "'tuple' object has no attribute 'pop'",
     "output_type": "error",
     "traceback": [
      "\u001b[1;31m---------------------------------------------------------------------------\u001b[0m",
      "\u001b[1;31mAttributeError\u001b[0m                            Traceback (most recent call last)",
      "\u001b[1;32m<ipython-input-135-0fe67a0487c5>\u001b[0m in \u001b[0;36m<module>\u001b[1;34m\u001b[0m\n\u001b[1;32m----> 1\u001b[1;33m \u001b[0mtuple1\u001b[0m\u001b[1;33m.\u001b[0m\u001b[0mpop\u001b[0m\u001b[1;33m(\u001b[0m\u001b[1;33m)\u001b[0m\u001b[1;33m\u001b[0m\u001b[1;33m\u001b[0m\u001b[0m\n\u001b[0m",
      "\u001b[1;31mAttributeError\u001b[0m: 'tuple' object has no attribute 'pop'"
     ]
    }
   ],
   "source": [
    "tuple1.pop()"
   ]
  },
  {
   "cell_type": "code",
   "execution_count": 136,
   "id": "a7f21090",
   "metadata": {},
   "outputs": [],
   "source": [
    "del tuple1"
   ]
  },
  {
   "cell_type": "code",
   "execution_count": 138,
   "id": "843ac134",
   "metadata": {},
   "outputs": [
    {
     "ename": "NameError",
     "evalue": "name 'tuple1' is not defined",
     "output_type": "error",
     "traceback": [
      "\u001b[1;31m---------------------------------------------------------------------------\u001b[0m",
      "\u001b[1;31mNameError\u001b[0m                                 Traceback (most recent call last)",
      "\u001b[1;32m<ipython-input-138-a2c9a38cd5f1>\u001b[0m in \u001b[0;36m<module>\u001b[1;34m\u001b[0m\n\u001b[1;32m----> 1\u001b[1;33m \u001b[0mtuple1\u001b[0m\u001b[1;33m\u001b[0m\u001b[1;33m\u001b[0m\u001b[0m\n\u001b[0m",
      "\u001b[1;31mNameError\u001b[0m: name 'tuple1' is not defined"
     ]
    }
   ],
   "source": [
    "tuple1"
   ]
  },
  {
   "cell_type": "markdown",
   "id": "e4a9b2d1",
   "metadata": {},
   "source": [
    "# sets"
   ]
  },
  {
   "cell_type": "code",
   "execution_count": 149,
   "id": "72b49fa6",
   "metadata": {},
   "outputs": [],
   "source": [
    "set1={5,14,354,5773,34634}"
   ]
  },
  {
   "cell_type": "code",
   "execution_count": 150,
   "id": "963f9b8f",
   "metadata": {},
   "outputs": [
    {
     "data": {
      "text/plain": [
       "{5, 14, 354, 5773, 34634}"
      ]
     },
     "execution_count": 150,
     "metadata": {},
     "output_type": "execute_result"
    }
   ],
   "source": [
    "set1"
   ]
  },
  {
   "cell_type": "code",
   "execution_count": 2,
   "id": "791483ba",
   "metadata": {},
   "outputs": [],
   "source": [
    "set2={24,23423,3252,324,234,\"djfndsk\",\"egfh\"} # random order in the set by compiler"
   ]
  },
  {
   "cell_type": "code",
   "execution_count": 3,
   "id": "3095b4be",
   "metadata": {},
   "outputs": [
    {
     "data": {
      "text/plain": [
       "{234, 23423, 24, 324, 3252, 'djfndsk', 'egfh'}"
      ]
     },
     "execution_count": 3,
     "metadata": {},
     "output_type": "execute_result"
    }
   ],
   "source": [
    "set2"
   ]
  },
  {
   "cell_type": "code",
   "execution_count": 4,
   "id": "88094036",
   "metadata": {},
   "outputs": [
    {
     "data": {
      "text/plain": [
       "set"
      ]
     },
     "execution_count": 4,
     "metadata": {},
     "output_type": "execute_result"
    }
   ],
   "source": [
    "type(set2)"
   ]
  },
  {
   "cell_type": "code",
   "execution_count": 165,
   "id": "eabcefe8",
   "metadata": {},
   "outputs": [
    {
     "data": {
      "text/plain": [
       "354"
      ]
     },
     "execution_count": 165,
     "metadata": {},
     "output_type": "execute_result"
    }
   ],
   "source": [
    "set1.pop()  # takes random element "
   ]
  },
  {
   "cell_type": "code",
   "execution_count": 5,
   "id": "46c633e3",
   "metadata": {},
   "outputs": [],
   "source": [
    "set2.remove(234)"
   ]
  },
  {
   "cell_type": "code",
   "execution_count": 6,
   "id": "53b17a1b",
   "metadata": {},
   "outputs": [
    {
     "data": {
      "text/plain": [
       "{23423, 24, 324, 3252, 'djfndsk', 'egfh'}"
      ]
     },
     "execution_count": 6,
     "metadata": {},
     "output_type": "execute_result"
    }
   ],
   "source": [
    "set2"
   ]
  },
  {
   "cell_type": "code",
   "execution_count": 7,
   "id": "91990a8a",
   "metadata": {},
   "outputs": [
    {
     "ename": "TypeError",
     "evalue": "'set' object does not support item assignment",
     "output_type": "error",
     "traceback": [
      "\u001b[1;31m---------------------------------------------------------------------------\u001b[0m",
      "\u001b[1;31mTypeError\u001b[0m                                 Traceback (most recent call last)",
      "\u001b[1;32m<ipython-input-7-0a719fd1080d>\u001b[0m in \u001b[0;36m<module>\u001b[1;34m\u001b[0m\n\u001b[1;32m----> 1\u001b[1;33m \u001b[0mset2\u001b[0m\u001b[1;33m[\u001b[0m\u001b[1;36m2\u001b[0m\u001b[1;33m]\u001b[0m\u001b[1;33m=\u001b[0m\u001b[1;34m\"hjdsbhs\"\u001b[0m  \u001b[1;31m#it doesn't supports indexing\u001b[0m\u001b[1;33m\u001b[0m\u001b[1;33m\u001b[0m\u001b[0m\n\u001b[0m",
      "\u001b[1;31mTypeError\u001b[0m: 'set' object does not support item assignment"
     ]
    }
   ],
   "source": [
    "set2[2]=\"hjdsbhs\"  #it doesn't supports indexing"
   ]
  },
  {
   "cell_type": "code",
   "execution_count": 8,
   "id": "707281d0",
   "metadata": {},
   "outputs": [],
   "source": [
    "set2.add(253235)"
   ]
  },
  {
   "cell_type": "code",
   "execution_count": 11,
   "id": "7e71c0c2",
   "metadata": {},
   "outputs": [
    {
     "ename": "TypeError",
     "evalue": "'type' object is not subscriptable",
     "output_type": "error",
     "traceback": [
      "\u001b[1;31m---------------------------------------------------------------------------\u001b[0m",
      "\u001b[1;31mTypeError\u001b[0m                                 Traceback (most recent call last)",
      "\u001b[1;32m<ipython-input-11-07b1acfe892c>\u001b[0m in \u001b[0;36m<module>\u001b[1;34m\u001b[0m\n\u001b[1;32m----> 1\u001b[1;33m \u001b[0mset\u001b[0m\u001b[1;33m[\u001b[0m\u001b[1;36m1\u001b[0m\u001b[1;33m:\u001b[0m\u001b[1;33m]\u001b[0m\u001b[1;33m\u001b[0m\u001b[1;33m\u001b[0m\u001b[0m\n\u001b[0m",
      "\u001b[1;31mTypeError\u001b[0m: 'type' object is not subscriptable"
     ]
    }
   ],
   "source": [
    "set[1:]"
   ]
  },
  {
   "cell_type": "code",
   "execution_count": 12,
   "id": "60f94555",
   "metadata": {},
   "outputs": [
    {
     "data": {
      "text/plain": [
       "{23423, 24, 253235, 324, 3252, 'djfndsk', 'egfh'}"
      ]
     },
     "execution_count": 12,
     "metadata": {},
     "output_type": "execute_result"
    }
   ],
   "source": [
    "set2"
   ]
  },
  {
   "cell_type": "markdown",
   "id": "840283e9",
   "metadata": {},
   "source": [
    "# variables"
   ]
  },
  {
   "cell_type": "code",
   "execution_count": 194,
   "id": "bda4f1de",
   "metadata": {},
   "outputs": [
    {
     "data": {
      "text/plain": [
       "'mkn'"
      ]
     },
     "execution_count": 194,
     "metadata": {},
     "output_type": "execute_result"
    }
   ],
   "source": [
    "str1=\"mkn\"\n",
    "str1"
   ]
  },
  {
   "cell_type": "code",
   "execution_count": 185,
   "id": "41f8ddae",
   "metadata": {},
   "outputs": [
    {
     "data": {
      "text/plain": [
       "2588463643568"
      ]
     },
     "execution_count": 185,
     "metadata": {},
     "output_type": "execute_result"
    }
   ],
   "source": [
    "id(var1)"
   ]
  },
  {
   "cell_type": "code",
   "execution_count": 186,
   "id": "06f34f92",
   "metadata": {},
   "outputs": [],
   "source": [
    "num1=22"
   ]
  },
  {
   "cell_type": "code",
   "execution_count": 187,
   "id": "2cb04ec2",
   "metadata": {},
   "outputs": [
    {
     "data": {
      "text/plain": [
       "140717515745744"
      ]
     },
     "execution_count": 187,
     "metadata": {},
     "output_type": "execute_result"
    }
   ],
   "source": [
    "id(num1)"
   ]
  },
  {
   "cell_type": "code",
   "execution_count": 188,
   "id": "98a93b1e",
   "metadata": {},
   "outputs": [
    {
     "data": {
      "text/plain": [
       "140717515745744"
      ]
     },
     "execution_count": 188,
     "metadata": {},
     "output_type": "execute_result"
    }
   ],
   "source": [
    "num2=num1\n",
    "id(num2)"
   ]
  },
  {
   "cell_type": "code",
   "execution_count": 189,
   "id": "fc096dc4",
   "metadata": {},
   "outputs": [],
   "source": [
    "num2=6436"
   ]
  },
  {
   "cell_type": "code",
   "execution_count": 190,
   "id": "c3e4134c",
   "metadata": {},
   "outputs": [
    {
     "data": {
      "text/plain": [
       "2588465620048"
      ]
     },
     "execution_count": 190,
     "metadata": {},
     "output_type": "execute_result"
    }
   ],
   "source": [
    "id(num2)"
   ]
  },
  {
   "cell_type": "code",
   "execution_count": 191,
   "id": "c894b7da",
   "metadata": {},
   "outputs": [],
   "source": [
    "PI = 3.14"
   ]
  },
  {
   "cell_type": "code",
   "execution_count": 192,
   "id": "77e2dafc",
   "metadata": {},
   "outputs": [
    {
     "data": {
      "text/plain": [
       "2588465620848"
      ]
     },
     "execution_count": 192,
     "metadata": {},
     "output_type": "execute_result"
    }
   ],
   "source": [
    "id(PI)"
   ]
  },
  {
   "cell_type": "code",
   "execution_count": 193,
   "id": "c538a538",
   "metadata": {},
   "outputs": [
    {
     "data": {
      "text/plain": [
       "float"
      ]
     },
     "execution_count": 193,
     "metadata": {},
     "output_type": "execute_result"
    }
   ],
   "source": [
    "type(PI)"
   ]
  },
  {
   "cell_type": "code",
   "execution_count": 195,
   "id": "e2fde9f3",
   "metadata": {},
   "outputs": [
    {
     "data": {
      "text/plain": [
       "str"
      ]
     },
     "execution_count": 195,
     "metadata": {},
     "output_type": "execute_result"
    }
   ],
   "source": [
    "type(str1)"
   ]
  },
  {
   "cell_type": "markdown",
   "id": "f2028f3a",
   "metadata": {},
   "source": [
    "# data types in python"
   ]
  },
  {
   "cell_type": "code",
   "execution_count": 198,
   "id": "a70b1f0d",
   "metadata": {},
   "outputs": [],
   "source": [
    "# None, Numeric,list,tuple,set,dictinary,range,string"
   ]
  },
  {
   "cell_type": "markdown",
   "id": "c49786fb",
   "metadata": {},
   "source": [
    "# none"
   ]
  },
  {
   "cell_type": "code",
   "execution_count": 199,
   "id": "dcc4c6ba",
   "metadata": {},
   "outputs": [],
   "source": [
    "# when a variable is not asssign to any value \n",
    "# In that case the data type of thet variable is called none"
   ]
  },
  {
   "cell_type": "markdown",
   "id": "9b4a3776",
   "metadata": {},
   "source": [
    "# numeric"
   ]
  },
  {
   "cell_type": "code",
   "execution_count": 220,
   "id": "118a2fc2",
   "metadata": {},
   "outputs": [],
   "source": [
    "# int, float, bool, complex"
   ]
  },
  {
   "cell_type": "code",
   "execution_count": 223,
   "id": "4913d0ac",
   "metadata": {},
   "outputs": [],
   "source": [
    "int1=24\n",
    "float1=35.435\n",
    "bool1=True\n",
    "complex1=10j+1"
   ]
  },
  {
   "cell_type": "code",
   "execution_count": 225,
   "id": "63ffbefd",
   "metadata": {},
   "outputs": [
    {
     "data": {
      "text/plain": [
       "int"
      ]
     },
     "execution_count": 225,
     "metadata": {},
     "output_type": "execute_result"
    }
   ],
   "source": [
    "type(int1)"
   ]
  },
  {
   "cell_type": "code",
   "execution_count": 226,
   "id": "dc63db8b",
   "metadata": {},
   "outputs": [
    {
     "data": {
      "text/plain": [
       "float"
      ]
     },
     "execution_count": 226,
     "metadata": {},
     "output_type": "execute_result"
    }
   ],
   "source": [
    "type(float1)"
   ]
  },
  {
   "cell_type": "code",
   "execution_count": 227,
   "id": "d980c384",
   "metadata": {},
   "outputs": [
    {
     "data": {
      "text/plain": [
       "complex"
      ]
     },
     "execution_count": 227,
     "metadata": {},
     "output_type": "execute_result"
    }
   ],
   "source": [
    "type(complex1)"
   ]
  },
  {
   "cell_type": "code",
   "execution_count": 230,
   "id": "c2ec4f1b",
   "metadata": {},
   "outputs": [
    {
     "data": {
      "text/plain": [
       "bool"
      ]
     },
     "execution_count": 230,
     "metadata": {},
     "output_type": "execute_result"
    }
   ],
   "source": [
    "type(bool1)"
   ]
  },
  {
   "cell_type": "code",
   "execution_count": 231,
   "id": "06505fb4",
   "metadata": {},
   "outputs": [],
   "source": [
    "complex2=complex(2,5)"
   ]
  },
  {
   "cell_type": "code",
   "execution_count": 232,
   "id": "95ebc82d",
   "metadata": {},
   "outputs": [
    {
     "data": {
      "text/plain": [
       "(2+5j)"
      ]
     },
     "execution_count": 232,
     "metadata": {},
     "output_type": "execute_result"
    }
   ],
   "source": [
    "complex2"
   ]
  },
  {
   "cell_type": "code",
   "execution_count": 235,
   "id": "7d7c9eb2",
   "metadata": {},
   "outputs": [],
   "source": [
    "string=\"f\""
   ]
  },
  {
   "cell_type": "code",
   "execution_count": 238,
   "id": "f7e6a377",
   "metadata": {},
   "outputs": [
    {
     "ename": "ValueError",
     "evalue": "invalid literal for int() with base 10: 'f'",
     "output_type": "error",
     "traceback": [
      "\u001b[1;31m---------------------------------------------------------------------------\u001b[0m",
      "\u001b[1;31mValueError\u001b[0m                                Traceback (most recent call last)",
      "\u001b[1;32m<ipython-input-238-ba737371a36a>\u001b[0m in \u001b[0;36m<module>\u001b[1;34m\u001b[0m\n\u001b[1;32m----> 1\u001b[1;33m \u001b[0mint2\u001b[0m\u001b[1;33m=\u001b[0m\u001b[0mint\u001b[0m\u001b[1;33m(\u001b[0m\u001b[0mstring\u001b[0m\u001b[1;33m)\u001b[0m\u001b[1;33m\u001b[0m\u001b[1;33m\u001b[0m\u001b[0m\n\u001b[0m",
      "\u001b[1;31mValueError\u001b[0m: invalid literal for int() with base 10: 'f'"
     ]
    }
   ],
   "source": [
    "int2=int(string)"
   ]
  },
  {
   "cell_type": "code",
   "execution_count": 239,
   "id": "95670e7f",
   "metadata": {},
   "outputs": [
    {
     "data": {
      "text/plain": [
       "1"
      ]
     },
     "execution_count": 239,
     "metadata": {},
     "output_type": "execute_result"
    }
   ],
   "source": [
    "int(True)"
   ]
  },
  {
   "cell_type": "code",
   "execution_count": 240,
   "id": "72871691",
   "metadata": {},
   "outputs": [
    {
     "data": {
      "text/plain": [
       "0"
      ]
     },
     "execution_count": 240,
     "metadata": {},
     "output_type": "execute_result"
    }
   ],
   "source": [
    "int(False)"
   ]
  },
  {
   "cell_type": "markdown",
   "id": "9e816a8b",
   "metadata": {},
   "source": [
    "# range"
   ]
  },
  {
   "cell_type": "code",
   "execution_count": 247,
   "id": "c4890270",
   "metadata": {},
   "outputs": [],
   "source": [
    "range1=list(range(2,10,2))"
   ]
  },
  {
   "cell_type": "code",
   "execution_count": 248,
   "id": "18e90668",
   "metadata": {},
   "outputs": [
    {
     "data": {
      "text/plain": [
       "[2, 4, 6, 8]"
      ]
     },
     "execution_count": 248,
     "metadata": {},
     "output_type": "execute_result"
    }
   ],
   "source": [
    "range1"
   ]
  },
  {
   "cell_type": "code",
   "execution_count": 246,
   "id": "4274cd89",
   "metadata": {},
   "outputs": [
    {
     "data": {
      "text/plain": [
       "[2, 3, 4, 5, 6, 7, 8, 9]"
      ]
     },
     "execution_count": 246,
     "metadata": {},
     "output_type": "execute_result"
    }
   ],
   "source": [
    "list(range(2,10))"
   ]
  },
  {
   "cell_type": "code",
   "execution_count": 249,
   "id": "fd004d4b",
   "metadata": {},
   "outputs": [
    {
     "data": {
      "text/plain": [
       "list"
      ]
     },
     "execution_count": 249,
     "metadata": {},
     "output_type": "execute_result"
    }
   ],
   "source": [
    "type(range1)"
   ]
  },
  {
   "cell_type": "code",
   "execution_count": 250,
   "id": "0f80c1a1",
   "metadata": {},
   "outputs": [
    {
     "data": {
      "text/plain": [
       "range"
      ]
     },
     "execution_count": 250,
     "metadata": {},
     "output_type": "execute_result"
    }
   ],
   "source": [
    "type(range(2,10))"
   ]
  },
  {
   "cell_type": "markdown",
   "id": "f6c4b4b4",
   "metadata": {},
   "source": [
    "# dictionary"
   ]
  },
  {
   "cell_type": "code",
   "execution_count": 51,
   "id": "b119157b",
   "metadata": {},
   "outputs": [],
   "source": [
    "# we have kay and values\n",
    "# key must be unique"
   ]
  },
  {
   "cell_type": "code",
   "execution_count": 52,
   "id": "ff147d0a",
   "metadata": {},
   "outputs": [],
   "source": [
    "dict1={22:\"mani\",18:\"devika\",7:\"lakshmi\"}"
   ]
  },
  {
   "cell_type": "code",
   "execution_count": 53,
   "id": "2d4be833",
   "metadata": {},
   "outputs": [
    {
     "data": {
      "text/plain": [
       "{22: 'mani', 18: 'devika', 7: 'lakshmi'}"
      ]
     },
     "execution_count": 53,
     "metadata": {},
     "output_type": "execute_result"
    }
   ],
   "source": [
    "dict1"
   ]
  },
  {
   "cell_type": "code",
   "execution_count": 54,
   "id": "89b62b4f",
   "metadata": {},
   "outputs": [
    {
     "data": {
      "text/plain": [
       "dict_keys([22, 18, 7])"
      ]
     },
     "execution_count": 54,
     "metadata": {},
     "output_type": "execute_result"
    }
   ],
   "source": [
    "dict1.keys()"
   ]
  },
  {
   "cell_type": "code",
   "execution_count": 55,
   "id": "beadfad4",
   "metadata": {},
   "outputs": [
    {
     "data": {
      "text/plain": [
       "dict_values(['mani', 'devika', 'lakshmi'])"
      ]
     },
     "execution_count": 55,
     "metadata": {},
     "output_type": "execute_result"
    }
   ],
   "source": [
    "dict1.values()"
   ]
  },
  {
   "cell_type": "code",
   "execution_count": 56,
   "id": "1bfae684",
   "metadata": {},
   "outputs": [
    {
     "data": {
      "text/plain": [
       "'mani'"
      ]
     },
     "execution_count": 56,
     "metadata": {},
     "output_type": "execute_result"
    }
   ],
   "source": [
    "dict1[22]"
   ]
  },
  {
   "cell_type": "code",
   "execution_count": 57,
   "id": "70c7b1b8",
   "metadata": {},
   "outputs": [
    {
     "data": {
      "text/plain": [
       "'mani'"
      ]
     },
     "execution_count": 57,
     "metadata": {},
     "output_type": "execute_result"
    }
   ],
   "source": [
    "dict1.get(22)"
   ]
  },
  {
   "cell_type": "code",
   "execution_count": 58,
   "id": "bb01a188",
   "metadata": {},
   "outputs": [
    {
     "name": "stdout",
     "output_type": "stream",
     "text": [
      "None\n"
     ]
    }
   ],
   "source": [
    "print(dict1.get(3))"
   ]
  },
  {
   "cell_type": "code",
   "execution_count": 59,
   "id": "1e1b2463",
   "metadata": {},
   "outputs": [
    {
     "data": {
      "text/plain": [
       "'not found'"
      ]
     },
     "execution_count": 59,
     "metadata": {},
     "output_type": "execute_result"
    }
   ],
   "source": [
    "dict1.get(3,\"not found\")"
   ]
  },
  {
   "cell_type": "code",
   "execution_count": 60,
   "id": "7c7df65b",
   "metadata": {},
   "outputs": [
    {
     "data": {
      "text/plain": [
       "'mani'"
      ]
     },
     "execution_count": 60,
     "metadata": {},
     "output_type": "execute_result"
    }
   ],
   "source": [
    "dict1.get(22,\"not found\")"
   ]
  },
  {
   "cell_type": "code",
   "execution_count": 61,
   "id": "f2caecbd",
   "metadata": {},
   "outputs": [],
   "source": [
    "keys=[\"mkn\",\"dhoni\",\"sesi\"]\n",
    "values=[\"python\",\"cricket\",\"degree\"]"
   ]
  },
  {
   "cell_type": "code",
   "execution_count": 62,
   "id": "630e8f6b",
   "metadata": {},
   "outputs": [],
   "source": [
    "dict2=dict(zip(keys,values))"
   ]
  },
  {
   "cell_type": "code",
   "execution_count": 63,
   "id": "7f697b60",
   "metadata": {},
   "outputs": [
    {
     "data": {
      "text/plain": [
       "{'mkn': 'python', 'dhoni': 'cricket', 'sesi': 'degree'}"
      ]
     },
     "execution_count": 63,
     "metadata": {},
     "output_type": "execute_result"
    }
   ],
   "source": [
    "dict2"
   ]
  },
  {
   "cell_type": "code",
   "execution_count": 64,
   "id": "e658875d",
   "metadata": {},
   "outputs": [],
   "source": [
    "dict2[\"lakshmi\"]=\"python\""
   ]
  },
  {
   "cell_type": "code",
   "execution_count": 65,
   "id": "7b1692b3",
   "metadata": {},
   "outputs": [
    {
     "data": {
      "text/plain": [
       "{'mkn': 'python', 'dhoni': 'cricket', 'sesi': 'degree', 'lakshmi': 'python'}"
      ]
     },
     "execution_count": 65,
     "metadata": {},
     "output_type": "execute_result"
    }
   ],
   "source": [
    "dict2"
   ]
  },
  {
   "cell_type": "code",
   "execution_count": 66,
   "id": "548415c7",
   "metadata": {},
   "outputs": [],
   "source": [
    "del dict2[\"sesi\"]"
   ]
  },
  {
   "cell_type": "code",
   "execution_count": 67,
   "id": "12de299d",
   "metadata": {},
   "outputs": [
    {
     "data": {
      "text/plain": [
       "{'mkn': 'python', 'dhoni': 'cricket', 'lakshmi': 'python'}"
      ]
     },
     "execution_count": 67,
     "metadata": {},
     "output_type": "execute_result"
    }
   ],
   "source": [
    "dict2"
   ]
  },
  {
   "cell_type": "code",
   "execution_count": 70,
   "id": "da69575f",
   "metadata": {},
   "outputs": [],
   "source": [
    "dict2[\"mkn\"]=[\"python\",\"java\"]"
   ]
  },
  {
   "cell_type": "code",
   "execution_count": 71,
   "id": "d1e8d46e",
   "metadata": {},
   "outputs": [
    {
     "data": {
      "text/plain": [
       "{'mkn': ['python', 'java'],\n",
       " 'dhoni': 'cricket',\n",
       " 'lakshmi': 'python',\n",
       " 'mani': ['python', 'java']}"
      ]
     },
     "execution_count": 71,
     "metadata": {},
     "output_type": "execute_result"
    }
   ],
   "source": [
    "dict2"
   ]
  },
  {
   "cell_type": "code",
   "execution_count": 72,
   "id": "c0dde957",
   "metadata": {},
   "outputs": [],
   "source": [
    "del dict2[\"mani\"]"
   ]
  },
  {
   "cell_type": "code",
   "execution_count": 73,
   "id": "0e8c4447",
   "metadata": {},
   "outputs": [
    {
     "data": {
      "text/plain": [
       "{'mkn': ['python', 'java'], 'dhoni': 'cricket', 'lakshmi': 'python'}"
      ]
     },
     "execution_count": 73,
     "metadata": {},
     "output_type": "execute_result"
    }
   ],
   "source": [
    "dict2"
   ]
  },
  {
   "cell_type": "code",
   "execution_count": 74,
   "id": "377a30cc",
   "metadata": {},
   "outputs": [
    {
     "data": {
      "text/plain": [
       "'python'"
      ]
     },
     "execution_count": 74,
     "metadata": {},
     "output_type": "execute_result"
    }
   ],
   "source": [
    "dict2[\"mkn\"][0]"
   ]
  }
 ],
 "metadata": {
  "kernelspec": {
   "display_name": "Python 3",
   "language": "python",
   "name": "python3"
  },
  "language_info": {
   "codemirror_mode": {
    "name": "ipython",
    "version": 3
   },
   "file_extension": ".py",
   "mimetype": "text/x-python",
   "name": "python",
   "nbconvert_exporter": "python",
   "pygments_lexer": "ipython3",
   "version": "3.8.8"
  }
 },
 "nbformat": 4,
 "nbformat_minor": 5
}
