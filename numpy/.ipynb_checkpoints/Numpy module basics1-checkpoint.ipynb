{
 "cells": [
  {
   "cell_type": "code",
   "execution_count": 21,
   "id": "0a71b9c3",
   "metadata": {},
   "outputs": [],
   "source": [
    "from numpy import *"
   ]
  },
  {
   "cell_type": "code",
   "execution_count": 22,
   "id": "4eb94524",
   "metadata": {},
   "outputs": [],
   "source": [
    "arr1=array((1,2,3,4,56))"
   ]
  },
  {
   "cell_type": "code",
   "execution_count": 23,
   "id": "cd878695",
   "metadata": {},
   "outputs": [
    {
     "data": {
      "text/plain": [
       "array([ 1,  2,  3,  4, 56])"
      ]
     },
     "execution_count": 23,
     "metadata": {},
     "output_type": "execute_result"
    }
   ],
   "source": [
    "arr1"
   ]
  },
  {
   "cell_type": "markdown",
   "id": "fd4e9ec2",
   "metadata": {},
   "source": [
    "# shape"
   ]
  },
  {
   "cell_type": "code",
   "execution_count": 24,
   "id": "c7a5a386",
   "metadata": {},
   "outputs": [
    {
     "data": {
      "text/plain": [
       "(5,)"
      ]
     },
     "execution_count": 24,
     "metadata": {},
     "output_type": "execute_result"
    }
   ],
   "source": [
    "arr1.shape"
   ]
  },
  {
   "cell_type": "markdown",
   "id": "ba9ce53c",
   "metadata": {},
   "source": [
    "# size"
   ]
  },
  {
   "cell_type": "code",
   "execution_count": 25,
   "id": "44d4d565",
   "metadata": {},
   "outputs": [
    {
     "data": {
      "text/plain": [
       "5"
      ]
     },
     "execution_count": 25,
     "metadata": {},
     "output_type": "execute_result"
    }
   ],
   "source": [
    "arr1.size"
   ]
  },
  {
   "cell_type": "markdown",
   "id": "02e51859",
   "metadata": {},
   "source": [
    "# nbytes"
   ]
  },
  {
   "cell_type": "code",
   "execution_count": 26,
   "id": "9cd369f2",
   "metadata": {},
   "outputs": [
    {
     "data": {
      "text/plain": [
       "20"
      ]
     },
     "execution_count": 26,
     "metadata": {},
     "output_type": "execute_result"
    }
   ],
   "source": [
    "arr1.nbytes"
   ]
  },
  {
   "cell_type": "markdown",
   "id": "8a193b65",
   "metadata": {},
   "source": [
    "## no of dimensions "
   ]
  },
  {
   "cell_type": "code",
   "execution_count": 27,
   "id": "f840f1db",
   "metadata": {},
   "outputs": [
    {
     "name": "stdout",
     "output_type": "stream",
     "text": [
      "1\n"
     ]
    }
   ],
   "source": [
    "print(arr1.ndim)"
   ]
  },
  {
   "cell_type": "markdown",
   "id": "fee7b3b5",
   "metadata": {},
   "source": [
    "\n",
    "# specifying dimensions"
   ]
  },
  {
   "cell_type": "code",
   "execution_count": 28,
   "id": "aeeb0020",
   "metadata": {},
   "outputs": [
    {
     "name": "stdout",
     "output_type": "stream",
     "text": [
      "[[1 2 4 5 5 7]]\n",
      "(1, 6)\n",
      "int32\n"
     ]
    }
   ],
   "source": [
    "arr2=array((1,2,4,5,5,7),dtype='int',ndmin=2)\n",
    "print(arr2)\n",
    "print(arr2.shape)\n",
    "print(arr2.dtype)"
   ]
  },
  {
   "cell_type": "markdown",
   "id": "7c1e8544",
   "metadata": {},
   "source": [
    " # changing data type of an existing array\n"
   ]
  },
  {
   "cell_type": "code",
   "execution_count": 29,
   "id": "cdd35f6d",
   "metadata": {},
   "outputs": [
    {
     "name": "stdout",
     "output_type": "stream",
     "text": [
      "[[1. 2. 4. 5. 5. 7.]]\n",
      "[[b'1' b'2' b'4' b'5' b'5' b'7']]\n"
     ]
    }
   ],
   "source": [
    "newarr=arr2.astype('float')\n",
    "print(newarr)\n",
    "newarr1=arr2.astype('S')\n",
    "print(newarr1)"
   ]
  },
  {
   "cell_type": "code",
   "execution_count": 30,
   "id": "5752fa2a",
   "metadata": {},
   "outputs": [
    {
     "name": "stdout",
     "output_type": "stream",
     "text": [
      "|S11\n",
      "float64\n"
     ]
    }
   ],
   "source": [
    "print(newarr1.dtype)\n",
    "print(newarr.dtype)"
   ]
  },
  {
   "cell_type": "markdown",
   "id": "95e36abb",
   "metadata": {},
   "source": [
    "# itemsize module"
   ]
  },
  {
   "cell_type": "code",
   "execution_count": 31,
   "id": "e244a8c5",
   "metadata": {},
   "outputs": [
    {
     "name": "stdout",
     "output_type": "stream",
     "text": [
      "4\n"
     ]
    }
   ],
   "source": [
    "print(arr1.itemsize)# it returns the length of each element of array in bytes"
   ]
  },
  {
   "cell_type": "markdown",
   "id": "284fc5bd",
   "metadata": {},
   "source": [
    "# length function  "
   ]
  },
  {
   "cell_type": "code",
   "execution_count": 32,
   "id": "2a68b3f0",
   "metadata": {},
   "outputs": [
    {
     "name": "stdout",
     "output_type": "stream",
     "text": [
      "5\n"
     ]
    }
   ],
   "source": [
    "# it returns length of the array.For ndimension it returns the size of the first dimension\n",
    "print(len(arr1))"
   ]
  },
  {
   "cell_type": "markdown",
   "id": "491d48f2",
   "metadata": {},
   "source": [
    "# astype function"
   ]
  },
  {
   "cell_type": "code",
   "execution_count": 33,
   "id": "820e451e",
   "metadata": {},
   "outputs": [
    {
     "data": {
      "text/plain": [
       "array([1. , 2. , 3.5])"
      ]
     },
     "execution_count": 33,
     "metadata": {},
     "output_type": "execute_result"
    }
   ],
   "source": [
    "arr2=array([1,2,3.5])\n",
    "arr2"
   ]
  },
  {
   "cell_type": "code",
   "execution_count": 34,
   "id": "019a56fc",
   "metadata": {},
   "outputs": [
    {
     "name": "stdout",
     "output_type": "stream",
     "text": [
      "[b'1.0' b'2.0' b'3.5']\n"
     ]
    }
   ],
   "source": [
    "print(arr2.astype(\"S\"))"
   ]
  },
  {
   "cell_type": "code",
   "execution_count": 35,
   "id": "470f8eaf",
   "metadata": {},
   "outputs": [
    {
     "name": "stdout",
     "output_type": "stream",
     "text": [
      "[1 2 3]\n"
     ]
    }
   ],
   "source": [
    "print(arr2.astype(\"int\"))"
   ]
  },
  {
   "cell_type": "code",
   "execution_count": 36,
   "id": "de3bd714",
   "metadata": {},
   "outputs": [
    {
     "name": "stdout",
     "output_type": "stream",
     "text": [
      "[1.  2.  3.5]\n"
     ]
    }
   ],
   "source": [
    "print(arr2.astype(float))"
   ]
  },
  {
   "cell_type": "markdown",
   "id": "a63e6122",
   "metadata": {},
   "source": [
    "# indexing and slicing"
   ]
  },
  {
   "cell_type": "code",
   "execution_count": 37,
   "id": "1431b013",
   "metadata": {},
   "outputs": [
    {
     "data": {
      "text/plain": [
       "array([ 1,  2,  3,  4, 56])"
      ]
     },
     "execution_count": 37,
     "metadata": {},
     "output_type": "execute_result"
    }
   ],
   "source": [
    "arr1"
   ]
  },
  {
   "cell_type": "code",
   "execution_count": 39,
   "id": "3e2f79d7",
   "metadata": {},
   "outputs": [
    {
     "data": {
      "text/plain": [
       "2"
      ]
     },
     "execution_count": 39,
     "metadata": {},
     "output_type": "execute_result"
    }
   ],
   "source": [
    "arr1[1]"
   ]
  },
  {
   "cell_type": "code",
   "execution_count": 41,
   "id": "72efbc7f",
   "metadata": {},
   "outputs": [
    {
     "data": {
      "text/plain": [
       "56"
      ]
     },
     "execution_count": 41,
     "metadata": {},
     "output_type": "execute_result"
    }
   ],
   "source": [
    "arr1[-1]"
   ]
  },
  {
   "cell_type": "code",
   "execution_count": 44,
   "id": "a0c8c1dd",
   "metadata": {},
   "outputs": [
    {
     "data": {
      "text/plain": [
       "array([56,  4,  3,  2])"
      ]
     },
     "execution_count": 44,
     "metadata": {},
     "output_type": "execute_result"
    }
   ],
   "source": [
    "arr1[-1:0:-1]"
   ]
  },
  {
   "cell_type": "code",
   "execution_count": 47,
   "id": "dd217376",
   "metadata": {},
   "outputs": [
    {
     "data": {
      "text/plain": [
       "array([56,  4,  3,  2])"
      ]
     },
     "execution_count": 47,
     "metadata": {},
     "output_type": "execute_result"
    }
   ],
   "source": [
    "arr1[-1:-len(arr1):-1]"
   ]
  },
  {
   "cell_type": "code",
   "execution_count": 51,
   "id": "c6a54eac",
   "metadata": {},
   "outputs": [
    {
     "data": {
      "text/plain": [
       "array([1, 2, 3, 4])"
      ]
     },
     "execution_count": 51,
     "metadata": {},
     "output_type": "execute_result"
    }
   ],
   "source": [
    "arr1[0:-1]"
   ]
  },
  {
   "cell_type": "code",
   "execution_count": 52,
   "id": "955d87cf",
   "metadata": {},
   "outputs": [
    {
     "data": {
      "text/plain": [
       "array([1, 2, 3, 4])"
      ]
     },
     "execution_count": 52,
     "metadata": {},
     "output_type": "execute_result"
    }
   ],
   "source": [
    "arr1[-len(arr1):-1]"
   ]
  },
  {
   "cell_type": "code",
   "execution_count": 61,
   "id": "1b5a48b8",
   "metadata": {},
   "outputs": [
    {
     "data": {
      "text/plain": [
       "array([[  2,  32, 424,  24,  24],\n",
       "       [  2,  24,  24,   4,  24]])"
      ]
     },
     "execution_count": 61,
     "metadata": {},
     "output_type": "execute_result"
    }
   ],
   "source": [
    "arr3=array([[2,32,424,24,24],[2,24,24,4,24]])\n",
    "arr3"
   ]
  },
  {
   "cell_type": "code",
   "execution_count": 68,
   "id": "9d830f56",
   "metadata": {},
   "outputs": [
    {
     "data": {
      "text/plain": [
       "array([[  2,  32, 424,  24,  24]])"
      ]
     },
     "execution_count": 68,
     "metadata": {},
     "output_type": "execute_result"
    }
   ],
   "source": [
    "arr3[0:1] # we specifying only rows here i.e. [rows,columns]"
   ]
  },
  {
   "cell_type": "code",
   "execution_count": 65,
   "id": "87482efc",
   "metadata": {},
   "outputs": [
    {
     "data": {
      "text/plain": [
       "424"
      ]
     },
     "execution_count": 65,
     "metadata": {},
     "output_type": "execute_result"
    }
   ],
   "source": [
    "arr3[0,2]"
   ]
  },
  {
   "cell_type": "code",
   "execution_count": 75,
   "id": "7d129f33",
   "metadata": {},
   "outputs": [
    {
     "data": {
      "text/plain": [
       "array([[  2,  32, 424,  24,  24]])"
      ]
     },
     "execution_count": 75,
     "metadata": {},
     "output_type": "execute_result"
    }
   ],
   "source": [
    "arr3[:1,:]"
   ]
  },
  {
   "cell_type": "code",
   "execution_count": 72,
   "id": "9c107d21",
   "metadata": {},
   "outputs": [
    {
     "data": {
      "text/plain": [
       "array([[  2,  32, 424,  24,  24],\n",
       "       [  2,  24,  24,   4,  24]])"
      ]
     },
     "execution_count": 72,
     "metadata": {},
     "output_type": "execute_result"
    }
   ],
   "source": [
    "arr3[::,::] # syntax [start:end:step,start:end:step]"
   ]
  },
  {
   "cell_type": "markdown",
   "id": "1f5dfd6a",
   "metadata": {},
   "source": [
    "# boolean mask indexing"
   ]
  },
  {
   "cell_type": "code",
   "execution_count": 88,
   "id": "5fb14af0",
   "metadata": {},
   "outputs": [
    {
     "data": {
      "text/plain": [
       "array([ 1,  2,  3,  4, 56])"
      ]
     },
     "execution_count": 88,
     "metadata": {},
     "output_type": "execute_result"
    }
   ],
   "source": [
    "arr1"
   ]
  },
  {
   "cell_type": "code",
   "execution_count": 86,
   "id": "0f1db4cc",
   "metadata": {},
   "outputs": [
    {
     "data": {
      "text/plain": [
       "array([1, 2, 1, 2, 2])"
      ]
     },
     "execution_count": 86,
     "metadata": {},
     "output_type": "execute_result"
    }
   ],
   "source": [
    "arr1[[0,1,0,1,1]]"
   ]
  },
  {
   "cell_type": "code",
   "execution_count": 87,
   "id": "405866ed",
   "metadata": {},
   "outputs": [
    {
     "data": {
      "text/plain": [
       "array([2, 3])"
      ]
     },
     "execution_count": 87,
     "metadata": {},
     "output_type": "execute_result"
    }
   ],
   "source": [
    "arr1[[False,True,True,False,False]]"
   ]
  },
  {
   "cell_type": "code",
   "execution_count": 111,
   "id": "b5674a5a",
   "metadata": {},
   "outputs": [
    {
     "data": {
      "text/plain": [
       "array([False,  True, False,  True,  True])"
      ]
     },
     "execution_count": 111,
     "metadata": {},
     "output_type": "execute_result"
    }
   ],
   "source": [
    "mask_0=arr1%2==0\n",
    "mask_0"
   ]
  },
  {
   "cell_type": "code",
   "execution_count": 121,
   "id": "f14141e1",
   "metadata": {},
   "outputs": [],
   "source": [
    "mask=((arr1%2==0)&(arr1%4==0))"
   ]
  },
  {
   "cell_type": "code",
   "execution_count": 122,
   "id": "4e8ad4c5",
   "metadata": {},
   "outputs": [
    {
     "data": {
      "text/plain": [
       "array([ 4, 56])"
      ]
     },
     "execution_count": 122,
     "metadata": {},
     "output_type": "execute_result"
    }
   ],
   "source": [
    "arr1[mask]"
   ]
  },
  {
   "cell_type": "markdown",
   "id": "cc42e67b",
   "metadata": {},
   "source": [
    "# axis"
   ]
  },
  {
   "cell_type": "code",
   "execution_count": 123,
   "id": "2cba7ff7",
   "metadata": {},
   "outputs": [
    {
     "data": {
      "text/plain": [
       "array([[  2,  32, 424,  24,  24],\n",
       "       [  2,  24,  24,   4,  24]])"
      ]
     },
     "execution_count": 123,
     "metadata": {},
     "output_type": "execute_result"
    }
   ],
   "source": [
    "arr3"
   ]
  },
  {
   "cell_type": "code",
   "execution_count": 126,
   "id": "f329d6bb",
   "metadata": {},
   "outputs": [
    {
     "data": {
      "text/plain": [
       "array([506,  78])"
      ]
     },
     "execution_count": 126,
     "metadata": {},
     "output_type": "execute_result"
    }
   ],
   "source": [
    "arr3.sum(axis=1) # columns"
   ]
  },
  {
   "cell_type": "code",
   "execution_count": 127,
   "id": "cd1503d8",
   "metadata": {},
   "outputs": [
    {
     "data": {
      "text/plain": [
       "array([  4,  56, 448,  28,  48])"
      ]
     },
     "execution_count": 127,
     "metadata": {},
     "output_type": "execute_result"
    }
   ],
   "source": [
    "arr3.sum(axis=0) # rows"
   ]
  },
  {
   "cell_type": "code",
   "execution_count": 131,
   "id": "b73a1086",
   "metadata": {},
   "outputs": [
    {
     "data": {
      "text/plain": [
       "array([[[0, 1],\n",
       "        [2, 3]],\n",
       "\n",
       "       [[4, 5],\n",
       "        [6, 7]]])"
      ]
     },
     "execution_count": 131,
     "metadata": {},
     "output_type": "execute_result"
    }
   ],
   "source": [
    "array([[[0,1],[2,3]],[[4,5],[6,7]]])"
   ]
  },
  {
   "cell_type": "code",
   "execution_count": 132,
   "id": "00496bdc",
   "metadata": {},
   "outputs": [
    {
     "data": {
      "text/plain": [
       "array([[ 4,  6],\n",
       "       [ 8, 10]])"
      ]
     },
     "execution_count": 132,
     "metadata": {},
     "output_type": "execute_result"
    }
   ],
   "source": [
    "array([[[0,1],[2,3]],[[4,5],[6,7]]]).sum(axis=0) # along different 2D arrays"
   ]
  },
  {
   "cell_type": "code",
   "execution_count": 133,
   "id": "37321089",
   "metadata": {},
   "outputs": [
    {
     "data": {
      "text/plain": [
       "array([[ 2,  4],\n",
       "       [10, 12]])"
      ]
     },
     "execution_count": 133,
     "metadata": {},
     "output_type": "execute_result"
    }
   ],
   "source": [
    "array([[[0,1],[2,3]],[[4,5],[6,7]]]).sum(axis=1) # along different rows in each 2D array"
   ]
  },
  {
   "cell_type": "code",
   "execution_count": 134,
   "id": "01d0f322",
   "metadata": {},
   "outputs": [
    {
     "data": {
      "text/plain": [
       "array([[ 1,  5],\n",
       "       [ 9, 13]])"
      ]
     },
     "execution_count": 134,
     "metadata": {},
     "output_type": "execute_result"
    }
   ],
   "source": [
    "array([[[0,1],[2,3]],[[4,5],[6,7]]]).sum(axis=2) # along different columns in each 2D array"
   ]
  },
  {
   "cell_type": "markdown",
   "id": "0397c074",
   "metadata": {},
   "source": [
    "# min,max,argmin,argmax"
   ]
  },
  {
   "cell_type": "code",
   "execution_count": 135,
   "id": "fddf555c",
   "metadata": {},
   "outputs": [],
   "source": [
    "# min returns minimum number and argmin returns index of the minimum number\n",
    "# for max also same rule"
   ]
  },
  {
   "cell_type": "code",
   "execution_count": 136,
   "id": "cfb81a76",
   "metadata": {},
   "outputs": [
    {
     "data": {
      "text/plain": [
       "array([ 1,  2,  3,  4, 56])"
      ]
     },
     "execution_count": 136,
     "metadata": {},
     "output_type": "execute_result"
    }
   ],
   "source": [
    "arr1"
   ]
  },
  {
   "cell_type": "code",
   "execution_count": 138,
   "id": "e248c9fa",
   "metadata": {},
   "outputs": [
    {
     "data": {
      "text/plain": [
       "1"
      ]
     },
     "execution_count": 138,
     "metadata": {},
     "output_type": "execute_result"
    }
   ],
   "source": [
    "arr1.min()"
   ]
  },
  {
   "cell_type": "code",
   "execution_count": 139,
   "id": "6c27e3d6",
   "metadata": {},
   "outputs": [
    {
     "data": {
      "text/plain": [
       "0"
      ]
     },
     "execution_count": 139,
     "metadata": {},
     "output_type": "execute_result"
    }
   ],
   "source": [
    "arr1.argmin()"
   ]
  },
  {
   "cell_type": "code",
   "execution_count": 140,
   "id": "de1ec027",
   "metadata": {},
   "outputs": [
    {
     "data": {
      "text/plain": [
       "56"
      ]
     },
     "execution_count": 140,
     "metadata": {},
     "output_type": "execute_result"
    }
   ],
   "source": [
    "arr1.max()"
   ]
  },
  {
   "cell_type": "code",
   "execution_count": 141,
   "id": "738a6528",
   "metadata": {},
   "outputs": [
    {
     "data": {
      "text/plain": [
       "4"
      ]
     },
     "execution_count": 141,
     "metadata": {},
     "output_type": "execute_result"
    }
   ],
   "source": [
    "arr1.argmax()"
   ]
  },
  {
   "cell_type": "code",
   "execution_count": 144,
   "id": "4a46c53f",
   "metadata": {},
   "outputs": [
    {
     "data": {
      "text/plain": [
       "0"
      ]
     },
     "execution_count": 144,
     "metadata": {},
     "output_type": "execute_result"
    }
   ],
   "source": [
    "array([1,1,2,3,4,4]).argmin()"
   ]
  },
  {
   "cell_type": "code",
   "execution_count": 145,
   "id": "d5df8baa",
   "metadata": {},
   "outputs": [
    {
     "data": {
      "text/plain": [
       "4"
      ]
     },
     "execution_count": 145,
     "metadata": {},
     "output_type": "execute_result"
    }
   ],
   "source": [
    "array([1,1,2,3,4,4]).argmax()"
   ]
  },
  {
   "cell_type": "markdown",
   "id": "6083a4ce",
   "metadata": {},
   "source": [
    "# sort,argsort"
   ]
  },
  {
   "cell_type": "code",
   "execution_count": 154,
   "id": "fce9b06a",
   "metadata": {},
   "outputs": [
    {
     "data": {
      "text/plain": [
       "array([  11,   12,   24,  232,  242, 1314, 4252])"
      ]
     },
     "execution_count": 154,
     "metadata": {},
     "output_type": "execute_result"
    }
   ],
   "source": [
    "import numpy as np\n",
    "sort=array([232,1314,12,242,11,4252,24])\n",
    "np.sort(sort)"
   ]
  },
  {
   "cell_type": "code",
   "execution_count": 157,
   "id": "a92179c9",
   "metadata": {},
   "outputs": [
    {
     "data": {
      "text/plain": [
       "array([4252, 1314,  242,  232,   24,   12,   11])"
      ]
     },
     "execution_count": 157,
     "metadata": {},
     "output_type": "execute_result"
    }
   ],
   "source": [
    "np.sort(sort)[::-1]"
   ]
  },
  {
   "cell_type": "code",
   "execution_count": 156,
   "id": "f7a1880b",
   "metadata": {},
   "outputs": [
    {
     "data": {
      "text/plain": [
       "array([4, 2, 6, 0, 3, 1, 5], dtype=int64)"
      ]
     },
     "execution_count": 156,
     "metadata": {},
     "output_type": "execute_result"
    }
   ],
   "source": [
    "np.argsort(sort) # return positions of the elements in the sorted array with respect to unsorted array"
   ]
  },
  {
   "cell_type": "code",
   "execution_count": 158,
   "id": "7793197f",
   "metadata": {},
   "outputs": [
    {
     "data": {
      "text/plain": [
       "array([5, 1, 3, 0, 6, 2, 4], dtype=int64)"
      ]
     },
     "execution_count": 158,
     "metadata": {},
     "output_type": "execute_result"
    }
   ],
   "source": [
    "np.argsort(sort)[::-1]"
   ]
  },
  {
   "cell_type": "markdown",
   "id": "18657e9a",
   "metadata": {},
   "source": [
    "# unique"
   ]
  },
  {
   "cell_type": "code",
   "execution_count": 160,
   "id": "70e7ced0",
   "metadata": {},
   "outputs": [
    {
     "data": {
      "text/plain": [
       "array([ 1,  1,  1,  1,  3,  3, 32,  4,  5,  5,  4])"
      ]
     },
     "execution_count": 160,
     "metadata": {},
     "output_type": "execute_result"
    }
   ],
   "source": [
    "unique=array([1,1,1,1,3,3,32,4,5,5,4,])\n",
    "unique"
   ]
  },
  {
   "cell_type": "code",
   "execution_count": 162,
   "id": "90cb3ace",
   "metadata": {},
   "outputs": [
    {
     "data": {
      "text/plain": [
       "array([ 1,  3,  4,  5, 32])"
      ]
     },
     "execution_count": 162,
     "metadata": {},
     "output_type": "execute_result"
    }
   ],
   "source": [
    "np.unique(unique)  # removes duplicate elements in the array"
   ]
  },
  {
   "cell_type": "code",
   "execution_count": 163,
   "id": "562f5b9f",
   "metadata": {},
   "outputs": [
    {
     "data": {
      "text/plain": [
       "(array([ 1,  3,  4,  5, 32]), array([4, 2, 2, 2, 1], dtype=int64))"
      ]
     },
     "execution_count": 163,
     "metadata": {},
     "output_type": "execute_result"
    }
   ],
   "source": [
    "np.unique(unique,return_counts=True) # here 1 repeats 4 times, 3 repeats 2 times, 4 repeats 2 times, 5 repeats 2 times and 32 repeats 1 time"
   ]
  },
  {
   "cell_type": "markdown",
   "id": "38f7ce90",
   "metadata": {},
   "source": [
    "# mean,median"
   ]
  },
  {
   "cell_type": "code",
   "execution_count": 164,
   "id": "b1d9067e",
   "metadata": {},
   "outputs": [
    {
     "data": {
      "text/plain": [
       "array([ 1,  2,  3,  4, 56])"
      ]
     },
     "execution_count": 164,
     "metadata": {},
     "output_type": "execute_result"
    }
   ],
   "source": [
    "arr1"
   ]
  },
  {
   "cell_type": "code",
   "execution_count": 165,
   "id": "2660934c",
   "metadata": {},
   "outputs": [
    {
     "data": {
      "text/plain": [
       "13.2"
      ]
     },
     "execution_count": 165,
     "metadata": {},
     "output_type": "execute_result"
    }
   ],
   "source": [
    "np.mean(arr1)"
   ]
  },
  {
   "cell_type": "code",
   "execution_count": 166,
   "id": "a2071bf7",
   "metadata": {},
   "outputs": [
    {
     "data": {
      "text/plain": [
       "3.0"
      ]
     },
     "execution_count": 166,
     "metadata": {},
     "output_type": "execute_result"
    }
   ],
   "source": [
    "np.median(arr1)"
   ]
  },
  {
   "cell_type": "code",
   "execution_count": 167,
   "id": "5e38efdd",
   "metadata": {},
   "outputs": [
    {
     "ename": "AttributeError",
     "evalue": "module 'numpy' has no attribute 'mode'",
     "output_type": "error",
     "traceback": [
      "\u001b[1;31m---------------------------------------------------------------------------\u001b[0m",
      "\u001b[1;31mAttributeError\u001b[0m                            Traceback (most recent call last)",
      "\u001b[1;32m<ipython-input-167-152eccfe4f83>\u001b[0m in \u001b[0;36m<module>\u001b[1;34m\u001b[0m\n\u001b[1;32m----> 1\u001b[1;33m \u001b[0mnp\u001b[0m\u001b[1;33m.\u001b[0m\u001b[0mmode\u001b[0m\u001b[1;33m(\u001b[0m\u001b[0marr1\u001b[0m\u001b[1;33m)\u001b[0m\u001b[1;33m\u001b[0m\u001b[1;33m\u001b[0m\u001b[0m\n\u001b[0m",
      "\u001b[1;32m~\\anaconda3\\lib\\site-packages\\numpy\\__init__.py\u001b[0m in \u001b[0;36m__getattr__\u001b[1;34m(attr)\u001b[0m\n\u001b[0;32m    301\u001b[0m                 \u001b[1;32mreturn\u001b[0m \u001b[0mTester\u001b[0m\u001b[1;33m\u001b[0m\u001b[1;33m\u001b[0m\u001b[0m\n\u001b[0;32m    302\u001b[0m \u001b[1;33m\u001b[0m\u001b[0m\n\u001b[1;32m--> 303\u001b[1;33m             raise AttributeError(\"module {!r} has no attribute \"\n\u001b[0m\u001b[0;32m    304\u001b[0m                                  \"{!r}\".format(__name__, attr))\n\u001b[0;32m    305\u001b[0m \u001b[1;33m\u001b[0m\u001b[0m\n",
      "\u001b[1;31mAttributeError\u001b[0m: module 'numpy' has no attribute 'mode'"
     ]
    }
   ],
   "source": [
    "np.mode(arr1)"
   ]
  },
  {
   "cell_type": "code",
   "execution_count": 169,
   "id": "57a140eb",
   "metadata": {},
   "outputs": [
    {
     "data": {
      "text/plain": [
       "151.0"
      ]
     },
     "execution_count": 169,
     "metadata": {},
     "output_type": "execute_result"
    }
   ],
   "source": [
    "np.median(array([211,1351,1,151,141]))"
   ]
  },
  {
   "cell_type": "markdown",
   "id": "49b99ef5",
   "metadata": {},
   "source": [
    "# standard deviation"
   ]
  },
  {
   "cell_type": "code",
   "execution_count": 176,
   "id": "049c62c1",
   "metadata": {},
   "outputs": [
    {
     "data": {
      "text/plain": [
       "21.423351745233514"
      ]
     },
     "execution_count": 176,
     "metadata": {},
     "output_type": "execute_result"
    }
   ],
   "source": [
    "np.std(arr1)"
   ]
  },
  {
   "cell_type": "code",
   "execution_count": 174,
   "id": "1508924d",
   "metadata": {
    "scrolled": true
   },
   "outputs": [
    {
     "data": {
      "text/plain": [
       "21.423351745233514"
      ]
     },
     "execution_count": 174,
     "metadata": {},
     "output_type": "execute_result"
    }
   ],
   "source": [
    "np.std(arr1,ddof=0) # this is population std"
   ]
  },
  {
   "cell_type": "code",
   "execution_count": 175,
   "id": "5c669edd",
   "metadata": {},
   "outputs": [
    {
     "data": {
      "text/plain": [
       "23.95203540411545"
      ]
     },
     "execution_count": 175,
     "metadata": {},
     "output_type": "execute_result"
    }
   ],
   "source": [
    "np.std(arr1,ddof=1) # this is sample std"
   ]
  },
  {
   "cell_type": "code",
   "execution_count": 171,
   "id": "33d0f044",
   "metadata": {},
   "outputs": [
    {
     "data": {
      "text/plain": [
       "494.8130960271767"
      ]
     },
     "execution_count": 171,
     "metadata": {},
     "output_type": "execute_result"
    }
   ],
   "source": [
    "np.std(array([211,1351,1,151,141]))"
   ]
  },
  {
   "cell_type": "code",
   "execution_count": null,
   "id": "7abf02d5",
   "metadata": {},
   "outputs": [],
   "source": []
  }
 ],
 "metadata": {
  "kernelspec": {
   "display_name": "Python 3",
   "language": "python",
   "name": "python3"
  },
  "language_info": {
   "codemirror_mode": {
    "name": "ipython",
    "version": 3
   },
   "file_extension": ".py",
   "mimetype": "text/x-python",
   "name": "python",
   "nbconvert_exporter": "python",
   "pygments_lexer": "ipython3",
   "version": "3.8.8"
  }
 },
 "nbformat": 4,
 "nbformat_minor": 5
}
