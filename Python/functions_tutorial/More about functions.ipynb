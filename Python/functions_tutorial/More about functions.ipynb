{
 "cells": [
  {
   "cell_type": "markdown",
   "id": "5b775aab",
   "metadata": {},
   "source": [
    "# recursion"
   ]
  },
  {
   "cell_type": "code",
   "execution_count": 1,
   "id": "57754ef7",
   "metadata": {},
   "outputs": [
    {
     "name": "stdout",
     "output_type": "stream",
     "text": [
      "120\n"
     ]
    }
   ],
   "source": [
    "def fact(n):\n",
    "    if n==0:\n",
    "        return 1\n",
    "    return n * fact(n-1)\n",
    "result=fact(5)\n",
    "print(result)"
   ]
  },
  {
   "cell_type": "markdown",
   "id": "59fd5cbd",
   "metadata": {},
   "source": [
    "# Anonymous functions | Lambda"
   ]
  },
  {
   "cell_type": "code",
   "execution_count": 1,
   "id": "7005934e",
   "metadata": {},
   "outputs": [
    {
     "name": "stdout",
     "output_type": "stream",
     "text": [
      "25\n"
     ]
    }
   ],
   "source": [
    "square=lambda a:a*a\n",
    "result=square(5)\n",
    "print(result)"
   ]
  },
  {
   "cell_type": "code",
   "execution_count": 2,
   "id": "ad60f3f9",
   "metadata": {},
   "outputs": [
    {
     "name": "stdout",
     "output_type": "stream",
     "text": [
      "10\n"
     ]
    }
   ],
   "source": [
    "function=lambda a,b:a+b\n",
    "result=function(5,5)\n",
    "print(result)"
   ]
  },
  {
   "cell_type": "markdown",
   "id": "faecf8bf",
   "metadata": {},
   "source": [
    "# filter,map,reduce "
   ]
  },
  {
   "cell_type": "code",
   "execution_count": 3,
   "id": "fa0194f5",
   "metadata": {},
   "outputs": [
    {
     "name": "stdout",
     "output_type": "stream",
     "text": [
      "[2, 32, 32]\n"
     ]
    }
   ],
   "source": [
    "def is_even(n):   # filter is used to filter(remove unwanted data) the values from a sequence\n",
    "    return n%2==0\n",
    "nums=[3,2,23,32,23,23,23,32,423]\n",
    "evens=list(filter(is_even,nums))  # it takes two arguments 1) function and 2) sequence\n",
    "print(evens)"
   ]
  },
  {
   "cell_type": "code",
   "execution_count": 11,
   "id": "d5d62321",
   "metadata": {},
   "outputs": [
    {
     "name": "stdout",
     "output_type": "stream",
     "text": [
      "[2, 32, 32]\n"
     ]
    }
   ],
   "source": [
    "nums=[3,2,23,32,23,23,23,32,423]\n",
    "evens=list(filter(lambda n:n%2==0,nums))\n",
    "print(evens)"
   ]
  },
  {
   "cell_type": "code",
   "execution_count": 12,
   "id": "79792034",
   "metadata": {},
   "outputs": [
    {
     "name": "stdout",
     "output_type": "stream",
     "text": [
      "[2, 32, 32]\n",
      "[4, 64, 64]\n"
     ]
    }
   ],
   "source": [
    "# map is used to perform some operations on the filtered data\n",
    "nums=[3,2,23,32,23,23,23,32,423]\n",
    "evens=list(filter(lambda n:n%2==0,nums))\n",
    "doubles=list(map(lambda n:n+n,evens)) # it takes two arguments 1) function and 2) sequence\n",
    "print(evens)\n",
    "print(doubles)"
   ]
  },
  {
   "cell_type": "code",
   "execution_count": 13,
   "id": "6f1c4dde",
   "metadata": {},
   "outputs": [
    {
     "name": "stdout",
     "output_type": "stream",
     "text": [
      "[2, 32, 32]\n",
      "[4, 64, 64]\n",
      "132\n"
     ]
    }
   ],
   "source": [
    "from functools import *\n",
    "# reduce is used to reduce the values in the sequence to a single value by performing operations\n",
    "nums=[3,2,23,32,23,23,23,32,423]\n",
    "evens=list(filter(lambda n:n%2==0,nums))\n",
    "doubles=list(map(lambda n:n+n,evens))\n",
    "sum=reduce(lambda a,b:a+b,doubles) # it takes two arguments 1) function and 2) sequence\n",
    "print(evens)\n",
    "print(doubles)\n",
    "print(sum)"
   ]
  },
  {
   "cell_type": "markdown",
   "id": "eb21588c",
   "metadata": {},
   "source": [
    "# decorators"
   ]
  },
  {
   "cell_type": "code",
   "execution_count": null,
   "id": "f7dcb742",
   "metadata": {},
   "outputs": [],
   "source": []
  },
  {
   "cell_type": "markdown",
   "id": "079e9bd1",
   "metadata": {},
   "source": [
    "#   --name--   special variable"
   ]
  },
  {
   "cell_type": "code",
   "execution_count": 27,
   "id": "fb00658b",
   "metadata": {},
   "outputs": [
    {
     "name": "stdout",
     "output_type": "stream",
     "text": [
      "hello\n",
      "__main__\n"
     ]
    }
   ],
   "source": [
    "print(\"hello\")\n",
    "print(__name__)"
   ]
  },
  {
   "cell_type": "code",
   "execution_count": null,
   "id": "39749f8c",
   "metadata": {},
   "outputs": [],
   "source": []
  },
  {
   "cell_type": "code",
   "execution_count": null,
   "id": "0a9117bb",
   "metadata": {},
   "outputs": [],
   "source": []
  },
  {
   "cell_type": "code",
   "execution_count": null,
   "id": "124a2667",
   "metadata": {},
   "outputs": [],
   "source": []
  },
  {
   "cell_type": "code",
   "execution_count": null,
   "id": "92c13422",
   "metadata": {},
   "outputs": [],
   "source": []
  }
 ],
 "metadata": {
  "kernelspec": {
   "display_name": "Python 3",
   "language": "python",
   "name": "python3"
  },
  "language_info": {
   "codemirror_mode": {
    "name": "ipython",
    "version": 3
   },
   "file_extension": ".py",
   "mimetype": "text/x-python",
   "name": "python",
   "nbconvert_exporter": "python",
   "pygments_lexer": "ipython3",
   "version": "3.8.8"
  }
 },
 "nbformat": 4,
 "nbformat_minor": 5
}
