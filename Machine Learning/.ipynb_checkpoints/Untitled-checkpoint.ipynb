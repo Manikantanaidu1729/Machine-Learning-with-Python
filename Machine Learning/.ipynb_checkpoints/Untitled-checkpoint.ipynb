{
 "cells": [
  {
   "cell_type": "code",
   "execution_count": 4,
   "id": "af319dd3",
   "metadata": {},
   "outputs": [],
   "source": [
    "import pandas as pd"
   ]
  },
  {
   "cell_type": "code",
   "execution_count": 5,
   "id": "c88b172a",
   "metadata": {},
   "outputs": [],
   "source": [
    "data=pd.read_csv('C:/Users/Manikanta/Machine learning/CSV Files/salaries.csv')"
   ]
  },
  {
   "cell_type": "code",
   "execution_count": 8,
   "id": "739d2350",
   "metadata": {},
   "outputs": [
    {
     "data": {
      "text/plain": [
       "(16, 4)"
      ]
     },
     "execution_count": 8,
     "metadata": {},
     "output_type": "execute_result"
    }
   ],
   "source": [
    "data.shape"
   ]
  },
  {
   "cell_type": "code",
   "execution_count": 5,
   "id": "125befd9",
   "metadata": {},
   "outputs": [
    {
     "data": {
      "text/html": [
       "<div>\n",
       "<style scoped>\n",
       "    .dataframe tbody tr th:only-of-type {\n",
       "        vertical-align: middle;\n",
       "    }\n",
       "\n",
       "    .dataframe tbody tr th {\n",
       "        vertical-align: top;\n",
       "    }\n",
       "\n",
       "    .dataframe thead th {\n",
       "        text-align: right;\n",
       "    }\n",
       "</style>\n",
       "<table border=\"1\" class=\"dataframe\">\n",
       "  <thead>\n",
       "    <tr style=\"text-align: right;\">\n",
       "      <th></th>\n",
       "      <th>company</th>\n",
       "      <th>job</th>\n",
       "      <th>degree</th>\n",
       "      <th>salary_more_then_100k</th>\n",
       "    </tr>\n",
       "  </thead>\n",
       "  <tbody>\n",
       "    <tr>\n",
       "      <th>0</th>\n",
       "      <td>google</td>\n",
       "      <td>sales executive</td>\n",
       "      <td>bachelors</td>\n",
       "      <td>0</td>\n",
       "    </tr>\n",
       "    <tr>\n",
       "      <th>1</th>\n",
       "      <td>google</td>\n",
       "      <td>sales executive</td>\n",
       "      <td>masters</td>\n",
       "      <td>0</td>\n",
       "    </tr>\n",
       "    <tr>\n",
       "      <th>2</th>\n",
       "      <td>google</td>\n",
       "      <td>business manager</td>\n",
       "      <td>bachelors</td>\n",
       "      <td>1</td>\n",
       "    </tr>\n",
       "    <tr>\n",
       "      <th>3</th>\n",
       "      <td>google</td>\n",
       "      <td>business manager</td>\n",
       "      <td>masters</td>\n",
       "      <td>1</td>\n",
       "    </tr>\n",
       "    <tr>\n",
       "      <th>4</th>\n",
       "      <td>google</td>\n",
       "      <td>computer programmer</td>\n",
       "      <td>bachelors</td>\n",
       "      <td>0</td>\n",
       "    </tr>\n",
       "  </tbody>\n",
       "</table>\n",
       "</div>"
      ],
      "text/plain": [
       "  company                  job     degree  salary_more_then_100k\n",
       "0  google      sales executive  bachelors                      0\n",
       "1  google      sales executive    masters                      0\n",
       "2  google     business manager  bachelors                      1\n",
       "3  google     business manager    masters                      1\n",
       "4  google  computer programmer  bachelors                      0"
      ]
     },
     "execution_count": 5,
     "metadata": {},
     "output_type": "execute_result"
    }
   ],
   "source": [
    "data.head()"
   ]
  },
  {
   "cell_type": "code",
   "execution_count": 9,
   "id": "32feb2c2",
   "metadata": {},
   "outputs": [
    {
     "name": "stdout",
     "output_type": "stream",
     "text": [
      "0         sales executive\n",
      "1         sales executive\n",
      "2        business manager\n",
      "3        business manager\n",
      "4     computer programmer\n",
      "5     computer programmer\n",
      "6         sales executive\n",
      "7     computer programmer\n",
      "8        business manager\n",
      "9        business manager\n",
      "10        sales executive\n",
      "11        sales executive\n",
      "12       business manager\n",
      "13       business manager\n",
      "14    computer programmer\n",
      "15    computer programmer\n",
      "Name: job, dtype: object\n"
     ]
    }
   ],
   "source": [
    "print(data.job)"
   ]
  },
  {
   "cell_type": "code",
   "execution_count": 17,
   "id": "33a30f07",
   "metadata": {},
   "outputs": [
    {
     "data": {
      "text/plain": [
       "16"
      ]
     },
     "execution_count": 17,
     "metadata": {},
     "output_type": "execute_result"
    }
   ],
   "source": [
    "len(data.job)"
   ]
  },
  {
   "cell_type": "code",
   "execution_count": 21,
   "id": "34572ed7",
   "metadata": {},
   "outputs": [
    {
     "name": "stdout",
     "output_type": "stream",
     "text": [
      "[0         sales executive\n",
      "1         sales executive\n",
      "2        business manager\n",
      "3        business manager\n",
      "4     computer programmer\n",
      "5     computer programmer\n",
      "6         sales executive\n",
      "7     computer programmer\n",
      "8        business manager\n",
      "9        business manager\n",
      "10        sales executive\n",
      "11        sales executive\n",
      "12       business manager\n",
      "13       business manager\n",
      "14    computer programmer\n",
      "15    computer programmer\n",
      "Name: job, dtype: object]\n"
     ]
    }
   ],
   "source": [
    "print([data.job])"
   ]
  },
  {
   "cell_type": "code",
   "execution_count": 22,
   "id": "6b56d1ad",
   "metadata": {},
   "outputs": [
    {
     "data": {
      "text/plain": [
       "1"
      ]
     },
     "execution_count": 22,
     "metadata": {},
     "output_type": "execute_result"
    }
   ],
   "source": [
    "len([data.job])"
   ]
  },
  {
   "cell_type": "code",
   "execution_count": 35,
   "id": "dac698fe",
   "metadata": {},
   "outputs": [],
   "source": [
    "a=([data.job],[data.degree])"
   ]
  },
  {
   "cell_type": "code",
   "execution_count": 36,
   "id": "505168fa",
   "metadata": {},
   "outputs": [
    {
     "data": {
      "text/plain": [
       "2"
      ]
     },
     "execution_count": 36,
     "metadata": {},
     "output_type": "execute_result"
    }
   ],
   "source": [
    "len(a)"
   ]
  },
  {
   "cell_type": "code",
   "execution_count": 37,
   "id": "7d123341",
   "metadata": {},
   "outputs": [
    {
     "data": {
      "text/plain": [
       "1"
      ]
     },
     "execution_count": 37,
     "metadata": {},
     "output_type": "execute_result"
    }
   ],
   "source": [
    "len([a])"
   ]
  },
  {
   "cell_type": "code",
   "execution_count": 38,
   "id": "7f8b604e",
   "metadata": {},
   "outputs": [
    {
     "data": {
      "text/plain": [
       "3"
      ]
     },
     "execution_count": 38,
     "metadata": {},
     "output_type": "execute_result"
    }
   ],
   "source": [
    "b=\"ram\"\n",
    "len(b)"
   ]
  },
  {
   "cell_type": "code",
   "execution_count": 39,
   "id": "3826ee79",
   "metadata": {},
   "outputs": [
    {
     "data": {
      "text/plain": [
       "1"
      ]
     },
     "execution_count": 39,
     "metadata": {},
     "output_type": "execute_result"
    }
   ],
   "source": [
    "len([b])"
   ]
  },
  {
   "cell_type": "code",
   "execution_count": 47,
   "id": "aef1e9e0",
   "metadata": {},
   "outputs": [],
   "source": [
    "d=pd.Series.tolist(data.job)"
   ]
  },
  {
   "cell_type": "code",
   "execution_count": 48,
   "id": "40a0025f",
   "metadata": {},
   "outputs": [
    {
     "data": {
      "text/plain": [
       "16"
      ]
     },
     "execution_count": 48,
     "metadata": {},
     "output_type": "execute_result"
    }
   ],
   "source": [
    "len(d)"
   ]
  },
  {
   "cell_type": "code",
   "execution_count": 49,
   "id": "2562bfca",
   "metadata": {},
   "outputs": [
    {
     "data": {
      "text/plain": [
       "['sales executive',\n",
       " 'sales executive',\n",
       " 'business manager',\n",
       " 'business manager',\n",
       " 'computer programmer',\n",
       " 'computer programmer',\n",
       " 'sales executive',\n",
       " 'computer programmer',\n",
       " 'business manager',\n",
       " 'business manager',\n",
       " 'sales executive',\n",
       " 'sales executive',\n",
       " 'business manager',\n",
       " 'business manager',\n",
       " 'computer programmer',\n",
       " 'computer programmer']"
      ]
     },
     "execution_count": 49,
     "metadata": {},
     "output_type": "execute_result"
    }
   ],
   "source": [
    "d"
   ]
  },
  {
   "cell_type": "code",
   "execution_count": null,
   "id": "55171309",
   "metadata": {},
   "outputs": [],
   "source": []
  }
 ],
 "metadata": {
  "kernelspec": {
   "display_name": "Python 3",
   "language": "python",
   "name": "python3"
  },
  "language_info": {
   "codemirror_mode": {
    "name": "ipython",
    "version": 3
   },
   "file_extension": ".py",
   "mimetype": "text/x-python",
   "name": "python",
   "nbconvert_exporter": "python",
   "pygments_lexer": "ipython3",
   "version": "3.8.8"
  }
 },
 "nbformat": 4,
 "nbformat_minor": 5
}
