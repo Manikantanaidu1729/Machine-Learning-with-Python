{
 "cells": [
  {
   "cell_type": "code",
   "execution_count": 186,
   "id": "a70b5108",
   "metadata": {},
   "outputs": [],
   "source": [
    "import numpy as np"
   ]
  },
  {
   "cell_type": "markdown",
   "id": "df0776f6",
   "metadata": {},
   "source": [
    "### dtype and type"
   ]
  },
  {
   "cell_type": "code",
   "execution_count": 22,
   "id": "f03ddf6c",
   "metadata": {},
   "outputs": [],
   "source": [
    "a = np.array([1,2,3,5,7],dtype=\"i\")"
   ]
  },
  {
   "cell_type": "code",
   "execution_count": 23,
   "id": "43e5e81b",
   "metadata": {},
   "outputs": [],
   "source": [
    "b=np.array((2.,3,5))"
   ]
  },
  {
   "cell_type": "code",
   "execution_count": 24,
   "id": "b26cd9e2",
   "metadata": {},
   "outputs": [
    {
     "data": {
      "text/plain": [
       "numpy.ndarray"
      ]
     },
     "execution_count": 24,
     "metadata": {},
     "output_type": "execute_result"
    }
   ],
   "source": [
    "type(a)"
   ]
  },
  {
   "cell_type": "code",
   "execution_count": 25,
   "id": "9ce5d0b7",
   "metadata": {},
   "outputs": [
    {
     "data": {
      "text/plain": [
       "numpy.ndarray"
      ]
     },
     "execution_count": 25,
     "metadata": {},
     "output_type": "execute_result"
    }
   ],
   "source": [
    "type(b)"
   ]
  },
  {
   "cell_type": "code",
   "execution_count": 26,
   "id": "5eb97ee0",
   "metadata": {},
   "outputs": [
    {
     "data": {
      "text/plain": [
       "dtype('int32')"
      ]
     },
     "execution_count": 26,
     "metadata": {},
     "output_type": "execute_result"
    }
   ],
   "source": [
    "a.dtype"
   ]
  },
  {
   "cell_type": "code",
   "execution_count": 27,
   "id": "60910893",
   "metadata": {},
   "outputs": [
    {
     "data": {
      "text/plain": [
       "dtype('float64')"
      ]
     },
     "execution_count": 27,
     "metadata": {},
     "output_type": "execute_result"
    }
   ],
   "source": [
    "b.dtype"
   ]
  },
  {
   "cell_type": "markdown",
   "id": "f65be659",
   "metadata": {},
   "source": [
    "### dimension"
   ]
  },
  {
   "cell_type": "code",
   "execution_count": 40,
   "id": "19741457",
   "metadata": {},
   "outputs": [],
   "source": [
    "a=np.array([[1,2,3],[2,3,4]])"
   ]
  },
  {
   "cell_type": "code",
   "execution_count": 41,
   "id": "01ef3155",
   "metadata": {},
   "outputs": [
    {
     "data": {
      "text/plain": [
       "2"
      ]
     },
     "execution_count": 41,
     "metadata": {},
     "output_type": "execute_result"
    }
   ],
   "source": [
    "a.ndim"
   ]
  },
  {
   "cell_type": "code",
   "execution_count": 42,
   "id": "15900e17",
   "metadata": {},
   "outputs": [
    {
     "data": {
      "text/plain": [
       "1"
      ]
     },
     "execution_count": 42,
     "metadata": {},
     "output_type": "execute_result"
    }
   ],
   "source": [
    "b.ndim"
   ]
  },
  {
   "cell_type": "code",
   "execution_count": 43,
   "id": "f7edfe55",
   "metadata": {},
   "outputs": [
    {
     "data": {
      "text/plain": [
       "2"
      ]
     },
     "execution_count": 43,
     "metadata": {},
     "output_type": "execute_result"
    }
   ],
   "source": [
    "a[0,1]  # a[a1,a2]  a1 represent a.ndim-1 and a2 represent a.ndim-2"
   ]
  },
  {
   "cell_type": "code",
   "execution_count": 50,
   "id": "907001ce",
   "metadata": {},
   "outputs": [],
   "source": [
    "c=np.array([[[1,2,3],[4,5,6]],[[0,2,3],[4,5,6]]])  # c[a1,a2,a3]  a1 represent a.ndim-1, a2 represent a.ndim-2 and a2 represent a.ndim-3"
   ]
  },
  {
   "cell_type": "code",
   "execution_count": 45,
   "id": "6cdb5d86",
   "metadata": {},
   "outputs": [
    {
     "data": {
      "text/plain": [
       "3"
      ]
     },
     "execution_count": 45,
     "metadata": {},
     "output_type": "execute_result"
    }
   ],
   "source": [
    "c.ndim"
   ]
  },
  {
   "cell_type": "code",
   "execution_count": 46,
   "id": "37997c54",
   "metadata": {},
   "outputs": [
    {
     "data": {
      "text/plain": [
       "array([4, 5, 6])"
      ]
     },
     "execution_count": 46,
     "metadata": {},
     "output_type": "execute_result"
    }
   ],
   "source": [
    "c[0,1]"
   ]
  },
  {
   "cell_type": "code",
   "execution_count": 47,
   "id": "f8202141",
   "metadata": {},
   "outputs": [
    {
     "data": {
      "text/plain": [
       "4"
      ]
     },
     "execution_count": 47,
     "metadata": {},
     "output_type": "execute_result"
    }
   ],
   "source": [
    "c[1,1,0]"
   ]
  },
  {
   "cell_type": "markdown",
   "id": "51c4edda",
   "metadata": {},
   "source": [
    "### shape, size and bytes"
   ]
  },
  {
   "cell_type": "code",
   "execution_count": 48,
   "id": "f97c5e07",
   "metadata": {},
   "outputs": [
    {
     "data": {
      "text/plain": [
       "(2, 2, 3)"
      ]
     },
     "execution_count": 48,
     "metadata": {},
     "output_type": "execute_result"
    }
   ],
   "source": [
    "c.shape  # (2,2,3)  here it refers to index as [0,1,2]  see below c.shape[0] is 2"
   ]
  },
  {
   "cell_type": "code",
   "execution_count": 55,
   "id": "ce83b3a4",
   "metadata": {},
   "outputs": [
    {
     "data": {
      "text/plain": [
       "2"
      ]
     },
     "execution_count": 55,
     "metadata": {},
     "output_type": "execute_result"
    }
   ],
   "source": [
    "c.shape[0]"
   ]
  },
  {
   "cell_type": "code",
   "execution_count": 56,
   "id": "7ec649e6",
   "metadata": {},
   "outputs": [
    {
     "data": {
      "text/plain": [
       "2"
      ]
     },
     "execution_count": 56,
     "metadata": {},
     "output_type": "execute_result"
    }
   ],
   "source": [
    "c.shape[1]"
   ]
  },
  {
   "cell_type": "code",
   "execution_count": 57,
   "id": "3d7d1bbb",
   "metadata": {},
   "outputs": [
    {
     "data": {
      "text/plain": [
       "3"
      ]
     },
     "execution_count": 57,
     "metadata": {},
     "output_type": "execute_result"
    }
   ],
   "source": [
    "c.shape[2]"
   ]
  },
  {
   "cell_type": "code",
   "execution_count": 60,
   "id": "cad37704",
   "metadata": {},
   "outputs": [
    {
     "data": {
      "text/plain": [
       "1"
      ]
     },
     "execution_count": 60,
     "metadata": {},
     "output_type": "execute_result"
    }
   ],
   "source": [
    "A=np.array([1])\n",
    "A.ndim"
   ]
  },
  {
   "cell_type": "code",
   "execution_count": 63,
   "id": "3f4d9103",
   "metadata": {},
   "outputs": [
    {
     "data": {
      "text/plain": [
       "0"
      ]
     },
     "execution_count": 63,
     "metadata": {},
     "output_type": "execute_result"
    }
   ],
   "source": [
    "B=np.array(3)\n",
    "B.ndim"
   ]
  },
  {
   "cell_type": "code",
   "execution_count": 70,
   "id": "0d69414d",
   "metadata": {},
   "outputs": [
    {
     "data": {
      "text/plain": [
       "1"
      ]
     },
     "execution_count": 70,
     "metadata": {},
     "output_type": "execute_result"
    }
   ],
   "source": [
    "B.size"
   ]
  },
  {
   "cell_type": "code",
   "execution_count": 72,
   "id": "9bc32693",
   "metadata": {},
   "outputs": [
    {
     "data": {
      "text/plain": [
       "6"
      ]
     },
     "execution_count": 72,
     "metadata": {},
     "output_type": "execute_result"
    }
   ],
   "source": [
    "a.size"
   ]
  },
  {
   "cell_type": "code",
   "execution_count": 73,
   "id": "aafeb369",
   "metadata": {},
   "outputs": [
    {
     "data": {
      "text/plain": [
       "24"
      ]
     },
     "execution_count": 73,
     "metadata": {},
     "output_type": "execute_result"
    }
   ],
   "source": [
    "a.nbytes"
   ]
  },
  {
   "cell_type": "code",
   "execution_count": 74,
   "id": "f143ceb9",
   "metadata": {},
   "outputs": [
    {
     "data": {
      "text/plain": [
       "4"
      ]
     },
     "execution_count": 74,
     "metadata": {},
     "output_type": "execute_result"
    }
   ],
   "source": [
    "B.nbytes"
   ]
  },
  {
   "cell_type": "markdown",
   "id": "c94f21e8",
   "metadata": {},
   "source": [
    "### arange, random and reshape"
   ]
  },
  {
   "cell_type": "code",
   "execution_count": 110,
   "id": "bcb5d380",
   "metadata": {},
   "outputs": [
    {
     "data": {
      "text/plain": [
       "array([20, 21, 22, 23, 24, 25, 26, 27, 28, 29, 30, 31, 32, 33, 34, 35, 36,\n",
       "       37, 38, 39, 40, 41, 42, 43, 44, 45, 46, 47, 48, 49, 50, 51, 52, 53,\n",
       "       54, 55, 56, 57, 58, 59, 60, 61, 62, 63, 64, 65, 66, 67, 68, 69, 70,\n",
       "       71, 72, 73, 74, 75, 76, 77, 78, 79, 80, 81, 82, 83, 84, 85, 86, 87,\n",
       "       88, 89, 90, 91, 92, 93, 94, 95, 96, 97, 98, 99])"
      ]
     },
     "execution_count": 110,
     "metadata": {},
     "output_type": "execute_result"
    }
   ],
   "source": [
    "A=np.arange(20,100) # default step is 1\n",
    "A"
   ]
  },
  {
   "cell_type": "code",
   "execution_count": 111,
   "id": "bc3eaf48",
   "metadata": {},
   "outputs": [
    {
     "data": {
      "text/plain": [
       "array([20, 22, 24, 26, 28, 30, 32, 34, 36, 38, 40, 42, 44, 46, 48, 50, 52,\n",
       "       54, 56, 58, 60, 62, 64, 66, 68, 70, 72, 74, 76, 78, 80, 82, 84, 86,\n",
       "       88, 90, 92, 94, 96, 98])"
      ]
     },
     "execution_count": 111,
     "metadata": {},
     "output_type": "execute_result"
    }
   ],
   "source": [
    "A=np.arange(20,100,2) #(start,end,step)\n",
    "A"
   ]
  },
  {
   "cell_type": "code",
   "execution_count": 78,
   "id": "16b73aa2",
   "metadata": {},
   "outputs": [
    {
     "data": {
      "text/plain": [
       "array([5, 4, 7, 2, 3, 6, 1, 9, 0, 8])"
      ]
     },
     "execution_count": 78,
     "metadata": {},
     "output_type": "execute_result"
    }
   ],
   "source": [
    "A=np.random.permutation(np.arange(10)) #If `x` is an integer, randomly permute ``np.arange(x)``.\n",
    "                                       #If `x` is an array, make a copy and shuffle the elements randomly\n",
    "A"
   ]
  },
  {
   "cell_type": "code",
   "execution_count": 89,
   "id": "3086eeba",
   "metadata": {},
   "outputs": [
    {
     "data": {
      "text/plain": [
       "array([0, 1, 4, 3, 2])"
      ]
     },
     "execution_count": 89,
     "metadata": {},
     "output_type": "execute_result"
    }
   ],
   "source": [
    "np.random.permutation(5)"
   ]
  },
  {
   "cell_type": "code",
   "execution_count": 87,
   "id": "3fb32918",
   "metadata": {},
   "outputs": [
    {
     "data": {
      "text/plain": [
       "array([15,  4, 12,  9,  1])"
      ]
     },
     "execution_count": 87,
     "metadata": {},
     "output_type": "execute_result"
    }
   ],
   "source": [
    "np.random.permutation([1, 4, 9, 12, 15])"
   ]
  },
  {
   "cell_type": "code",
   "execution_count": 80,
   "id": "9fe248b7",
   "metadata": {},
   "outputs": [
    {
     "data": {
      "text/plain": [
       "array([4, 1, 1, 0, 0, 4])"
      ]
     },
     "execution_count": 80,
     "metadata": {},
     "output_type": "execute_result"
    }
   ],
   "source": [
    "np.random.randint(5,size=6) #randint(low, high=None, size=None, dtype=int)"
   ]
  },
  {
   "cell_type": "code",
   "execution_count": 84,
   "id": "f040fc83",
   "metadata": {},
   "outputs": [
    {
     "data": {
      "text/plain": [
       "array([[0, 2, 5, 4],\n",
       "       [2, 0, 5, 0]])"
      ]
     },
     "execution_count": 84,
     "metadata": {},
     "output_type": "execute_result"
    }
   ],
   "source": [
    "np.random.randint(0,6,size=(2,4))"
   ]
  },
  {
   "cell_type": "code",
   "execution_count": 106,
   "id": "7b357037",
   "metadata": {
    "scrolled": true
   },
   "outputs": [
    {
     "data": {
      "text/plain": [
       "22"
      ]
     },
     "execution_count": 106,
     "metadata": {},
     "output_type": "execute_result"
    }
   ],
   "source": [
    "np.random.randint(0,243)"
   ]
  },
  {
   "cell_type": "code",
   "execution_count": 107,
   "id": "51de709f",
   "metadata": {},
   "outputs": [
    {
     "data": {
      "text/plain": [
       "array([[ 32, 238, 190],\n",
       "       [240, 180,  40]])"
      ]
     },
     "execution_count": 107,
     "metadata": {},
     "output_type": "execute_result"
    }
   ],
   "source": [
    "np.random.randint(0,243,(2,3))"
   ]
  },
  {
   "cell_type": "code",
   "execution_count": 98,
   "id": "639b657a",
   "metadata": {},
   "outputs": [
    {
     "data": {
      "text/plain": [
       "array([0.83649098, 0.41602156, 0.84916814, 0.75155569, 0.80704256,\n",
       "       0.94023696, 0.82449501, 0.27431026, 0.9218324 , 0.32560321])"
      ]
     },
     "execution_count": 98,
     "metadata": {},
     "output_type": "execute_result"
    }
   ],
   "source": [
    "np.random.rand(10)  # Create an array of the given shape "
   ]
  },
  {
   "cell_type": "code",
   "execution_count": 103,
   "id": "b2fa86f7",
   "metadata": {},
   "outputs": [
    {
     "data": {
      "text/plain": [
       "array([[0.34902664, 0.03340461, 0.50774075, 0.44984574, 0.26877005],\n",
       "       [0.16784192, 0.55376295, 0.94246622, 0.92162085, 0.84963261]])"
      ]
     },
     "execution_count": 103,
     "metadata": {},
     "output_type": "execute_result"
    }
   ],
   "source": [
    "np.random.rand(2,5) # rand(d0, d1, ..., dn) Random values in a given shape."
   ]
  },
  {
   "cell_type": "code",
   "execution_count": 104,
   "id": "5fd06c4a",
   "metadata": {},
   "outputs": [
    {
     "data": {
      "text/plain": [
       "0.1439525971738711"
      ]
     },
     "execution_count": 104,
     "metadata": {},
     "output_type": "execute_result"
    }
   ],
   "source": [
    "np.random.rand()"
   ]
  },
  {
   "cell_type": "markdown",
   "id": "874e2498",
   "metadata": {},
   "source": [
    "### slicing (in slicing we get view array)"
   ]
  },
  {
   "cell_type": "code",
   "execution_count": 142,
   "id": "1b5274a4",
   "metadata": {},
   "outputs": [],
   "source": [
    "A=np.arange(100)"
   ]
  },
  {
   "cell_type": "code",
   "execution_count": 155,
   "id": "d5658c57",
   "metadata": {},
   "outputs": [
    {
     "name": "stdout",
     "output_type": "stream",
     "text": [
      "[-100    4    5    6    7    8    9]\n"
     ]
    }
   ],
   "source": [
    "e=A[3:10]  # this creates a view of the array A\n",
    "print(e)"
   ]
  },
  {
   "cell_type": "code",
   "execution_count": 156,
   "id": "6ca1669b",
   "metadata": {},
   "outputs": [],
   "source": [
    "e[0]=-100"
   ]
  },
  {
   "cell_type": "code",
   "execution_count": 157,
   "id": "d2f9e126",
   "metadata": {},
   "outputs": [
    {
     "data": {
      "text/plain": [
       "array([-100,    4,    5,    6,    7,    8,    9])"
      ]
     },
     "execution_count": 157,
     "metadata": {},
     "output_type": "execute_result"
    }
   ],
   "source": [
    "e  # change in e array will also effect the A array"
   ]
  },
  {
   "cell_type": "code",
   "execution_count": 158,
   "id": "24c969fa",
   "metadata": {},
   "outputs": [
    {
     "data": {
      "text/plain": [
       "array([   0,    1,    2, -100,    4,    5,    6,    7,    8,    9,   10,\n",
       "         11,   12,   13,   14,   15,   16,   17,   18,   19,   20,   21,\n",
       "         22,   23,   24,   25,   26,   27,   28,   29,   30,   31,   32,\n",
       "         33,   34,   35,   36,   37,   38,   39,   40,   41,   42,   43,\n",
       "         44,   45,   46,   47,   48,   49,   50,   51,   52,   53,   54,\n",
       "         55,   56,   57,   58,   59,   60,   61,   62,   63,   64,   65,\n",
       "         66,   67,   68,   69,   70,   71,   72,   73,   74,   75,   76,\n",
       "         77,   78,   79,   80,   81,   82,   83,   84,   85,   86,   87,\n",
       "         88,   89,   90,   91,   92,   93,   94,   95,   96,   97,   98,\n",
       "         99])"
      ]
     },
     "execution_count": 158,
     "metadata": {},
     "output_type": "execute_result"
    }
   ],
   "source": [
    "A  "
   ]
  },
  {
   "cell_type": "code",
   "execution_count": 159,
   "id": "9bea0a08",
   "metadata": {},
   "outputs": [
    {
     "data": {
      "text/plain": [
       "numpy.ndarray"
      ]
     },
     "execution_count": 159,
     "metadata": {},
     "output_type": "execute_result"
    }
   ],
   "source": [
    "type(e)"
   ]
  },
  {
   "cell_type": "code",
   "execution_count": 162,
   "id": "2567f1a1",
   "metadata": {},
   "outputs": [],
   "source": [
    "e=A[3:10].copy()\n",
    "e[1]=200"
   ]
  },
  {
   "cell_type": "code",
   "execution_count": 163,
   "id": "8bb588b2",
   "metadata": {},
   "outputs": [
    {
     "data": {
      "text/plain": [
       "array([   0,    1,    2, -100,    4,    5,    6,    7,    8,    9,   10,\n",
       "         11,   12,   13,   14,   15,   16,   17,   18,   19,   20,   21,\n",
       "         22,   23,   24,   25,   26,   27,   28,   29,   30,   31,   32,\n",
       "         33,   34,   35,   36,   37,   38,   39,   40,   41,   42,   43,\n",
       "         44,   45,   46,   47,   48,   49,   50,   51,   52,   53,   54,\n",
       "         55,   56,   57,   58,   59,   60,   61,   62,   63,   64,   65,\n",
       "         66,   67,   68,   69,   70,   71,   72,   73,   74,   75,   76,\n",
       "         77,   78,   79,   80,   81,   82,   83,   84,   85,   86,   87,\n",
       "         88,   89,   90,   91,   92,   93,   94,   95,   96,   97,   98,\n",
       "         99])"
      ]
     },
     "execution_count": 163,
     "metadata": {},
     "output_type": "execute_result"
    }
   ],
   "source": [
    "A"
   ]
  },
  {
   "cell_type": "code",
   "execution_count": 128,
   "id": "2b948806",
   "metadata": {},
   "outputs": [
    {
     "data": {
      "text/plain": [
       "list"
      ]
     },
     "execution_count": 128,
     "metadata": {},
     "output_type": "execute_result"
    }
   ],
   "source": [
    "d=[2,32,3,4,2]\n",
    "type(d)"
   ]
  },
  {
   "cell_type": "code",
   "execution_count": 136,
   "id": "9bf1bc95",
   "metadata": {},
   "outputs": [
    {
     "name": "stdout",
     "output_type": "stream",
     "text": [
      "[32, 3, 4, 2]\n"
     ]
    },
    {
     "data": {
      "text/plain": [
       "list"
      ]
     },
     "execution_count": 136,
     "metadata": {},
     "output_type": "execute_result"
    }
   ],
   "source": [
    "f=d[1:5]\n",
    "print(f)\n",
    "type(f)"
   ]
  },
  {
   "cell_type": "code",
   "execution_count": 130,
   "id": "6404047e",
   "metadata": {},
   "outputs": [
    {
     "data": {
      "text/plain": [
       "[32, 3, 10, 2]"
      ]
     },
     "execution_count": 130,
     "metadata": {},
     "output_type": "execute_result"
    }
   ],
   "source": [
    "f[2]=10   # change in f list will not effect the d list\n",
    "f"
   ]
  },
  {
   "cell_type": "code",
   "execution_count": 131,
   "id": "753434e1",
   "metadata": {},
   "outputs": [
    {
     "data": {
      "text/plain": [
       "[2, 32, 3, 4, 2]"
      ]
     },
     "execution_count": 131,
     "metadata": {},
     "output_type": "execute_result"
    }
   ],
   "source": [
    "d"
   ]
  },
  {
   "cell_type": "code",
   "execution_count": 164,
   "id": "30673639",
   "metadata": {},
   "outputs": [
    {
     "data": {
      "text/plain": [
       "array([ 0,  5, 10, 15, 20, 25, 30, 35, 40, 45, 50, 55, 60, 65, 70, 75, 80,\n",
       "       85, 90, 95])"
      ]
     },
     "execution_count": 164,
     "metadata": {},
     "output_type": "execute_result"
    }
   ],
   "source": [
    "A[::5]"
   ]
  },
  {
   "cell_type": "code",
   "execution_count": 169,
   "id": "79bfb498",
   "metadata": {},
   "outputs": [
    {
     "data": {
      "text/plain": [
       "array([99, 94, 89, 84, 79, 74, 69, 64, 59, 54, 49, 44, 39, 34, 29, 24, 19,\n",
       "       14,  9,  4])"
      ]
     },
     "execution_count": 169,
     "metadata": {},
     "output_type": "execute_result"
    }
   ],
   "source": [
    "A[::-5]"
   ]
  },
  {
   "cell_type": "code",
   "execution_count": 170,
   "id": "4a0e4ad8",
   "metadata": {},
   "outputs": [
    {
     "data": {
      "text/plain": [
       "array([  99,   98,   97,   96,   95,   94,   93,   92,   91,   90,   89,\n",
       "         88,   87,   86,   85,   84,   83,   82,   81,   80,   79,   78,\n",
       "         77,   76,   75,   74,   73,   72,   71,   70,   69,   68,   67,\n",
       "         66,   65,   64,   63,   62,   61,   60,   59,   58,   57,   56,\n",
       "         55,   54,   53,   52,   51,   50,   49,   48,   47,   46,   45,\n",
       "         44,   43,   42,   41,   40,   39,   38,   37,   36,   35,   34,\n",
       "         33,   32,   31,   30,   29,   28,   27,   26,   25,   24,   23,\n",
       "         22,   21,   20,   19,   18,   17,   16,   15,   14,   13,   12,\n",
       "         11,   10,    9,    8,    7,    6,    5,    4, -100,    2,    1,\n",
       "          0])"
      ]
     },
     "execution_count": 170,
     "metadata": {},
     "output_type": "execute_result"
    }
   ],
   "source": [
    "A[::-1]"
   ]
  },
  {
   "cell_type": "code",
   "execution_count": 173,
   "id": "28439d97",
   "metadata": {},
   "outputs": [
    {
     "data": {
      "text/plain": [
       "array([], dtype=int32)"
      ]
     },
     "execution_count": 173,
     "metadata": {},
     "output_type": "execute_result"
    }
   ],
   "source": [
    "np.arange(2,5,-1)  # - indicates step decreasing"
   ]
  },
  {
   "cell_type": "code",
   "execution_count": 174,
   "id": "3b3ab9f9",
   "metadata": {},
   "outputs": [
    {
     "data": {
      "text/plain": [
       "array([5, 4, 3])"
      ]
     },
     "execution_count": 174,
     "metadata": {},
     "output_type": "execute_result"
    }
   ],
   "source": [
    "np.arange(5,2,-1)  "
   ]
  },
  {
   "cell_type": "code",
   "execution_count": 175,
   "id": "3be640b2",
   "metadata": {
    "scrolled": true
   },
   "outputs": [
    {
     "data": {
      "text/plain": [
       "array([   0,    1,    2, -100,    4,    5,    6,    7,    8,    9,   10,\n",
       "         11,   12,   13,   14,   15,   16,   17,   18,   19,   20,   21,\n",
       "         22,   23,   24,   25,   26,   27,   28,   29,   30,   31,   32,\n",
       "         33,   34,   35,   36,   37,   38,   39,   40,   41,   42,   43,\n",
       "         44,   45,   46,   47,   48,   49,   50,   51,   52,   53,   54,\n",
       "         55,   56,   57,   58,   59,   60,   61,   62,   63,   64,   65,\n",
       "         66,   67,   68,   69,   70,   71,   72,   73,   74,   75,   76,\n",
       "         77,   78,   79,   80,   81,   82,   83,   84,   85,   86,   87,\n",
       "         88,   89,   90,   91,   92,   93,   94,   95,   96,   97,   98,\n",
       "         99])"
      ]
     },
     "execution_count": 175,
     "metadata": {},
     "output_type": "execute_result"
    }
   ],
   "source": [
    "A"
   ]
  },
  {
   "cell_type": "code",
   "execution_count": 200,
   "id": "af950315",
   "metadata": {},
   "outputs": [
    {
     "data": {
      "text/plain": [
       "array([[5., 3., 1., 0.],\n",
       "       [3., 2., 5., 7.],\n",
       "       [0., 1., 7., 1.],\n",
       "       [9., 1., 2., 9.],\n",
       "       [3., 9., 8., 4.]])"
      ]
     },
     "execution_count": 200,
     "metadata": {},
     "output_type": "execute_result"
    }
   ],
   "source": [
    "A=np.round(10*np.random.rand(5,4))\n",
    "A"
   ]
  },
  {
   "cell_type": "code",
   "execution_count": 201,
   "id": "41ef87e8",
   "metadata": {},
   "outputs": [
    {
     "data": {
      "text/plain": [
       "5.0"
      ]
     },
     "execution_count": 201,
     "metadata": {},
     "output_type": "execute_result"
    }
   ],
   "source": [
    "A[1,2]  # this and below line ouputs are same but action is different \n",
    "        # it directly access the element at row 1, column 2 which is 5.0"
   ]
  },
  {
   "cell_type": "code",
   "execution_count": 211,
   "id": "f0482f96",
   "metadata": {
    "scrolled": true
   },
   "outputs": [
    {
     "data": {
      "text/plain": [
       "5.0"
      ]
     },
     "execution_count": 211,
     "metadata": {},
     "output_type": "execute_result"
    }
   ],
   "source": [
    "A[1][2]  # but this is it first accesses the element at index 1, which is [3.,2.,5.,7.] and then access the element at index 2 within that row, which is 5.0 as well"
   ]
  },
  {
   "cell_type": "code",
   "execution_count": 202,
   "id": "70b9e9b6",
   "metadata": {},
   "outputs": [
    {
     "data": {
      "text/plain": [
       "array([3., 2., 5., 7.])"
      ]
     },
     "execution_count": 202,
     "metadata": {},
     "output_type": "execute_result"
    }
   ],
   "source": [
    "A[1,:]"
   ]
  },
  {
   "cell_type": "code",
   "execution_count": 206,
   "id": "bd996225",
   "metadata": {},
   "outputs": [
    {
     "data": {
      "text/plain": [
       "array([[5.],\n",
       "       [7.]])"
      ]
     },
     "execution_count": 206,
     "metadata": {},
     "output_type": "execute_result"
    }
   ],
   "source": [
    "A[1:3,2:3]  # it slices the array and extracts a subarray that includes rows 1 to 2 and columns 2 only"
   ]
  },
  {
   "cell_type": "code",
   "execution_count": 207,
   "id": "f2bb4d7e",
   "metadata": {},
   "outputs": [
    {
     "data": {
      "text/plain": [
       "array([[3., 2., 5., 7.],\n",
       "       [0., 1., 7., 1.]])"
      ]
     },
     "execution_count": 207,
     "metadata": {},
     "output_type": "execute_result"
    }
   ],
   "source": [
    "A[1:3]"
   ]
  },
  {
   "cell_type": "code",
   "execution_count": 213,
   "id": "5492ba94",
   "metadata": {},
   "outputs": [
    {
     "data": {
      "text/plain": [
       "array([], shape=(0, 4), dtype=float64)"
      ]
     },
     "execution_count": 213,
     "metadata": {},
     "output_type": "execute_result"
    }
   ],
   "source": [
    "A[1:3][2:3]"
   ]
  },
  {
   "cell_type": "code",
   "execution_count": 215,
   "id": "46dbbe70",
   "metadata": {},
   "outputs": [
    {
     "data": {
      "text/plain": [
       "array([], shape=(0, 4), dtype=float64)"
      ]
     },
     "execution_count": 215,
     "metadata": {},
     "output_type": "execute_result"
    }
   ],
   "source": [
    "A[1:3][2:3]  # it first slices the array and extracts rows 1 to 2, resulting in a new array\n",
    "             # then it attempts to access second row in that new array, but since there is no second row, it would lead to empty array"
   ]
  },
  {
   "cell_type": "code",
   "execution_count": 217,
   "id": "7c14aee5",
   "metadata": {},
   "outputs": [
    {
     "data": {
      "text/plain": [
       "array([[5., 3., 0., 9., 3.],\n",
       "       [3., 2., 1., 1., 9.],\n",
       "       [1., 5., 7., 2., 8.],\n",
       "       [0., 7., 1., 9., 4.]])"
      ]
     },
     "execution_count": 217,
     "metadata": {},
     "output_type": "execute_result"
    }
   ],
   "source": [
    "A.T"
   ]
  },
  {
   "cell_type": "markdown",
   "id": "a49caf8b",
   "metadata": {},
   "source": [
    "### sort"
   ]
  },
  {
   "cell_type": "code",
   "execution_count": 219,
   "id": "403e0cc7",
   "metadata": {},
   "outputs": [
    {
     "data": {
      "text/plain": [
       "array([[0., 1., 1., 0.],\n",
       "       [3., 1., 2., 1.],\n",
       "       [3., 2., 5., 4.],\n",
       "       [5., 3., 7., 7.],\n",
       "       [9., 9., 8., 9.]])"
      ]
     },
     "execution_count": 219,
     "metadata": {},
     "output_type": "execute_result"
    }
   ],
   "source": [
    "A.sort(axis=0)  # axis=0 means columns sorting\n",
    "A"
   ]
  },
  {
   "cell_type": "code",
   "execution_count": 220,
   "id": "172ac05b",
   "metadata": {},
   "outputs": [
    {
     "data": {
      "text/plain": [
       "array([[0., 0., 1., 1.],\n",
       "       [1., 1., 2., 3.],\n",
       "       [2., 3., 4., 5.],\n",
       "       [3., 5., 7., 7.],\n",
       "       [8., 9., 9., 9.]])"
      ]
     },
     "execution_count": 220,
     "metadata": {},
     "output_type": "execute_result"
    }
   ],
   "source": [
    "A.sort(axis=1) # axis=1 means rows sorting\n",
    "A"
   ]
  },
  {
   "cell_type": "markdown",
   "id": "944c22c1",
   "metadata": {},
   "source": [
    "### argwhere "
   ]
  },
  {
   "cell_type": "code",
   "execution_count": 177,
   "id": "af9ddb82",
   "metadata": {},
   "outputs": [
    {
     "data": {
      "text/plain": [
       "array([[3]], dtype=int64)"
      ]
     },
     "execution_count": 177,
     "metadata": {},
     "output_type": "execute_result"
    }
   ],
   "source": [
    "index=np.argwhere(A==-100)\n",
    "index"
   ]
  },
  {
   "cell_type": "code",
   "execution_count": 180,
   "id": "7d0bc3d1",
   "metadata": {},
   "outputs": [
    {
     "data": {
      "text/plain": [
       "3"
      ]
     },
     "execution_count": 180,
     "metadata": {},
     "output_type": "execute_result"
    }
   ],
   "source": [
    "index[0,0]  # for accessing we may use both syntax like this and below "
   ]
  },
  {
   "cell_type": "code",
   "execution_count": 181,
   "id": "d20c0c03",
   "metadata": {},
   "outputs": [
    {
     "data": {
      "text/plain": [
       "3"
      ]
     },
     "execution_count": 181,
     "metadata": {},
     "output_type": "execute_result"
    }
   ],
   "source": [
    "index[0][0]"
   ]
  },
  {
   "cell_type": "code",
   "execution_count": 190,
   "id": "4a5ee05e",
   "metadata": {},
   "outputs": [
    {
     "data": {
      "text/plain": [
       "2"
      ]
     },
     "execution_count": 190,
     "metadata": {},
     "output_type": "execute_result"
    }
   ],
   "source": [
    "z=np.array([[2324,24,2,24,24,3],[24,24,44,242,42,3]])\n",
    "z.ndim"
   ]
  },
  {
   "cell_type": "code",
   "execution_count": 191,
   "id": "7239b084",
   "metadata": {},
   "outputs": [
    {
     "data": {
      "text/plain": [
       "24"
      ]
     },
     "execution_count": 191,
     "metadata": {},
     "output_type": "execute_result"
    }
   ],
   "source": [
    "z[0,1]  "
   ]
  },
  {
   "cell_type": "code",
   "execution_count": 193,
   "id": "060aa7ee",
   "metadata": {},
   "outputs": [
    {
     "data": {
      "text/plain": [
       "array([24,  2, 24])"
      ]
     },
     "execution_count": 193,
     "metadata": {},
     "output_type": "execute_result"
    }
   ],
   "source": [
    "z[0][1:4]"
   ]
  },
  {
   "cell_type": "markdown",
   "id": "9b71f392",
   "metadata": {},
   "source": [
    "### numpy masking and boolean masking  (in this we get copy array)"
   ]
  },
  {
   "cell_type": "code",
   "execution_count": 229,
   "id": "6a454408",
   "metadata": {},
   "outputs": [],
   "source": [
    "A=np.arange(10)"
   ]
  },
  {
   "cell_type": "code",
   "execution_count": 230,
   "id": "bf8d5db7",
   "metadata": {},
   "outputs": [
    {
     "data": {
      "text/plain": [
       "array([0, 1, 2, 3, 4, 5, 6, 7, 8, 9])"
      ]
     },
     "execution_count": 230,
     "metadata": {},
     "output_type": "execute_result"
    }
   ],
   "source": [
    "A"
   ]
  },
  {
   "cell_type": "code",
   "execution_count": 231,
   "id": "33ea1d4b",
   "metadata": {},
   "outputs": [],
   "source": [
    "B=A[[1,2,3]]"
   ]
  },
  {
   "cell_type": "code",
   "execution_count": 232,
   "id": "b3636562",
   "metadata": {},
   "outputs": [
    {
     "data": {
      "text/plain": [
       "array([1, 2, 3])"
      ]
     },
     "execution_count": 232,
     "metadata": {},
     "output_type": "execute_result"
    }
   ],
   "source": [
    "B"
   ]
  },
  {
   "cell_type": "code",
   "execution_count": 242,
   "id": "68b5141b",
   "metadata": {},
   "outputs": [
    {
     "data": {
      "text/plain": [
       "array([ True,  True,  True,  True,  True, False, False, False, False,\n",
       "       False])"
      ]
     },
     "execution_count": 242,
     "metadata": {},
     "output_type": "execute_result"
    }
   ],
   "source": [
    "boolean_mask=A<5\n",
    "boolean_mask"
   ]
  },
  {
   "cell_type": "code",
   "execution_count": 243,
   "id": "235ef2a7",
   "metadata": {},
   "outputs": [
    {
     "data": {
      "text/plain": [
       "array([0, 1, 2, 3, 4])"
      ]
     },
     "execution_count": 243,
     "metadata": {},
     "output_type": "execute_result"
    }
   ],
   "source": [
    "B=A[boolean_mask]\n",
    "B"
   ]
  },
  {
   "cell_type": "code",
   "execution_count": 244,
   "id": "1fcb57c2",
   "metadata": {},
   "outputs": [
    {
     "data": {
      "text/plain": [
       "array([4, 5, 6])"
      ]
     },
     "execution_count": 244,
     "metadata": {},
     "output_type": "execute_result"
    }
   ],
   "source": [
    "B=A[(A<7) & (A>3)]\n",
    "B"
   ]
  },
  {
   "cell_type": "code",
   "execution_count": 245,
   "id": "3006ad6f",
   "metadata": {},
   "outputs": [],
   "source": [
    "# &, and \n",
    "# |, or\n",
    "# ~, not\n",
    "# here & is used for arrays or multiple elements and logical and is used for single element\n",
    "# here | is used for arrays or multiple elements and logical or is used for single element\n",
    "# here ~ is used for arrays or multiple elements and logical not is used for single element"
   ]
  },
  {
   "cell_type": "markdown",
   "id": "cbf94f73",
   "metadata": {},
   "source": [
    "### Broadcasting"
   ]
  },
  {
   "cell_type": "code",
   "execution_count": 246,
   "id": "2e3c251c",
   "metadata": {},
   "outputs": [],
   "source": [
    "A=np.round(10*np.random.rand(2,3))"
   ]
  },
  {
   "cell_type": "code",
   "execution_count": 247,
   "id": "c763ad8a",
   "metadata": {},
   "outputs": [
    {
     "data": {
      "text/plain": [
       "array([[ 3., 10.,  9.],\n",
       "       [ 6.,  2.,  4.]])"
      ]
     },
     "execution_count": 247,
     "metadata": {},
     "output_type": "execute_result"
    }
   ],
   "source": [
    "A"
   ]
  },
  {
   "cell_type": "code",
   "execution_count": 248,
   "id": "c6574382",
   "metadata": {},
   "outputs": [
    {
     "data": {
      "text/plain": [
       "array([[ 6., 13., 12.],\n",
       "       [ 9.,  5.,  7.]])"
      ]
     },
     "execution_count": 248,
     "metadata": {},
     "output_type": "execute_result"
    }
   ],
   "source": [
    "A+3  # here 3 broadcaste to [[3,3,3],[3,3,3]]"
   ]
  },
  {
   "cell_type": "code",
   "execution_count": 249,
   "id": "9bca33a2",
   "metadata": {},
   "outputs": [
    {
     "data": {
      "text/plain": [
       "array([[ 3., 10.,  9.],\n",
       "       [ 7.,  3.,  5.]])"
      ]
     },
     "execution_count": 249,
     "metadata": {},
     "output_type": "execute_result"
    }
   ],
   "source": [
    "A+(np.arange(2).reshape(2,1) # here [[0],[1]] broadcaste to three [[0],[1]] because A have three columns and finally horigontally merges to form this [[0,0,0],[1,1,1]] and add to A"
   ]
  },
  {
   "cell_type": "code",
   "execution_count": 250,
   "id": "7160cfa3",
   "metadata": {},
   "outputs": [
    {
     "data": {
      "text/plain": [
       "array([[ 3., 11., 11.],\n",
       "       [ 6.,  3.,  6.]])"
      ]
     },
     "execution_count": 250,
     "metadata": {},
     "output_type": "execute_result"
    }
   ],
   "source": [
    "A+(np.arange(3).reshape(1,3)) # here [0,1,2] broadcaste to two [0,1,2] because A have two rows and finally vertically merges to form this [[0,1,2],[0,1,2]] and add to A"
   ]
  },
  {
   "cell_type": "code",
   "execution_count": 251,
   "id": "8a26f314",
   "metadata": {},
   "outputs": [
    {
     "ename": "ValueError",
     "evalue": "operands could not be broadcast together with shapes (2,3) (1,4) ",
     "output_type": "error",
     "traceback": [
      "\u001b[1;31m---------------------------------------------------------------------------\u001b[0m",
      "\u001b[1;31mValueError\u001b[0m                                Traceback (most recent call last)",
      "\u001b[1;32m<ipython-input-251-dce0dc62fa05>\u001b[0m in \u001b[0;36m<module>\u001b[1;34m\u001b[0m\n\u001b[1;32m----> 1\u001b[1;33m \u001b[0mA\u001b[0m\u001b[1;33m+\u001b[0m\u001b[1;33m(\u001b[0m\u001b[0mnp\u001b[0m\u001b[1;33m.\u001b[0m\u001b[0marange\u001b[0m\u001b[1;33m(\u001b[0m\u001b[1;36m4\u001b[0m\u001b[1;33m)\u001b[0m\u001b[1;33m.\u001b[0m\u001b[0mreshape\u001b[0m\u001b[1;33m(\u001b[0m\u001b[1;36m1\u001b[0m\u001b[1;33m,\u001b[0m\u001b[1;36m4\u001b[0m\u001b[1;33m)\u001b[0m\u001b[1;33m)\u001b[0m\u001b[1;33m\u001b[0m\u001b[1;33m\u001b[0m\u001b[0m\n\u001b[0m",
      "\u001b[1;31mValueError\u001b[0m: operands could not be broadcast together with shapes (2,3) (1,4) "
     ]
    }
   ],
   "source": [
    "A+(np.arange(4).reshape(1,4)) # here broadcasting is not occurs"
   ]
  },
  {
   "cell_type": "code",
   "execution_count": 271,
   "id": "30edb45d",
   "metadata": {
    "scrolled": true
   },
   "outputs": [
    {
     "data": {
      "text/plain": [
       "array([[12., 50., 54.],\n",
       "       [24., 10., 24.]])"
      ]
     },
     "execution_count": 271,
     "metadata": {},
     "output_type": "execute_result"
    }
   ],
   "source": [
    "A*[4, 5, 6]  # this is element wise multiplication not matrix multiplication"
   ]
  },
  {
   "cell_type": "code",
   "execution_count": 253,
   "id": "e17dc91f",
   "metadata": {},
   "outputs": [
    {
     "data": {
      "text/plain": [
       "array([4, 5, 6])"
      ]
     },
     "execution_count": 253,
     "metadata": {},
     "output_type": "execute_result"
    }
   ],
   "source": [
    "B"
   ]
  },
  {
   "cell_type": "code",
   "execution_count": 259,
   "id": "f178888b",
   "metadata": {
    "scrolled": true
   },
   "outputs": [
    {
     "data": {
      "text/plain": [
       "array([[12., 50., 54.],\n",
       "       [24., 10., 24.]])"
      ]
     },
     "execution_count": 259,
     "metadata": {},
     "output_type": "execute_result"
    }
   ],
   "source": [
    "A*B "
   ]
  },
  {
   "cell_type": "markdown",
   "id": "9edf56fc",
   "metadata": {},
   "source": [
    "### concatenation (hstack,vstack)"
   ]
  },
  {
   "cell_type": "code",
   "execution_count": 252,
   "id": "32bc3c0f",
   "metadata": {},
   "outputs": [
    {
     "data": {
      "text/plain": [
       "array([[ 3., 10.,  9.],\n",
       "       [ 6.,  2.,  4.]])"
      ]
     },
     "execution_count": 252,
     "metadata": {},
     "output_type": "execute_result"
    }
   ],
   "source": [
    "A"
   ]
  },
  {
   "cell_type": "code",
   "execution_count": 274,
   "id": "1b6c2366",
   "metadata": {},
   "outputs": [
    {
     "data": {
      "text/plain": [
       "array([[1., 4.],\n",
       "       [1., 5.]])"
      ]
     },
     "execution_count": 274,
     "metadata": {},
     "output_type": "execute_result"
    }
   ],
   "source": [
    "D=np.round(10*np.random.rand(2,2))\n",
    "D"
   ]
  },
  {
   "cell_type": "code",
   "execution_count": 275,
   "id": "c72d8ad8",
   "metadata": {
    "scrolled": true
   },
   "outputs": [],
   "source": [
    "c=np.hstack((A,D))"
   ]
  },
  {
   "cell_type": "code",
   "execution_count": 276,
   "id": "3f1afc78",
   "metadata": {},
   "outputs": [
    {
     "data": {
      "text/plain": [
       "array([[ 3., 10.,  9.,  1.,  4.],\n",
       "       [ 6.,  2.,  4.,  1.,  5.]])"
      ]
     },
     "execution_count": 276,
     "metadata": {},
     "output_type": "execute_result"
    }
   ],
   "source": [
    "c"
   ]
  },
  {
   "cell_type": "code",
   "execution_count": 278,
   "id": "b61631ce",
   "metadata": {},
   "outputs": [],
   "source": [
    "c=np.vstack((A,[2,3,4]))"
   ]
  },
  {
   "cell_type": "code",
   "execution_count": 279,
   "id": "6903f895",
   "metadata": {},
   "outputs": [
    {
     "data": {
      "text/plain": [
       "array([[ 3., 10.,  9.],\n",
       "       [ 6.,  2.,  4.],\n",
       "       [ 2.,  3.,  4.]])"
      ]
     },
     "execution_count": 279,
     "metadata": {},
     "output_type": "execute_result"
    }
   ],
   "source": [
    "c"
   ]
  },
  {
   "cell_type": "markdown",
   "id": "9541bb3b",
   "metadata": {},
   "source": [
    "### ufuncs(universal functions)"
   ]
  },
  {
   "cell_type": "code",
   "execution_count": 1,
   "id": "dfef9a16",
   "metadata": {},
   "outputs": [],
   "source": [
    "# arithmetic functions\n",
    "# trigonometric functions\n",
    "# comparision functions\n",
    "# missing values(NaN-safe functions)\n",
    "# rounding floation points\n",
    "# output arguments"
   ]
  },
  {
   "cell_type": "code",
   "execution_count": 2,
   "id": "8c19c8fa",
   "metadata": {},
   "outputs": [],
   "source": [
    "import numpy as np"
   ]
  },
  {
   "cell_type": "code",
   "execution_count": 3,
   "id": "570a44b7",
   "metadata": {},
   "outputs": [
    {
     "data": {
      "text/plain": [
       "array([0, 1, 2, 3, 4, 5, 6, 7, 8, 9])"
      ]
     },
     "execution_count": 3,
     "metadata": {},
     "output_type": "execute_result"
    }
   ],
   "source": [
    "A=np.arange(10)\n",
    "A"
   ]
  },
  {
   "cell_type": "code",
   "execution_count": 4,
   "id": "70ddf80d",
   "metadata": {},
   "outputs": [
    {
     "data": {
      "text/plain": [
       "array([[3, 0, 6, 2, 3, 7, 9, 3, 0, 4]])"
      ]
     },
     "execution_count": 4,
     "metadata": {},
     "output_type": "execute_result"
    }
   ],
   "source": [
    "B=np.random.randint(0,10,(1,10))\n",
    "B"
   ]
  },
  {
   "cell_type": "code",
   "execution_count": 5,
   "id": "433f85ce",
   "metadata": {},
   "outputs": [
    {
     "data": {
      "text/plain": [
       "(1, 10)"
      ]
     },
     "execution_count": 5,
     "metadata": {},
     "output_type": "execute_result"
    }
   ],
   "source": [
    "B.shape"
   ]
  },
  {
   "cell_type": "code",
   "execution_count": 6,
   "id": "0e38e7b9",
   "metadata": {},
   "outputs": [
    {
     "data": {
      "text/plain": [
       "(10,)"
      ]
     },
     "execution_count": 6,
     "metadata": {},
     "output_type": "execute_result"
    }
   ],
   "source": [
    "A.shape"
   ]
  },
  {
   "cell_type": "markdown",
   "id": "7b932fd2",
   "metadata": {},
   "source": [
    "### np.newaxis"
   ]
  },
  {
   "cell_type": "code",
   "execution_count": 7,
   "id": "3640041b",
   "metadata": {},
   "outputs": [],
   "source": [
    "C=A[np.newaxis,:] # it is used to reshape the array in other words it is used to add new axis\n",
    "          # here A[a,b] here a refer to row and b refer to columns\n",
    "    # here np.newaxis used in row so it is used to add new axis in row and array A elements are used in b i.e column so those are arranged in columns"
   ]
  },
  {
   "cell_type": "code",
   "execution_count": 11,
   "id": "8dfb8521",
   "metadata": {},
   "outputs": [
    {
     "data": {
      "text/plain": [
       "(1, 10)"
      ]
     },
     "execution_count": 11,
     "metadata": {},
     "output_type": "execute_result"
    }
   ],
   "source": [
    "C.shape"
   ]
  },
  {
   "cell_type": "code",
   "execution_count": 12,
   "id": "751648a8",
   "metadata": {},
   "outputs": [
    {
     "data": {
      "text/plain": [
       "array([[0, 1, 2, 3, 4, 5, 6, 7, 8, 9]])"
      ]
     },
     "execution_count": 12,
     "metadata": {},
     "output_type": "execute_result"
    }
   ],
   "source": [
    "C"
   ]
  },
  {
   "cell_type": "code",
   "execution_count": 21,
   "id": "e9a0e25c",
   "metadata": {},
   "outputs": [
    {
     "data": {
      "text/plain": [
       "array([[0],\n",
       "       [1],\n",
       "       [2],\n",
       "       [3],\n",
       "       [4],\n",
       "       [5],\n",
       "       [6],\n",
       "       [7],\n",
       "       [8],\n",
       "       [9]])"
      ]
     },
     "execution_count": 21,
     "metadata": {},
     "output_type": "execute_result"
    }
   ],
   "source": [
    "A[:,np.newaxis]  # here np.newaxis used in column so it is used to add new axis in column and array A elements are used in a i.e row so those are arranged in rows"
   ]
  },
  {
   "cell_type": "code",
   "execution_count": 23,
   "id": "5c348bd6",
   "metadata": {},
   "outputs": [
    {
     "data": {
      "text/plain": [
       "array([[ 3,  1,  8,  5,  7, 12, 15, 10,  8, 13]])"
      ]
     },
     "execution_count": 23,
     "metadata": {},
     "output_type": "execute_result"
    }
   ],
   "source": [
    "D=B+C\n",
    "D"
   ]
  },
  {
   "cell_type": "code",
   "execution_count": 24,
   "id": "b1ef5729",
   "metadata": {},
   "outputs": [
    {
     "data": {
      "text/plain": [
       "(1, 10)"
      ]
     },
     "execution_count": 24,
     "metadata": {},
     "output_type": "execute_result"
    }
   ],
   "source": [
    "D.shape"
   ]
  },
  {
   "cell_type": "code",
   "execution_count": 26,
   "id": "3dd80b46",
   "metadata": {},
   "outputs": [],
   "source": [
    "D=np.squeeze(D)  # it is used to reduce the dimension"
   ]
  },
  {
   "cell_type": "code",
   "execution_count": 28,
   "id": "bd253426",
   "metadata": {},
   "outputs": [
    {
     "data": {
      "text/plain": [
       "(10,)"
      ]
     },
     "execution_count": 28,
     "metadata": {},
     "output_type": "execute_result"
    }
   ],
   "source": [
    "D.shape"
   ]
  },
  {
   "cell_type": "code",
   "execution_count": 25,
   "id": "a2b6c60a",
   "metadata": {
    "scrolled": true
   },
   "outputs": [
    {
     "data": {
      "text/plain": [
       "array([[ 3,  1,  8,  5,  7, 12, 15, 10,  8, 13]])"
      ]
     },
     "execution_count": 25,
     "metadata": {},
     "output_type": "execute_result"
    }
   ],
   "source": [
    "A+B  # here broadcasting is done"
   ]
  },
  {
   "cell_type": "code",
   "execution_count": 29,
   "id": "0172ed6c",
   "metadata": {},
   "outputs": [
    {
     "data": {
      "text/plain": [
       "array([ 3,  1,  8,  5,  7, 12, 15, 10,  8, 13])"
      ]
     },
     "execution_count": 29,
     "metadata": {},
     "output_type": "execute_result"
    }
   ],
   "source": [
    "D"
   ]
  },
  {
   "cell_type": "code",
   "execution_count": 30,
   "id": "8f459630",
   "metadata": {},
   "outputs": [
    {
     "data": {
      "text/plain": [
       "array([ 3,  2, 10,  8, 11, 17, 21, 17, 16, 22])"
      ]
     },
     "execution_count": 30,
     "metadata": {},
     "output_type": "execute_result"
    }
   ],
   "source": [
    "np.add(A,D)"
   ]
  },
  {
   "cell_type": "code",
   "execution_count": 31,
   "id": "731a06a6",
   "metadata": {},
   "outputs": [
    {
     "data": {
      "text/plain": [
       "45"
      ]
     },
     "execution_count": 31,
     "metadata": {},
     "output_type": "execute_result"
    }
   ],
   "source": [
    "np.sum(A)"
   ]
  },
  {
   "cell_type": "code",
   "execution_count": 32,
   "id": "1cf74a29",
   "metadata": {},
   "outputs": [
    {
     "data": {
      "text/plain": [
       "4"
      ]
     },
     "execution_count": 32,
     "metadata": {},
     "output_type": "execute_result"
    }
   ],
   "source": [
    "A=np.arange(80).reshape(2,2,5,4)  # axis for (2,2,5,4) is (0,1,2,3)\n",
    "A.ndim"
   ]
  },
  {
   "cell_type": "code",
   "execution_count": 34,
   "id": "b919c419",
   "metadata": {},
   "outputs": [
    {
     "data": {
      "text/plain": [
       "array([[[[ 0,  1,  2,  3],\n",
       "         [ 4,  5,  6,  7],\n",
       "         [ 8,  9, 10, 11],\n",
       "         [12, 13, 14, 15],\n",
       "         [16, 17, 18, 19]],\n",
       "\n",
       "        [[20, 21, 22, 23],\n",
       "         [24, 25, 26, 27],\n",
       "         [28, 29, 30, 31],\n",
       "         [32, 33, 34, 35],\n",
       "         [36, 37, 38, 39]]],\n",
       "\n",
       "\n",
       "       [[[40, 41, 42, 43],\n",
       "         [44, 45, 46, 47],\n",
       "         [48, 49, 50, 51],\n",
       "         [52, 53, 54, 55],\n",
       "         [56, 57, 58, 59]],\n",
       "\n",
       "        [[60, 61, 62, 63],\n",
       "         [64, 65, 66, 67],\n",
       "         [68, 69, 70, 71],\n",
       "         [72, 73, 74, 75],\n",
       "         [76, 77, 78, 79]]]])"
      ]
     },
     "execution_count": 34,
     "metadata": {},
     "output_type": "execute_result"
    }
   ],
   "source": [
    "A  # shape=(2,2,5,4)"
   ]
  },
  {
   "cell_type": "code",
   "execution_count": 33,
   "id": "55ce2a80",
   "metadata": {},
   "outputs": [
    {
     "data": {
      "text/plain": [
       "array([[[ 40,  42,  44,  46],\n",
       "        [ 48,  50,  52,  54],\n",
       "        [ 56,  58,  60,  62],\n",
       "        [ 64,  66,  68,  70],\n",
       "        [ 72,  74,  76,  78]],\n",
       "\n",
       "       [[ 80,  82,  84,  86],\n",
       "        [ 88,  90,  92,  94],\n",
       "        [ 96,  98, 100, 102],\n",
       "        [104, 106, 108, 110],\n",
       "        [112, 114, 116, 118]]])"
      ]
     },
     "execution_count": 33,
     "metadata": {},
     "output_type": "execute_result"
    }
   ],
   "source": [
    "A.sum(axis=0)  # shape=(2,5,4)"
   ]
  },
  {
   "cell_type": "code",
   "execution_count": 37,
   "id": "6ec41332",
   "metadata": {},
   "outputs": [
    {
     "data": {
      "text/plain": [
       "array([ 5,  7,  9, 11, 13])"
      ]
     },
     "execution_count": 37,
     "metadata": {},
     "output_type": "execute_result"
    }
   ],
   "source": [
    "np.arange(10).reshape(2,5).sum(axis=0)  # (2,5)  axis=0 for 2 and axis=1 for 5"
   ]
  },
  {
   "cell_type": "code",
   "execution_count": 38,
   "id": "7daf3c36",
   "metadata": {},
   "outputs": [
    {
     "data": {
      "text/plain": [
       "array([10, 35])"
      ]
     },
     "execution_count": 38,
     "metadata": {},
     "output_type": "execute_result"
    }
   ],
   "source": [
    "np.arange(10).reshape(2,5).sum(axis=1)"
   ]
  },
  {
   "cell_type": "code",
   "execution_count": 40,
   "id": "54b0c6fe",
   "metadata": {},
   "outputs": [
    {
     "data": {
      "text/plain": [
       "array([[[[ 0,  1,  2,  3],\n",
       "         [ 4,  5,  6,  7],\n",
       "         [ 8,  9, 10, 11],\n",
       "         [12, 13, 14, 15],\n",
       "         [16, 17, 18, 19]],\n",
       "\n",
       "        [[20, 21, 22, 23],\n",
       "         [24, 25, 26, 27],\n",
       "         [28, 29, 30, 31],\n",
       "         [32, 33, 34, 35],\n",
       "         [36, 37, 38, 39]]],\n",
       "\n",
       "\n",
       "       [[[40, 41, 42, 43],\n",
       "         [44, 45, 46, 47],\n",
       "         [48, 49, 50, 51],\n",
       "         [52, 53, 54, 55],\n",
       "         [56, 57, 58, 59]],\n",
       "\n",
       "        [[60, 61, 62, 63],\n",
       "         [64, 65, 66, 67],\n",
       "         [68, 69, 70, 71],\n",
       "         [72, 73, 74, 75],\n",
       "         [76, 77, 78, 79]]]])"
      ]
     },
     "execution_count": 40,
     "metadata": {},
     "output_type": "execute_result"
    }
   ],
   "source": [
    "A"
   ]
  },
  {
   "cell_type": "code",
   "execution_count": 39,
   "id": "f202fb40",
   "metadata": {},
   "outputs": [
    {
     "data": {
      "text/plain": [
       "array([[[ 40,  45,  50,  55],\n",
       "        [140, 145, 150, 155]],\n",
       "\n",
       "       [[240, 245, 250, 255],\n",
       "        [340, 345, 350, 355]]])"
      ]
     },
     "execution_count": 39,
     "metadata": {},
     "output_type": "execute_result"
    }
   ],
   "source": [
    "A.sum(axis=2)"
   ]
  },
  {
   "cell_type": "code",
   "execution_count": 48,
   "id": "69948315",
   "metadata": {},
   "outputs": [
    {
     "name": "stdout",
     "output_type": "stream",
     "text": [
      "1.3 µs ± 35 ns per loop (mean ± std. dev. of 7 runs, 100000 loops each)\n",
      "1.43 µs ± 62.7 ns per loop (mean ± std. dev. of 7 runs, 1000000 loops each)\n",
      "[[0.7682805  1.12885906 0.96329284 0.30410248 1.17248089]\n",
      " [1.19329102 1.34057998 0.78673383 0.45960047 0.77234244]]\n",
      "[[0.7682805  1.12885906 0.96329284 0.30410248 1.17248089]\n",
      " [1.19329102 1.34057998 0.78673383 0.45960047 0.77234244]]\n"
     ]
    }
   ],
   "source": [
    "A=np.random.rand(2,5)\n",
    "B=np.random.rand(5)\n",
    "%timeit A+B\n",
    "%timeit np.add(A,B)\n",
    "print(A+B)\n",
    "print(np.add(A,B))"
   ]
  },
  {
   "cell_type": "code",
   "execution_count": 49,
   "id": "a4bc8ccc",
   "metadata": {},
   "outputs": [],
   "source": [
    "C=np.subtract(A,B)"
   ]
  },
  {
   "cell_type": "code",
   "execution_count": 50,
   "id": "daa030ac",
   "metadata": {},
   "outputs": [
    {
     "data": {
      "text/plain": [
       "array([[-0.65052486, -0.66781628, -0.18235259,  0.07024544, -0.15110157],\n",
       "       [-0.22551434, -0.45609536, -0.35891159,  0.22574343, -0.55124002]])"
      ]
     },
     "execution_count": 50,
     "metadata": {},
     "output_type": "execute_result"
    }
   ],
   "source": [
    "C"
   ]
  },
  {
   "cell_type": "code",
   "execution_count": 51,
   "id": "14846d2d",
   "metadata": {},
   "outputs": [
    {
     "data": {
      "text/plain": [
       "array([[-0.65052486, -0.66781628, -0.18235259,  0.07024544, -0.15110157],\n",
       "       [-0.22551434, -0.45609536, -0.35891159,  0.22574343, -0.55124002]])"
      ]
     },
     "execution_count": 51,
     "metadata": {},
     "output_type": "execute_result"
    }
   ],
   "source": [
    "C=A-B\n",
    "C"
   ]
  },
  {
   "cell_type": "code",
   "execution_count": 52,
   "id": "3940a5d3",
   "metadata": {},
   "outputs": [
    {
     "data": {
      "text/plain": [
       "array([[0.04176808, 0.20708605, 0.22367016, 0.02188597, 0.33796994],\n",
       "       [0.34327169, 0.39728293, 0.12253315, 0.04006812, 0.07316182]])"
      ]
     },
     "execution_count": 52,
     "metadata": {},
     "output_type": "execute_result"
    }
   ],
   "source": [
    "C=np.multiply(A,B)\n",
    "C"
   ]
  },
  {
   "cell_type": "code",
   "execution_count": 54,
   "id": "9b6595c4",
   "metadata": {},
   "outputs": [
    {
     "data": {
      "text/plain": [
       "array([[0.04176808, 0.20708605, 0.22367016, 0.02188597, 0.33796994],\n",
       "       [0.34327169, 0.39728293, 0.12253315, 0.04006812, 0.07316182]])"
      ]
     },
     "execution_count": 54,
     "metadata": {},
     "output_type": "execute_result"
    }
   ],
   "source": [
    "C=A*B\n",
    "C"
   ]
  },
  {
   "cell_type": "code",
   "execution_count": 58,
   "id": "7cda7fe7",
   "metadata": {},
   "outputs": [
    {
     "data": {
      "text/plain": [
       "array([[0.97998831, 0.97558887, 0.80447792, 0.66917388, 0.80992363],\n",
       "       [0.84693246, 0.95369395, 0.88764199, 0.47929454, 0.95538956]])"
      ]
     },
     "execution_count": 58,
     "metadata": {},
     "output_type": "execute_result"
    }
   ],
   "source": [
    "C=np.power(B,A)\n",
    "C"
   ]
  },
  {
   "cell_type": "code",
   "execution_count": 59,
   "id": "0d450593",
   "metadata": {},
   "outputs": [
    {
     "data": {
      "text/plain": [
       "array([[0.97998831, 0.97558887, 0.80447792, 0.66917388, 0.80992363],\n",
       "       [0.84693246, 0.95369395, 0.88764199, 0.47929454, 0.95538956]])"
      ]
     },
     "execution_count": 59,
     "metadata": {},
     "output_type": "execute_result"
    }
   ],
   "source": [
    "C=B**A\n",
    "C"
   ]
  },
  {
   "cell_type": "code",
   "execution_count": 60,
   "id": "6ae79bdd",
   "metadata": {},
   "outputs": [
    {
     "data": {
      "text/plain": [
       "array([[0.05887782, 0.23052139, 0.39047013, 0.07024544, 0.51068966],\n",
       "       [0.48388834, 0.44224231, 0.21391112, 0.10881491, 0.11055121]])"
      ]
     },
     "execution_count": 60,
     "metadata": {},
     "output_type": "execute_result"
    }
   ],
   "source": [
    "A%B"
   ]
  },
  {
   "cell_type": "code",
   "execution_count": 61,
   "id": "1b7624fc",
   "metadata": {},
   "outputs": [
    {
     "data": {
      "text/plain": [
       "array([[0.05887782, 0.23052139, 0.39047013, 0.07024544, 0.51068966],\n",
       "       [0.48388834, 0.44224231, 0.21391112, 0.10881491, 0.11055121]])"
      ]
     },
     "execution_count": 61,
     "metadata": {},
     "output_type": "execute_result"
    }
   ],
   "source": [
    "np.mod(A,B)"
   ]
  },
  {
   "cell_type": "code",
   "execution_count": 62,
   "id": "6a83e5a0",
   "metadata": {},
   "outputs": [
    {
     "data": {
      "text/plain": [
       "array([[0.08299633, 0.25660884, 0.68165964, 1.60075543, 0.77167789],\n",
       "       [0.68210673, 0.49228962, 0.37343338, 2.93061053, 0.16704847]])"
      ]
     },
     "execution_count": 62,
     "metadata": {},
     "output_type": "execute_result"
    }
   ],
   "source": [
    "A/B"
   ]
  },
  {
   "cell_type": "code",
   "execution_count": 64,
   "id": "d8c61504",
   "metadata": {},
   "outputs": [
    {
     "ename": "AttributeError",
     "evalue": "module 'numpy' has no attribute 'division'",
     "output_type": "error",
     "traceback": [
      "\u001b[1;31m---------------------------------------------------------------------------\u001b[0m",
      "\u001b[1;31mAttributeError\u001b[0m                            Traceback (most recent call last)",
      "\u001b[1;32m<ipython-input-64-6f64669b8084>\u001b[0m in \u001b[0;36m<module>\u001b[1;34m\u001b[0m\n\u001b[1;32m----> 1\u001b[1;33m \u001b[0mnp\u001b[0m\u001b[1;33m.\u001b[0m\u001b[0mdivision\u001b[0m\u001b[1;33m(\u001b[0m\u001b[0mA\u001b[0m\u001b[1;33m,\u001b[0m\u001b[0mB\u001b[0m\u001b[1;33m)\u001b[0m\u001b[1;33m\u001b[0m\u001b[1;33m\u001b[0m\u001b[0m\n\u001b[0m",
      "\u001b[1;32m~\\anaconda3\\lib\\site-packages\\numpy\\__init__.py\u001b[0m in \u001b[0;36m__getattr__\u001b[1;34m(attr)\u001b[0m\n\u001b[0;32m    301\u001b[0m                 \u001b[1;32mreturn\u001b[0m \u001b[0mTester\u001b[0m\u001b[1;33m\u001b[0m\u001b[1;33m\u001b[0m\u001b[0m\n\u001b[0;32m    302\u001b[0m \u001b[1;33m\u001b[0m\u001b[0m\n\u001b[1;32m--> 303\u001b[1;33m             raise AttributeError(\"module {!r} has no attribute \"\n\u001b[0m\u001b[0;32m    304\u001b[0m                                  \"{!r}\".format(__name__, attr))\n\u001b[0;32m    305\u001b[0m \u001b[1;33m\u001b[0m\u001b[0m\n",
      "\u001b[1;31mAttributeError\u001b[0m: module 'numpy' has no attribute 'division'"
     ]
    }
   ],
   "source": [
    "np.division(A,B)"
   ]
  },
  {
   "cell_type": "code",
   "execution_count": 65,
   "id": "ef6a4dfd",
   "metadata": {},
   "outputs": [
    {
     "data": {
      "text/plain": [
       "array([[0.05887782, 0.23052139, 0.39047013, 0.18717396, 0.51068966],\n",
       "       [0.48388834, 0.44224231, 0.21391112, 0.34267195, 0.11055121]])"
      ]
     },
     "execution_count": 65,
     "metadata": {},
     "output_type": "execute_result"
    }
   ],
   "source": [
    "A"
   ]
  },
  {
   "cell_type": "code",
   "execution_count": 66,
   "id": "66cb2706",
   "metadata": {},
   "outputs": [
    {
     "data": {
      "text/plain": [
       "array([0.70940268, 0.89833767, 0.57282271, 0.11692852, 0.66179123])"
      ]
     },
     "execution_count": 66,
     "metadata": {},
     "output_type": "execute_result"
    }
   ],
   "source": [
    "B"
   ]
  },
  {
   "cell_type": "code",
   "execution_count": 67,
   "id": "d938aed2",
   "metadata": {
    "scrolled": true
   },
   "outputs": [
    {
     "data": {
      "text/plain": [
       "0.2970997888131891"
      ]
     },
     "execution_count": 67,
     "metadata": {},
     "output_type": "execute_result"
    }
   ],
   "source": [
    "np.mean(A)"
   ]
  },
  {
   "cell_type": "code",
   "execution_count": 71,
   "id": "a89772f3",
   "metadata": {},
   "outputs": [
    {
     "data": {
      "text/plain": [
       "(2, 5)"
      ]
     },
     "execution_count": 71,
     "metadata": {},
     "output_type": "execute_result"
    }
   ],
   "source": [
    "A.shape"
   ]
  },
  {
   "cell_type": "code",
   "execution_count": 68,
   "id": "c7a76b4d",
   "metadata": {},
   "outputs": [
    {
     "data": {
      "text/plain": [
       "array([0.27138308, 0.33638185, 0.30219062, 0.26492295, 0.31062044])"
      ]
     },
     "execution_count": 68,
     "metadata": {},
     "output_type": "execute_result"
    }
   ],
   "source": [
    "np.mean(A,axis=0)  # here 2 vanish so shape is (5,)"
   ]
  },
  {
   "cell_type": "code",
   "execution_count": 70,
   "id": "f6fc67e6",
   "metadata": {},
   "outputs": [
    {
     "data": {
      "text/plain": [
       "array([0.27554659, 0.31865299])"
      ]
     },
     "execution_count": 70,
     "metadata": {},
     "output_type": "execute_result"
    }
   ],
   "source": [
    "np.mean(A,axis=1)  # here 5 vanish so shape is (2,)"
   ]
  },
  {
   "cell_type": "code",
   "execution_count": 72,
   "id": "f2151909",
   "metadata": {},
   "outputs": [
    {
     "data": {
      "text/plain": [
       "0.28659666769854053"
      ]
     },
     "execution_count": 72,
     "metadata": {},
     "output_type": "execute_result"
    }
   ],
   "source": [
    "np.median(A)"
   ]
  },
  {
   "cell_type": "code",
   "execution_count": 73,
   "id": "037dc763",
   "metadata": {},
   "outputs": [
    {
     "ename": "AttributeError",
     "evalue": "module 'numpy' has no attribute 'mode'",
     "output_type": "error",
     "traceback": [
      "\u001b[1;31m---------------------------------------------------------------------------\u001b[0m",
      "\u001b[1;31mAttributeError\u001b[0m                            Traceback (most recent call last)",
      "\u001b[1;32m<ipython-input-73-60fc0f921f25>\u001b[0m in \u001b[0;36m<module>\u001b[1;34m\u001b[0m\n\u001b[1;32m----> 1\u001b[1;33m \u001b[0mnp\u001b[0m\u001b[1;33m.\u001b[0m\u001b[0mmode\u001b[0m\u001b[1;33m(\u001b[0m\u001b[0mA\u001b[0m\u001b[1;33m)\u001b[0m\u001b[1;33m\u001b[0m\u001b[1;33m\u001b[0m\u001b[0m\n\u001b[0m",
      "\u001b[1;32m~\\anaconda3\\lib\\site-packages\\numpy\\__init__.py\u001b[0m in \u001b[0;36m__getattr__\u001b[1;34m(attr)\u001b[0m\n\u001b[0;32m    301\u001b[0m                 \u001b[1;32mreturn\u001b[0m \u001b[0mTester\u001b[0m\u001b[1;33m\u001b[0m\u001b[1;33m\u001b[0m\u001b[0m\n\u001b[0;32m    302\u001b[0m \u001b[1;33m\u001b[0m\u001b[0m\n\u001b[1;32m--> 303\u001b[1;33m             raise AttributeError(\"module {!r} has no attribute \"\n\u001b[0m\u001b[0;32m    304\u001b[0m                                  \"{!r}\".format(__name__, attr))\n\u001b[0;32m    305\u001b[0m \u001b[1;33m\u001b[0m\u001b[0m\n",
      "\u001b[1;31mAttributeError\u001b[0m: module 'numpy' has no attribute 'mode'"
     ]
    }
   ],
   "source": [
    "np.mode(A)"
   ]
  },
  {
   "cell_type": "code",
   "execution_count": 74,
   "id": "da7871a2",
   "metadata": {},
   "outputs": [
    {
     "data": {
      "text/plain": [
       "array([[0.05887782, 0.23052139, 0.39047013, 0.18717396, 0.51068966],\n",
       "       [0.48388834, 0.44224231, 0.21391112, 0.34267195, 0.11055121]])"
      ]
     },
     "execution_count": 74,
     "metadata": {},
     "output_type": "execute_result"
    }
   ],
   "source": [
    "A"
   ]
  },
  {
   "cell_type": "code",
   "execution_count": 75,
   "id": "1337c6a1",
   "metadata": {},
   "outputs": [
    {
     "data": {
      "text/plain": [
       "array([[0.0588438 , 0.22848515, 0.3806232 , 0.18608296, 0.48877903],\n",
       "       [0.46522462, 0.42796713, 0.21228349, 0.33600489, 0.11032616]])"
      ]
     },
     "execution_count": 75,
     "metadata": {},
     "output_type": "execute_result"
    }
   ],
   "source": [
    "np.sin(A)"
   ]
  },
  {
   "cell_type": "code",
   "execution_count": 76,
   "id": "f48e1e54",
   "metadata": {},
   "outputs": [
    {
     "data": {
      "text/plain": [
       "array([0.70940268, 0.89833767, 0.57282271, 0.11692852, 0.66179123])"
      ]
     },
     "execution_count": 76,
     "metadata": {},
     "output_type": "execute_result"
    }
   ],
   "source": [
    "B"
   ]
  },
  {
   "cell_type": "code",
   "execution_count": 77,
   "id": "b0d0d9dc",
   "metadata": {},
   "outputs": [
    {
     "data": {
      "text/plain": [
       "array([0.75875109, 0.62291126, 0.8403744 , 0.99317165, 0.78889273])"
      ]
     },
     "execution_count": 77,
     "metadata": {},
     "output_type": "execute_result"
    }
   ],
   "source": [
    "np.cos(B)"
   ]
  },
  {
   "cell_type": "code",
   "execution_count": 78,
   "id": "c7951bb9",
   "metadata": {},
   "outputs": [
    {
     "data": {
      "text/plain": [
       "array([0.85849059, 1.2558651 , 0.64495818, 0.11746434, 0.77897907])"
      ]
     },
     "execution_count": 78,
     "metadata": {},
     "output_type": "execute_result"
    }
   ],
   "source": [
    "np.tan(B)"
   ]
  },
  {
   "cell_type": "code",
   "execution_count": 82,
   "id": "340c62ea",
   "metadata": {},
   "outputs": [
    {
     "data": {
      "text/plain": [
       "array([1.16483514, 0.79626386, 1.55048813, 8.5132218 , 1.28373154])"
      ]
     },
     "execution_count": 82,
     "metadata": {},
     "output_type": "execute_result"
    }
   ],
   "source": [
    "1/np.tan(B)"
   ]
  },
  {
   "cell_type": "code",
   "execution_count": 83,
   "id": "06c05227",
   "metadata": {},
   "outputs": [
    {
     "data": {
      "text/plain": [
       "array([[0.05891189, 0.23261347, 0.4011422 , 0.18828447, 0.53598675],\n",
       "       [0.50509245, 0.45809722, 0.21557701, 0.34975957, 0.11077764]])"
      ]
     },
     "execution_count": 83,
     "metadata": {},
     "output_type": "execute_result"
    }
   ],
   "source": [
    "np.arcsin(A)"
   ]
  },
  {
   "cell_type": "code",
   "execution_count": 84,
   "id": "84073f1c",
   "metadata": {},
   "outputs": [
    {
     "data": {
      "text/plain": [
       "array([[0.05891184, 0.23256847, 0.40046834, 0.18826879, 0.53317925],\n",
       "       [0.50299423, 0.45679943, 0.21554621, 0.34941776, 0.11077653]])"
      ]
     },
     "execution_count": 84,
     "metadata": {},
     "output_type": "execute_result"
    }
   ],
   "source": [
    "np.sinh(A)"
   ]
  },
  {
   "cell_type": "code",
   "execution_count": 85,
   "id": "77624d5f",
   "metadata": {},
   "outputs": [
    {
     "data": {
      "text/plain": [
       "array([[0.05887782, 0.23052139, 0.39047013, 0.18717396, 0.51068966],\n",
       "       [0.48388834, 0.44224231, 0.21391112, 0.34267195, 0.11055121]])"
      ]
     },
     "execution_count": 85,
     "metadata": {},
     "output_type": "execute_result"
    }
   ],
   "source": [
    "A"
   ]
  },
  {
   "cell_type": "code",
   "execution_count": 86,
   "id": "a4846850",
   "metadata": {},
   "outputs": [
    {
     "data": {
      "text/plain": [
       "array([0.70940268, 0.89833767, 0.57282271, 0.11692852, 0.66179123])"
      ]
     },
     "execution_count": 86,
     "metadata": {},
     "output_type": "execute_result"
    }
   ],
   "source": [
    "B"
   ]
  },
  {
   "cell_type": "code",
   "execution_count": 87,
   "id": "63754e84",
   "metadata": {},
   "outputs": [
    {
     "data": {
      "text/plain": [
       "array([[False, False, False,  True, False],\n",
       "       [False, False, False,  True, False]])"
      ]
     },
     "execution_count": 87,
     "metadata": {},
     "output_type": "execute_result"
    }
   ],
   "source": [
    "np.greater(A,B)"
   ]
  },
  {
   "cell_type": "code",
   "execution_count": 88,
   "id": "25aa595a",
   "metadata": {},
   "outputs": [
    {
     "data": {
      "text/plain": [
       "array([[False, False, False,  True, False],\n",
       "       [False, False, False,  True, False]])"
      ]
     },
     "execution_count": 88,
     "metadata": {},
     "output_type": "execute_result"
    }
   ],
   "source": [
    "A>B"
   ]
  },
  {
   "cell_type": "code",
   "execution_count": 92,
   "id": "6c5f80c9",
   "metadata": {},
   "outputs": [
    {
     "data": {
      "text/plain": [
       "array([[False, False, False,  True, False],\n",
       "       [False, False, False,  True, False]])"
      ]
     },
     "execution_count": 92,
     "metadata": {},
     "output_type": "execute_result"
    }
   ],
   "source": [
    "~(A<B)"
   ]
  },
  {
   "cell_type": "code",
   "execution_count": 94,
   "id": "53cc700d",
   "metadata": {},
   "outputs": [
    {
     "data": {
      "text/plain": [
       "array([[False, False, False,  True, False],\n",
       "       [False, False, False,  True, False]])"
      ]
     },
     "execution_count": 94,
     "metadata": {},
     "output_type": "execute_result"
    }
   ],
   "source": [
    "np.logical_not(A<B)"
   ]
  },
  {
   "cell_type": "markdown",
   "id": "8b863f3b",
   "metadata": {},
   "source": [
    "### missing value"
   ]
  },
  {
   "cell_type": "code",
   "execution_count": 95,
   "id": "09c2eb29",
   "metadata": {},
   "outputs": [
    {
     "data": {
      "text/plain": [
       "array([0.70940268, 0.89833767, 0.57282271, 0.11692852, 0.66179123])"
      ]
     },
     "execution_count": 95,
     "metadata": {},
     "output_type": "execute_result"
    }
   ],
   "source": [
    "B"
   ]
  },
  {
   "cell_type": "code",
   "execution_count": 96,
   "id": "0b5d9c21",
   "metadata": {},
   "outputs": [],
   "source": [
    "B[2]=np.nan"
   ]
  },
  {
   "cell_type": "code",
   "execution_count": 97,
   "id": "c5495ca2",
   "metadata": {},
   "outputs": [
    {
     "data": {
      "text/plain": [
       "array([0.70940268, 0.89833767,        nan, 0.11692852, 0.66179123])"
      ]
     },
     "execution_count": 97,
     "metadata": {},
     "output_type": "execute_result"
    }
   ],
   "source": [
    "B"
   ]
  },
  {
   "cell_type": "code",
   "execution_count": 99,
   "id": "844b5560",
   "metadata": {},
   "outputs": [
    {
     "data": {
      "text/plain": [
       "nan"
      ]
     },
     "execution_count": 99,
     "metadata": {},
     "output_type": "execute_result"
    }
   ],
   "source": [
    "B.mean()"
   ]
  },
  {
   "cell_type": "code",
   "execution_count": 100,
   "id": "1f354166",
   "metadata": {},
   "outputs": [
    {
     "data": {
      "text/plain": [
       "2.3864601000196357"
      ]
     },
     "execution_count": 100,
     "metadata": {},
     "output_type": "execute_result"
    }
   ],
   "source": [
    "np.nansum(B)"
   ]
  },
  {
   "cell_type": "code",
   "execution_count": 101,
   "id": "1b2c0e15",
   "metadata": {},
   "outputs": [
    {
     "data": {
      "text/plain": [
       "0.5966150250049089"
      ]
     },
     "execution_count": 101,
     "metadata": {},
     "output_type": "execute_result"
    }
   ],
   "source": [
    "np.nanmean(B)"
   ]
  },
  {
   "cell_type": "code",
   "execution_count": 102,
   "id": "08ad28e0",
   "metadata": {},
   "outputs": [
    {
     "data": {
      "text/plain": [
       "array([False, False,  True, False, False])"
      ]
     },
     "execution_count": 102,
     "metadata": {},
     "output_type": "execute_result"
    }
   ],
   "source": [
    "np.isnan(B)"
   ]
  },
  {
   "cell_type": "markdown",
   "id": "e2a94c26",
   "metadata": {},
   "source": [
    "### quiz practice"
   ]
  },
  {
   "cell_type": "code",
   "execution_count": 118,
   "id": "12bc9358",
   "metadata": {},
   "outputs": [
    {
     "data": {
      "text/plain": [
       "array([9.96976868, 5.25812703, 4.25078374, 9.49322637, 3.07827687,\n",
       "       8.18406327, 6.22653283, 7.5207298 , 5.59324979, 9.10549853,\n",
       "       0.97332646, 0.92444985, 7.105508  , 9.35666416, 5.59382332,\n",
       "       2.31158996, 8.62078033, 4.94605076, 7.16594987, 8.3349593 ,\n",
       "       5.5239372 , 5.15665268, 3.44742396, 7.41493175, 0.06060776,\n",
       "       7.96644388, 0.05979173, 5.63059762, 4.38845967, 8.4051801 ,\n",
       "       6.79150568, 7.60462019, 0.73374639, 2.71006834, 9.92438838,\n",
       "       5.33440525, 2.41731213, 1.06054447, 9.40040741, 0.19803209,\n",
       "       0.88404596, 3.0871053 , 1.39300915, 5.24821285, 3.16044587,\n",
       "       0.57041647, 7.35008855, 4.70999322, 0.70440526, 4.03022832])"
      ]
     },
     "execution_count": 118,
     "metadata": {},
     "output_type": "execute_result"
    }
   ],
   "source": [
    "p=10*np.random.rand(50)\n",
    "p"
   ]
  },
  {
   "cell_type": "code",
   "execution_count": 119,
   "id": "47a488c9",
   "metadata": {},
   "outputs": [
    {
     "data": {
      "text/plain": [
       "array([9., 5., 4., 9., 3., 8., 6., 7., 5., 9., 0., 0., 7., 9., 5., 2., 8.,\n",
       "       4., 7., 8., 5., 5., 3., 7., 0., 7., 0., 5., 4., 8., 6., 7., 0., 2.,\n",
       "       9., 5., 2., 1., 9., 0., 0., 3., 1., 5., 3., 0., 7., 4., 0., 4.])"
      ]
     },
     "execution_count": 119,
     "metadata": {},
     "output_type": "execute_result"
    }
   ],
   "source": [
    "np.floor(p)"
   ]
  },
  {
   "cell_type": "code",
   "execution_count": 123,
   "id": "b4d5d0f0",
   "metadata": {},
   "outputs": [
    {
     "data": {
      "text/plain": [
       "array([9., 9., 8., 6., 7., 9., 7., 9., 8., 7., 8., 7., 7., 8., 6., 7., 9.,\n",
       "       9., 7.])"
      ]
     },
     "execution_count": 123,
     "metadata": {},
     "output_type": "execute_result"
    }
   ],
   "source": [
    "q=np.floor(p[np.floor(p)>5])\n",
    "q"
   ]
  },
  {
   "cell_type": "code",
   "execution_count": 124,
   "id": "f62c3426",
   "metadata": {},
   "outputs": [
    {
     "data": {
      "text/plain": [
       "array([9., 9., 9., 9., 9., 9., 8., 8., 8., 8., 7., 7., 7., 7., 7., 7., 7.,\n",
       "       6., 6., 5., 5., 5., 5., 5., 5., 5., 5., 4., 4., 4., 4., 4., 3., 3.,\n",
       "       3., 3., 2., 2., 2., 1., 1., 0., 0., 0., 0., 0., 0., 0., 0., 0.])"
      ]
     },
     "execution_count": 124,
     "metadata": {},
     "output_type": "execute_result"
    }
   ],
   "source": [
    "np.floor(np.sort(p))[::-1]"
   ]
  },
  {
   "cell_type": "code",
   "execution_count": 128,
   "id": "2243a9d3",
   "metadata": {},
   "outputs": [
    {
     "data": {
      "text/plain": [
       "array([6., 6., 7., 7., 7., 7., 7., 7., 7., 8., 8., 8., 8., 9., 9., 9., 9.,\n",
       "       9., 9.])"
      ]
     },
     "execution_count": 128,
     "metadata": {},
     "output_type": "execute_result"
    }
   ],
   "source": [
    "np.sort(q)"
   ]
  },
  {
   "cell_type": "markdown",
   "id": "6ee7974b",
   "metadata": {},
   "source": [
    "### output arguments"
   ]
  },
  {
   "cell_type": "code",
   "execution_count": 149,
   "id": "e52204c5",
   "metadata": {},
   "outputs": [],
   "source": [
    "A=np.arange(5)"
   ]
  },
  {
   "cell_type": "code",
   "execution_count": 150,
   "id": "00bff956",
   "metadata": {},
   "outputs": [],
   "source": [
    "y=np.zeros(5)"
   ]
  },
  {
   "cell_type": "code",
   "execution_count": 151,
   "id": "f5ca681b",
   "metadata": {},
   "outputs": [
    {
     "data": {
      "text/plain": [
       "array([0, 1, 2, 3, 4])"
      ]
     },
     "execution_count": 151,
     "metadata": {},
     "output_type": "execute_result"
    }
   ],
   "source": [
    "A"
   ]
  },
  {
   "cell_type": "code",
   "execution_count": 152,
   "id": "76b23479",
   "metadata": {},
   "outputs": [
    {
     "data": {
      "text/plain": [
       "array([0., 0., 0., 0., 0.])"
      ]
     },
     "execution_count": 152,
     "metadata": {},
     "output_type": "execute_result"
    }
   ],
   "source": [
    "y"
   ]
  },
  {
   "cell_type": "code",
   "execution_count": 153,
   "id": "8b7f3a07",
   "metadata": {},
   "outputs": [
    {
     "data": {
      "text/plain": [
       "array([0., 1., 2., 3., 4.])"
      ]
     },
     "execution_count": 153,
     "metadata": {},
     "output_type": "execute_result"
    }
   ],
   "source": [
    "np.add(A,y)"
   ]
  },
  {
   "cell_type": "code",
   "execution_count": 154,
   "id": "e4d3cf52",
   "metadata": {},
   "outputs": [
    {
     "data": {
      "text/plain": [
       "array([10., 11., 12., 13., 14.])"
      ]
     },
     "execution_count": 154,
     "metadata": {},
     "output_type": "execute_result"
    }
   ],
   "source": [
    "np.add(A,10,out=y)  # this code refers to y=np.add(A,10) or y=A+10"
   ]
  },
  {
   "cell_type": "code",
   "execution_count": 155,
   "id": "3100e6e7",
   "metadata": {},
   "outputs": [
    {
     "data": {
      "text/plain": [
       "array([10., 11., 12., 13., 14.])"
      ]
     },
     "execution_count": 155,
     "metadata": {},
     "output_type": "execute_result"
    }
   ],
   "source": [
    "y"
   ]
  },
  {
   "cell_type": "code",
   "execution_count": 156,
   "id": "a256de81",
   "metadata": {},
   "outputs": [],
   "source": [
    "A=y"
   ]
  },
  {
   "cell_type": "code",
   "execution_count": 158,
   "id": "02be667c",
   "metadata": {},
   "outputs": [
    {
     "data": {
      "text/plain": [
       "array([10., 11., 12., 13., 14.])"
      ]
     },
     "execution_count": 158,
     "metadata": {},
     "output_type": "execute_result"
    }
   ],
   "source": [
    "A"
   ]
  },
  {
   "cell_type": "code",
   "execution_count": 162,
   "id": "54925aa1",
   "metadata": {},
   "outputs": [],
   "source": [
    "z=np.zeros(10)"
   ]
  },
  {
   "cell_type": "code",
   "execution_count": 163,
   "id": "3aa48404",
   "metadata": {},
   "outputs": [
    {
     "data": {
      "text/plain": [
       "array([0., 0., 0., 0., 0., 0., 0., 0., 0., 0.])"
      ]
     },
     "execution_count": 163,
     "metadata": {},
     "output_type": "execute_result"
    }
   ],
   "source": [
    "z"
   ]
  },
  {
   "cell_type": "code",
   "execution_count": 166,
   "id": "c310aa4b",
   "metadata": {},
   "outputs": [
    {
     "data": {
      "text/plain": [
       "array([60., 61., 62., 63., 64.])"
      ]
     },
     "execution_count": 166,
     "metadata": {},
     "output_type": "execute_result"
    }
   ],
   "source": [
    "np.add(A,50,out=z[::2])"
   ]
  },
  {
   "cell_type": "code",
   "execution_count": 169,
   "id": "3d63f15e",
   "metadata": {},
   "outputs": [
    {
     "data": {
      "text/plain": [
       "array([60.,  0., 61.,  0., 62.,  0., 63.,  0., 64.,  0.])"
      ]
     },
     "execution_count": 169,
     "metadata": {},
     "output_type": "execute_result"
    }
   ],
   "source": [
    "z"
   ]
  },
  {
   "cell_type": "markdown",
   "id": "448291b4",
   "metadata": {},
   "source": [
    "### playing with numpy"
   ]
  },
  {
   "cell_type": "code",
   "execution_count": 1,
   "id": "cd6475d3",
   "metadata": {},
   "outputs": [],
   "source": [
    "from matplotlib import pyplot as plt"
   ]
  },
  {
   "cell_type": "code",
   "execution_count": 3,
   "id": "8561f0ae",
   "metadata": {},
   "outputs": [],
   "source": [
    "im=plt.imread(r\"C:\\Users\\Manikanta\\Downloads\\my wallpaper.jpg\")"
   ]
  },
  {
   "cell_type": "code",
   "execution_count": 5,
   "id": "e5039d36",
   "metadata": {},
   "outputs": [
    {
     "data": {
      "text/plain": [
       "(744, 750, 3)"
      ]
     },
     "execution_count": 5,
     "metadata": {},
     "output_type": "execute_result"
    }
   ],
   "source": [
    "im.shape"
   ]
  },
  {
   "cell_type": "code",
   "execution_count": 34,
   "id": "108ebea2",
   "metadata": {},
   "outputs": [
    {
     "data": {
      "text/plain": [
       "<matplotlib.image.AxesImage at 0x210f6c072e0>"
      ]
     },
     "execution_count": 34,
     "metadata": {},
     "output_type": "execute_result"
    },
    {
     "data": {
      "image/png": "[encoded data removed]",
      "text/plain": [
       "<Figure size 432x288 with 1 Axes>"
      ]
     },
     "metadata": {
      "needs_background": "light"
     },
     "output_type": "display_data"
    }
   ],
   "source": [
    "plt.imshow(im)"
   ]
  },
  {
   "cell_type": "code",
   "execution_count": 35,
   "id": "d4c14bad",
   "metadata": {},
   "outputs": [
    {
     "data": {
      "text/plain": [
       "numpy.ndarray"
      ]
     },
     "execution_count": 35,
     "metadata": {},
     "output_type": "execute_result"
    }
   ],
   "source": [
    "type(im)"
   ]
  },
  {
   "cell_type": "code",
   "execution_count": 36,
   "id": "e7857e09",
   "metadata": {},
   "outputs": [
    {
     "data": {
      "text/plain": [
       "array([[[142, 142, 142],\n",
       "        [138, 138, 138],\n",
       "        [135, 135, 135],\n",
       "        ...,\n",
       "        [ 11,  11,  11],\n",
       "        [  0,   0,   0],\n",
       "        [  0,   0,   0]],\n",
       "\n",
       "       [[144, 144, 144],\n",
       "        [138, 138, 138],\n",
       "        [134, 134, 134],\n",
       "        ...,\n",
       "        [ 10,  10,  10],\n",
       "        [ 17,  17,  17],\n",
       "        [ 31,  31,  31]],\n",
       "\n",
       "       [[145, 145, 145],\n",
       "        [139, 139, 139],\n",
       "        [133, 133, 133],\n",
       "        ...,\n",
       "        [ 32,  32,  32],\n",
       "        [ 66,  66,  66],\n",
       "        [ 91,  91,  91]],\n",
       "\n",
       "       ...,\n",
       "\n",
       "       [[ 93,  93,  93],\n",
       "        [ 93,  93,  93],\n",
       "        [ 93,  93,  93],\n",
       "        ...,\n",
       "        [ 85,  85,  85],\n",
       "        [ 83,  83,  83],\n",
       "        [ 80,  80,  80]],\n",
       "\n",
       "       [[ 92,  92,  92],\n",
       "        [ 92,  92,  92],\n",
       "        [ 93,  93,  93],\n",
       "        ...,\n",
       "        [ 84,  84,  84],\n",
       "        [ 80,  80,  80],\n",
       "        [ 78,  78,  78]],\n",
       "\n",
       "       [[ 92,  92,  92],\n",
       "        [ 92,  92,  92],\n",
       "        [ 92,  92,  92],\n",
       "        ...,\n",
       "        [ 85,  85,  85],\n",
       "        [ 79,  79,  79],\n",
       "        [ 74,  74,  74]]], dtype=uint8)"
      ]
     },
     "execution_count": 36,
     "metadata": {},
     "output_type": "execute_result"
    }
   ],
   "source": [
    "im"
   ]
  },
  {
   "cell_type": "code",
   "execution_count": 37,
   "id": "95c5bb6a",
   "metadata": {},
   "outputs": [
    {
     "data": {
      "text/plain": [
       "<matplotlib.image.AxesImage at 0x210f6e0e970>"
      ]
     },
     "execution_count": 37,
     "metadata": {},
     "output_type": "execute_result"
    },
    {
     "data": {
      "image/png": "[encoded data removed]",
      "text/plain": [
       "<Figure size 432x288 with 1 Axes>"
      ]
     },
     "metadata": {
      "needs_background": "light"
     },
     "output_type": "display_data"
    }
   ],
   "source": [
    "plt.imshow(im[:,:,0:3])"
   ]
  },
  {
   "cell_type": "code",
   "execution_count": 38,
   "id": "2920b514",
   "metadata": {},
   "outputs": [],
   "source": [
    "Red=im[:,:,0]"
   ]
  },
  {
   "cell_type": "code",
   "execution_count": 39,
   "id": "c3ae9c61",
   "metadata": {},
   "outputs": [
    {
     "data": {
      "text/plain": [
       "(744, 750)"
      ]
     },
     "execution_count": 39,
     "metadata": {},
     "output_type": "execute_result"
    }
   ],
   "source": [
    "Red.shape"
   ]
  },
  {
   "cell_type": "code",
   "execution_count": 40,
   "id": "b0375e80",
   "metadata": {},
   "outputs": [
    {
     "data": {
      "text/plain": [
       "<matplotlib.image.AxesImage at 0x210f7017b20>"
      ]
     },
     "execution_count": 40,
     "metadata": {},
     "output_type": "execute_result"
    },
    {
     "data": {
      "image/png": "[encoded data removed]",
      "text/plain": [
       "<Figure size 432x288 with 1 Axes>"
      ]
     },
     "metadata": {
      "needs_background": "light"
     },
     "output_type": "display_data"
    }
   ],
   "source": [
    "plt.imshow(Red)"
   ]
  },
  {
   "cell_type": "code",
   "execution_count": 41,
   "id": "c4b0ba4b",
   "metadata": {
    "scrolled": true
   },
   "outputs": [
    {
     "data": {
      "text/plain": [
       "array([[142, 138, 135, ...,  11,   0,   0],\n",
       "       [144, 138, 134, ...,  10,  17,  31],\n",
       "       [145, 139, 133, ...,  32,  66,  91],\n",
       "       ...,\n",
       "       [ 93,  93,  93, ...,  85,  83,  80],\n",
       "       [ 92,  92,  93, ...,  84,  80,  78],\n",
       "       [ 92,  92,  92, ...,  85,  79,  74]], dtype=uint8)"
      ]
     },
     "execution_count": 41,
     "metadata": {},
     "output_type": "execute_result"
    }
   ],
   "source": [
    "Red"
   ]
  },
  {
   "cell_type": "code",
   "execution_count": 65,
   "id": "f9d953af",
   "metadata": {},
   "outputs": [],
   "source": [
    "im1=im.copy()\n",
    "im1[:,:,0]=100\n",
    "im1[:,:,2]=200"
   ]
  },
  {
   "cell_type": "code",
   "execution_count": 66,
   "id": "5251a272",
   "metadata": {
    "scrolled": true
   },
   "outputs": [
    {
     "data": {
      "text/plain": [
       "<matplotlib.image.AxesImage at 0x210f5c96ac0>"
      ]
     },
     "execution_count": 66,
     "metadata": {},
     "output_type": "execute_result"
    },
    {
     "data": {
      "image/png": "[encoded data removed]",
      "text/plain": [
       "<Figure size 432x288 with 1 Axes>"
      ]
     },
     "metadata": {
      "needs_background": "light"
     },
     "output_type": "display_data"
    }
   ],
   "source": [
    "plt.imshow(im1)"
   ]
  },
  {
   "cell_type": "markdown",
   "id": "3514874a",
   "metadata": {},
   "source": [
    "### making yellow box"
   ]
  },
  {
   "cell_type": "code",
   "execution_count": 78,
   "id": "b5272700",
   "metadata": {},
   "outputs": [
    {
     "data": {
      "text/plain": [
       "<matplotlib.image.AxesImage at 0x210f91e8af0>"
      ]
     },
     "execution_count": 78,
     "metadata": {},
     "output_type": "execute_result"
    },
    {
     "data": {
      "image/png": "[encoded data removed]",
      "text/plain": [
       "<Figure size 432x288 with 1 Axes>"
      ]
     },
     "metadata": {
      "needs_background": "light"
     },
     "output_type": "display_data"
    }
   ],
   "source": [
    "im1=im.copy()\n",
    "im1[100:600,100:600,0]=255\n",
    "im1[100:600,100:600,1]=255\n",
    "im1[100:600,100:600,2]=0\n",
    "plt.imshow(im1)"
   ]
  },
  {
   "cell_type": "code",
   "execution_count": 82,
   "id": "0f0b17d2",
   "metadata": {},
   "outputs": [
    {
     "data": {
      "text/plain": [
       "<matplotlib.image.AxesImage at 0x210facb2b50>"
      ]
     },
     "execution_count": 82,
     "metadata": {},
     "output_type": "execute_result"
    },
    {
     "data": {
      "image/png": "[encoded data removed]",
      "text/plain": [
       "<Figure size 432x288 with 1 Axes>"
      ]
     },
     "metadata": {
      "needs_background": "light"
     },
     "output_type": "display_data"
    }
   ],
   "source": [
    "plt.imshow(im)"
   ]
  },
  {
   "cell_type": "markdown",
   "id": "f57b5f86",
   "metadata": {},
   "source": [
    "### rotating the image using numpy"
   ]
  },
  {
   "cell_type": "code",
   "execution_count": 81,
   "id": "19c05f9a",
   "metadata": {},
   "outputs": [
    {
     "data": {
      "text/plain": [
       "<matplotlib.image.AxesImage at 0x210fa918c10>"
      ]
     },
     "execution_count": 81,
     "metadata": {},
     "output_type": "execute_result"
    },
    {
     "data": {
      "image/png": "[encoded data removed]",
      "text/plain": [
       "<Figure size 432x288 with 1 Axes>"
      ]
     },
     "metadata": {
      "needs_background": "light"
     },
     "output_type": "display_data"
    }
   ],
   "source": [
    "import numpy as np\n",
    "im1=im.copy()\n",
    "index=np.arange(im1.shape[1])\n",
    "im2=im1[:,index[::-1],:]\n",
    "plt.imshow(im2)"
   ]
  },
  {
   "cell_type": "code",
   "execution_count": 83,
   "id": "51288137",
   "metadata": {},
   "outputs": [
    {
     "data": {
      "text/plain": [
       "<matplotlib.image.AxesImage at 0x210fa776460>"
      ]
     },
     "execution_count": 83,
     "metadata": {},
     "output_type": "execute_result"
    },
    {
     "data": {
      "image/png": "[encoded data removed]",
      "text/plain": [
       "<Figure size 432x288 with 1 Axes>"
      ]
     },
     "metadata": {
      "needs_background": "light"
     },
     "output_type": "display_data"
    }
   ],
   "source": [
    "im1=im.copy()\n",
    "index=np.arange(im1.shape[0])\n",
    "im2=im1[index[::-1],:,:]\n",
    "plt.imshow(im2)"
   ]
  },
  {
   "cell_type": "code",
   "execution_count": 86,
   "id": "71bae5b6",
   "metadata": {},
   "outputs": [
    {
     "data": {
      "image/png": "[encoded data removed]",
      "text/plain": [
       "<Figure size 1440x5760 with 3 Axes>"
      ]
     },
     "metadata": {},
     "output_type": "display_data"
    }
   ],
   "source": [
    "fig,ax=plt.subplots(1,3)\n",
    "channel=['Red','Green','Blue']\n",
    "for i,axis in enumerate(ax.flat):\n",
    "    axis.imshow(im[:,:,i],plt.cm.gray)\n",
    "    axis.set(xticks=[],yticks=[])\n",
    "    axis.set_xlabel(channel[i],color=channel[i].lower())\n",
    "    fig.set_size_inches(20,80)"
   ]
  },
  {
   "cell_type": "markdown",
   "id": "3d265eb3",
   "metadata": {},
   "source": [
    "### structured data"
   ]
  },
  {
   "cell_type": "code",
   "execution_count": 89,
   "id": "e9d7c3de",
   "metadata": {},
   "outputs": [],
   "source": [
    "arr=np.array([1,2.,'jbf'])"
   ]
  },
  {
   "cell_type": "code",
   "execution_count": 90,
   "id": "0bec59f1",
   "metadata": {},
   "outputs": [
    {
     "data": {
      "text/plain": [
       "array(['1', '2.0', 'jbf'], dtype='<U32')"
      ]
     },
     "execution_count": 90,
     "metadata": {},
     "output_type": "execute_result"
    }
   ],
   "source": [
    "arr"
   ]
  },
  {
   "cell_type": "code",
   "execution_count": 93,
   "id": "1428433a",
   "metadata": {},
   "outputs": [
    {
     "data": {
      "text/plain": [
       "dtype('<U32')"
      ]
     },
     "execution_count": 93,
     "metadata": {},
     "output_type": "execute_result"
    }
   ],
   "source": [
    "arr.dtype"
   ]
  },
  {
   "cell_type": "code",
   "execution_count": 101,
   "id": "a1c88c92",
   "metadata": {},
   "outputs": [],
   "source": [
    "x=np.array([('ABC1','DUV001',90,3.78),\n",
    "            ('ABC2','DUV002',90,3.78)],\n",
    "               dtype=[('Name','U20'),('Id','U10'),('Marks','i8'),('Gpa','f4')])"
   ]
  },
  {
   "cell_type": "code",
   "execution_count": 102,
   "id": "313d215c",
   "metadata": {},
   "outputs": [
    {
     "data": {
      "text/plain": [
       "array([('ABC1', 'DUV001', 90, 3.78), ('ABC2', 'DUV002', 90, 3.78)],\n",
       "      dtype=[('Name', '<U20'), ('Id', '<U10'), ('Marks', '<i8'), ('Gpa', '<f4')])"
      ]
     },
     "execution_count": 102,
     "metadata": {},
     "output_type": "execute_result"
    }
   ],
   "source": [
    "x"
   ]
  },
  {
   "cell_type": "code",
   "execution_count": 103,
   "id": "77071a86",
   "metadata": {},
   "outputs": [
    {
     "data": {
      "text/plain": [
       "(2,)"
      ]
     },
     "execution_count": 103,
     "metadata": {},
     "output_type": "execute_result"
    }
   ],
   "source": [
    "x.shape"
   ]
  },
  {
   "cell_type": "code",
   "execution_count": 104,
   "id": "94c2665b",
   "metadata": {},
   "outputs": [
    {
     "data": {
      "text/plain": [
       "dtype([('Name', '<U20'), ('Id', '<U10'), ('Marks', '<i8'), ('Gpa', '<f4')])"
      ]
     },
     "execution_count": 104,
     "metadata": {},
     "output_type": "execute_result"
    }
   ],
   "source": [
    "x.dtype"
   ]
  },
  {
   "cell_type": "code",
   "execution_count": 105,
   "id": "53399242",
   "metadata": {},
   "outputs": [
    {
     "data": {
      "text/plain": [
       "('ABC1', 'DUV001', 90, 3.78)"
      ]
     },
     "execution_count": 105,
     "metadata": {},
     "output_type": "execute_result"
    }
   ],
   "source": [
    "x[0]"
   ]
  },
  {
   "cell_type": "code",
   "execution_count": 106,
   "id": "174f19e3",
   "metadata": {},
   "outputs": [
    {
     "data": {
      "text/plain": [
       "array(['ABC1', 'ABC2'], dtype='<U20')"
      ]
     },
     "execution_count": 106,
     "metadata": {},
     "output_type": "execute_result"
    }
   ],
   "source": [
    "x['Name']"
   ]
  },
  {
   "cell_type": "code",
   "execution_count": 109,
   "id": "aaeeac78",
   "metadata": {},
   "outputs": [
    {
     "data": {
      "text/plain": [
       "array([('ABC1', 'DUV001'), ('ABC2', 'DUV002')],\n",
       "      dtype={'names':['Name','Id'], 'formats':['<U20','<U10'], 'offsets':[0,80], 'itemsize':132})"
      ]
     },
     "execution_count": 109,
     "metadata": {},
     "output_type": "execute_result"
    }
   ],
   "source": [
    "x[['Name','Id']]"
   ]
  },
  {
   "cell_type": "markdown",
   "id": "4277fe4b",
   "metadata": {},
   "source": [
    "### practice on structured arrays"
   ]
  },
  {
   "cell_type": "code",
   "execution_count": 111,
   "id": "91ce4af3",
   "metadata": {},
   "outputs": [],
   "source": [
    "arr=np.array([('Manager',30,'1992',200000),\n",
    "             ('GeneralManager',26,'1982',100000),\n",
    "             ('DataScientist',25,'1992',200000)],\n",
    "            dtype=[('EmployeeType','U30'),('Age','i8'),('Birth Year','U20'),('Salary','i1')])"
   ]
  },
  {
   "cell_type": "code",
   "execution_count": 112,
   "id": "7db1be38",
   "metadata": {},
   "outputs": [
    {
     "data": {
      "text/plain": [
       "array([('Manager', 30, '1992',  64), ('GeneralManager', 26, '1982', -96),\n",
       "       ('DataScientist', 25, '1992',  64)],\n",
       "      dtype=[('EmployeeType', '<U30'), ('Age', '<i8'), ('Birth Year', '<U20'), ('Salary', 'i1')])"
      ]
     },
     "execution_count": 112,
     "metadata": {},
     "output_type": "execute_result"
    }
   ],
   "source": [
    "arr"
   ]
  },
  {
   "cell_type": "code",
   "execution_count": 113,
   "id": "ba01657c",
   "metadata": {},
   "outputs": [
    {
     "data": {
      "text/plain": [
       "(3,)"
      ]
     },
     "execution_count": 113,
     "metadata": {},
     "output_type": "execute_result"
    }
   ],
   "source": [
    "arr.shape"
   ]
  },
  {
   "cell_type": "code",
   "execution_count": 114,
   "id": "084b3a3f",
   "metadata": {},
   "outputs": [
    {
     "data": {
      "text/plain": [
       "array(['Manager', 'GeneralManager', 'DataScientist'], dtype='<U30')"
      ]
     },
     "execution_count": 114,
     "metadata": {},
     "output_type": "execute_result"
    }
   ],
   "source": [
    "arr['EmployeeType']"
   ]
  },
  {
   "cell_type": "code",
   "execution_count": 115,
   "id": "6f055105",
   "metadata": {},
   "outputs": [
    {
     "data": {
      "text/plain": [
       "dtype([('EmployeeType', '<U30'), ('Age', '<i8'), ('Birth Year', '<U20'), ('Salary', 'i1')])"
      ]
     },
     "execution_count": 115,
     "metadata": {},
     "output_type": "execute_result"
    }
   ],
   "source": [
    "arr.dtype"
   ]
  },
  {
   "cell_type": "code",
   "execution_count": 116,
   "id": "9c5b584f",
   "metadata": {},
   "outputs": [
    {
     "data": {
      "text/plain": [
       "dtype('<U30')"
      ]
     },
     "execution_count": 116,
     "metadata": {},
     "output_type": "execute_result"
    }
   ],
   "source": [
    "arr['EmployeeType'].dtype"
   ]
  },
  {
   "cell_type": "code",
   "execution_count": 120,
   "id": "699742fc",
   "metadata": {},
   "outputs": [
    {
     "data": {
      "text/plain": [
       "array([('Manager', 30,  64), ('GeneralManager', 26, -96),\n",
       "       ('DataScientist', 25,  64)],\n",
       "      dtype={'names':['EmployeeType','Age','Salary'], 'formats':['<U30','<i8','i1'], 'offsets':[0,120,208], 'itemsize':209})"
      ]
     },
     "execution_count": 120,
     "metadata": {},
     "output_type": "execute_result"
    }
   ],
   "source": [
    "arr[['EmployeeType','Age','Salary']]"
   ]
  },
  {
   "cell_type": "code",
   "execution_count": null,
   "id": "9d84e4e5",
   "metadata": {},
   "outputs": [],
   "source": [
    " "
   ]
  }
 ],
 "metadata": {
  "kernelspec": {
   "display_name": "Python 3",
   "language": "python",
   "name": "python3"
  },
  "language_info": {
   "codemirror_mode": {
    "name": "ipython",
    "version": 3
   },
   "file_extension": ".py",
   "mimetype": "text/x-python",
   "name": "python",
   "nbconvert_exporter": "python",
   "pygments_lexer": "ipython3",
   "version": "3.8.8"
  }
 },
 "nbformat": 4,
 "nbformat_minor": 5
}
